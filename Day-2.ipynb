{
 "cells": [
  {
   "cell_type": "markdown",
   "id": "2b0e43ff",
   "metadata": {},
   "source": [
    "# _python의 데이터 타입 : 숫자, 문자열, 불리언_\n",
    "<hr/>\n",
    "input(), print(), int(), float(), str()  \n",
    "식별자 : 키워드 사용 불가, 문자로 시작, 숫자 포함 가능, 대소문자 구별  \n",
    "변수와 함수를 구별하는 방법 : 함수는 'print()' 처럼 식별자 뒤에 ()가 있음  \n",
    "클래스 BeautifulSoup() : 캐멀타입의 식별자  \n",
    "\n",
    "문자열 slice 하는 방법 : 인덱스를 사용. ex) 변수명 [1]  \n",
    "문) 문자를 입력받아 2번째부터 5글자만 잘라서 화면에 출력하세요  "
   ]
  },
  {
   "cell_type": "code",
   "execution_count": null,
   "id": "80d8f465",
   "metadata": {},
   "outputs": [],
   "source": [
    "# input_str = input(\"6글자이상 문자를 입력 :\")\n",
    "\n",
    "print(input_str[1:6]) # index는 0부터 시작\n",
    "print(input_str[-3:])\n",
    "print(input_str[-1]) # 요게 자주 쓰임"
   ]
  },
  {
   "cell_type": "markdown",
   "id": "55da1268",
   "metadata": {},
   "source": [
    "어제 복습 끝"
   ]
  },
  {
   "cell_type": "code",
   "execution_count": 8,
   "id": "388754ed",
   "metadata": {},
   "outputs": [
    {
     "name": "stdout",
     "output_type": "stream",
     "text": [
      "입력된 숫자는 10\n",
      "입력된 숫자는 30 format data type : <class 'str'>\n"
     ]
    },
    {
     "data": {
      "text/plain": [
       "'입력된 숫자는 10 20 입니다이'"
      ]
     },
     "execution_count": 8,
     "metadata": {},
     "output_type": "execute_result"
    }
   ],
   "source": [
    "# format() 함수로 숫자를 문자열로 변환하기\n",
    "\n",
    "print(\"입력된 숫자는 {}\".format(10)) # 함수3(함수2(함수1()))\n",
    "a_str = \"입력된 숫자는 {}\".format(30)\n",
    "print(a_str, \"format data type :\", type(a_str))\n",
    "\"입력된 숫자는 {} {} 입니다이\".format(10,20)"
   ]
  },
  {
   "cell_type": "code",
   "execution_count": 20,
   "id": "d18d6075",
   "metadata": {},
   "outputs": [
    {
     "data": {
      "text/plain": [
       "'입력된 숫자는 30와 50입니다'"
      ]
     },
     "execution_count": 20,
     "metadata": {},
     "output_type": "execute_result"
    }
   ],
   "source": [
    "a_str\n",
    "len(a_str) # 문자열의 길이를 구하는 함수\n",
    "input_str = \"입력된 숫자는 {}와 {}입니다\"\n",
    "input_str.format(30,50)\n",
    "# Ctrl+Shift+'-' 입력 : 셀 나눔"
   ]
  },
  {
   "cell_type": "code",
   "execution_count": 23,
   "id": "31fe98d3",
   "metadata": {},
   "outputs": [
    {
     "name": "stdout",
     "output_type": "stream",
     "text": [
      "두 수를 입력하세요 >1 8\n",
      "입력된 숫자는 1와 8입니다\n"
     ]
    }
   ],
   "source": [
    "input_data = input(\"두 수를 입력하세요 >\")\n",
    "input_num1 = input_data[0]\n",
    "input_num2 = input_data[2] #띄어쓰기가 1이니까 띄어쓰기 0 다다음인 2 입력\n",
    "print(input_str.format(input_num1, input_num2))"
   ]
  },
  {
   "cell_type": "markdown",
   "id": "3cb7d80e",
   "metadata": {},
   "source": [
    "format() 함수의 정수 출력"
   ]
  },
  {
   "cell_type": "code",
   "execution_count": 26,
   "id": "817e472d",
   "metadata": {},
   "outputs": [
    {
     "name": "stdout",
     "output_type": "stream",
     "text": [
      "# 기본\n",
      "52\n",
      "# 특정 칸에 출력하기\n",
      "   52\n",
      "        52\n",
      "# 빈칸을 0으로 채우기\n",
      "00052\n",
      "-0052\n"
     ]
    }
   ],
   "source": [
    "# 정수를 특정 칸에 출력하기\n",
    "# 정수\n",
    "output_a = \"{:d}\".format(52)\n",
    "\n",
    "# 특정 칸에 출력하기\n",
    "output_b = \"{:5d}\".format(52)   # 5칸\n",
    "output_c = \"{:10d}\".format(52)  # 10칸\n",
    "\n",
    "# 빈칸을 0으로 채우기\n",
    "output_d = \"{:05d}\".format(52)   # 양수\n",
    "output_e = \"{:05d}\".format(-52)  # 음수\n",
    "\n",
    "print(\"# 기본\")\n",
    "print(output_a)\n",
    "print(\"# 특정 칸에 출력하기\")\n",
    "print(output_b)\n",
    "print(output_c)\n",
    "print(\"# 빈칸을 0으로 채우기\")\n",
    "print(output_d)\n",
    "print(output_e)"
   ]
  },
  {
   "cell_type": "markdown",
   "id": "f529b431",
   "metadata": {},
   "source": [
    "                                        기호 붙여 출력하기"
   ]
  },
  {
   "cell_type": "code",
   "execution_count": 27,
   "id": "80de1c72",
   "metadata": {},
   "outputs": [
    {
     "name": "stdout",
     "output_type": "stream",
     "text": [
      "# 기호와 함께 출력하기\n",
      "+52\n",
      "-52\n",
      " 52\n",
      "-52\n",
      "# 조합하기\n",
      "  +52\n",
      "  -52\n",
      "+  52\n",
      "-  52\n",
      "+0052\n",
      "-0052\n"
     ]
    }
   ],
   "source": [
    "# 기호와 함께 출력하기\n",
    "output_f = \"{:+d}\".format(52)   # 양수\n",
    "output_g = \"{:+d}\".format(-52)  # 음수\n",
    "output_h = \"{: d}\".format(52)   # 양수: 기호 부분 공백\n",
    "output_i = \"{: d}\".format(-52)  # 음수: 기호 부분 공백\n",
    "\n",
    "print(\"# 기호와 함께 출력하기\")\n",
    "print(output_f)\n",
    "print(output_g)\n",
    "print(output_h)\n",
    "print(output_i)\n",
    "\n",
    "# 조합하기\n",
    "output_h = \"{:+5d}\".format(52)      # 기호를 뒤로 밀기 : 양수\n",
    "output_i = \"{:+5d}\".format(-52)     # 기호를 뒤로 밀기 : 음수\n",
    "output_j = \"{:=+5d}\".format(52)     # 기호를 앞으로 밀기 : 양수\n",
    "output_k = \"{:=+5d}\".format(-52)    # 기호를 앞으로 밀기 : 음수\n",
    "output_l = \"{:+05d}\".format(52)     # 0으로 채우기 : 양수\n",
    "output_m = \"{:+05d}\".format(-52)    # 0으로 채우기 : 음수\n",
    "\n",
    "print(\"# 조합하기\")\n",
    "print(output_h)\n",
    "print(output_i)\n",
    "print(output_j)\n",
    "print(output_k)\n",
    "print(output_l)\n",
    "print(output_m)"
   ]
  },
  {
   "cell_type": "markdown",
   "id": "9cca7caa",
   "metadata": {},
   "source": [
    "                                    float 자료형 기본"
   ]
  },
  {
   "cell_type": "code",
   "execution_count": 30,
   "id": "9d91ea29",
   "metadata": {},
   "outputs": [
    {
     "name": "stdout",
     "output_type": "stream",
     "text": [
      "52.273000\n",
      "      52.273000\n",
      "     +52.273000\n",
      "00000052.273000\n",
      "         52.273\n",
      "          52.27\n",
      "           52.3\n"
     ]
    }
   ],
   "source": [
    "output_a = \"{:f}\".format(52.273)\n",
    "output_b = \"{:15f}\".format(52.273)       # 15칸 만들기\n",
    "output_c = \"{:+15f}\".format(52.273)      # 15칸에 부호 추가하기\n",
    "output_d = \"{:015f}\".format(52.273)      # 15칸에 부호 추가하고 0으로 채우기\n",
    "\n",
    "print(output_a)\n",
    "print(output_b)\n",
    "print(output_c)\n",
    "print(output_d)\n",
    "\n",
    "#소수점 아래 자릿수 지정\n",
    "output_a=\"{:15.3f}\".format(52.273)\n",
    "output_b=\"{:15.2f}\".format(52.273)\n",
    "output_c=\"{:15.1f}\".format(52.273)\n",
    "\n",
    "print(output_a)\n",
    "print(output_b)\n",
    "print(output_c)\n"
   ]
  },
  {
   "cell_type": "code",
   "execution_count": 39,
   "id": "480aa852",
   "metadata": {},
   "outputs": [
    {
     "name": "stdout",
     "output_type": "stream",
     "text": [
      "           HELLO PYTHON PROGRAMMING             \n",
      "           hello python programming             \n",
      "-           Hello python programming             -\n",
      "-Hello python programming-\n",
      "-Hello python programming             -\n",
      "-           Hello python programming-\n",
      "False\n"
     ]
    }
   ],
   "source": [
    "# 문자열 관련 함수 : upper(), lower(), strip(), lstrip(), rstrip()\n",
    "a_str = \"           Hello python programming             \"\n",
    "print(a_str.upper())\n",
    "print(a_str.lower())\n",
    "print(\"-{}-\".format(a_str))\n",
    "print(\"-{}-\".format(a_str.strip()))\n",
    "print(\"-{}-\".format(a_str.lstrip()))\n",
    "print(\"-{}-\".format(a_str.rstrip()))\n",
    "\n",
    "print(a_str.isalnum())  # isalnum() : alphabet or number"
   ]
  },
  {
   "cell_type": "markdown",
   "id": "93e788b7",
   "metadata": {},
   "source": [
    "                                   \n",
    "* 문자열 찾기 : find(), rfind()  \n",
    "find() : 왼쪽부터 찾아서 처음 등장하는 위치 찾음  \n",
    "rfind() : 오른쪽부터 찾아서 처음 등장하는 위치 찾음  \n",
    "\n",
    "* in 연산자 : 문자열 내부에 어떤 문자열이 있는지 확인하기 위한 연산자. True, False로 나옴  \n",
    "ex) print(\"안녕\" in \"안녕하세요\") >> True  \n",
    "print(\"잘자\" in \"안녕하세요\") >> False\n",
    "                                    "
   ]
  },
  {
   "cell_type": "code",
   "execution_count": 54,
   "id": "9f4ba9c2",
   "metadata": {},
   "outputs": [
    {
     "name": "stdout",
     "output_type": "stream",
     "text": [
      "Index :  1 H\n",
      "Index :  7 H\n",
      "True\n",
      "False\n",
      "a_split :  ['Hello', 'Hel', 'hel']\n",
      "b_split :   Hello,Hel,hel \n"
     ]
    }
   ],
   "source": [
    "# find(), rfind(), in, split() 함수 알아보기\n",
    "\n",
    "a_str = \" Hello Hel hel \"\n",
    "print(\"Index : \",a_str.find(\"Hel\"), a_str[a_str.find(\"Hel\")]) # 단어가 나오는 첫번째 index를 return 결과로 준다.\n",
    "print(\"Index : \",a_str.rfind(\"Hel\"), a_str[a_str.rfind(\"Hel\")])\n",
    "\n",
    "print(\"hel\" in a_str)  # 원하는 단어가 문장에 있는지 검색\n",
    "print(\"HEL\" in a_str)\n",
    "\n",
    "a_split = a_str.split()   # 공백으로 문자열을 분리 후 리스트로 반환\n",
    "print(\"a_split : \", a_split)\n",
    "b_split = \" Hello,Hel,hel \"\n",
    "b_split.split(',')\n",
    "print(\"b_split : \", b_split)"
   ]
  },
  {
   "cell_type": "markdown",
   "id": "93241d5d",
   "metadata": {},
   "source": [
    "문) 키보드에서 두 숫자를 입력받아 두 숫자의 나눈 결과를 계산해서 화면에 출력\n",
    "\n",
    "자리수는 소수점 미만 2자리까지 표현해서 출력.\n",
    "\n",
    "-입력함수(input()), 문자를 실수로 변환시켜주는 함수(float()), 문자를 분리하는 함수(split())"
   ]
  },
  {
   "cell_type": "code",
   "execution_count": 65,
   "id": "50f0022e",
   "metadata": {},
   "outputs": [
    {
     "name": "stdout",
     "output_type": "stream",
     "text": [
      " 두 수를 입력 > 20 3\n",
      "20.0  /  3.0  =    6.667\n"
     ]
    },
    {
     "data": {
      "text/plain": [
       "'20.0 / 3.0 =   6.667'"
      ]
     },
     "execution_count": 65,
     "metadata": {},
     "output_type": "execute_result"
    }
   ],
   "source": [
    "# 1. 문자 입력\n",
    "input_str = input(\" 두 수를 입력 > \")\n",
    "# 2. 문자를 분리( 두 개의 숫자(문자)로)\n",
    "# 3. 문자를 숫자로 변환\n",
    "split_str = input_str.split()\n",
    "input_num1 = float(split_str[0])\n",
    "input_num2 = float(split_str[1])\n",
    "\n",
    "# 4. 계산해서 결과 출력\n",
    "print(input_num1, \" / \", input_num2, \" = \",  \"{:7.3f}\".format(input_num1/input_num2))\n",
    "\"{} / {} = {:7.3f}\".format(input_num1, input_num2, input_num1/input_num2)"
   ]
  },
  {
   "cell_type": "markdown",
   "id": "9fd7fde7",
   "metadata": {},
   "source": [
    "# Chap 3 : 조건문"
   ]
  },
  {
   "cell_type": "code",
   "execution_count": 75,
   "id": "efca19e2",
   "metadata": {},
   "outputs": [
    {
     "name": "stdout",
     "output_type": "stream",
     "text": [
      "under_20 : True\n",
      "not under_20 : False\n"
     ]
    }
   ],
   "source": [
    "# '=' : 대입 / '==' : 같다 / '!=' : 다르다\n",
    "\n",
    "# 예시 -not 연산자 조합하기\n",
    "x = 10\n",
    "under_20 = x < 20\n",
    "print(\"under_20 :\", under_20)\n",
    "print(\"not under_20 :\", not under_20)"
   ]
  },
  {
   "cell_type": "code",
   "execution_count": 83,
   "id": "d839e265",
   "metadata": {},
   "outputs": [
    {
     "name": "stdout",
     "output_type": "stream",
     "text": [
      "숫자 두 개 입력해보세요 > 9 1\n",
      "False\n",
      "True\n",
      "True\n"
     ]
    }
   ],
   "source": [
    "# 문) 키보드에서 두 수를 입력받아 두 수가 같으면 True를, 다르면 False를 출력\n",
    "input_str = input(\"숫자 두 개 입력해보세요 > \")\n",
    "split_num = input_str.split()\n",
    "print(split_num[0] == split_num[1])\n",
    "print(int(split_num[0]) < 10 and int(split_num[1]) < 10) # 둘 다 true면 true 아니면 false\n",
    "print(int(split_num[0]) < 10 or int(split_num[1] < 10 ))"
   ]
  },
  {
   "cell_type": "markdown",
   "id": "62a13b70",
   "metadata": {},
   "source": [
    "\n",
    "## if 조건문\n",
    "<hr/>\n",
    "조건에 따라 코드 실행하거나 실행하지 않게 할 때 사용하는 구문\n",
    "\n",
    "**들여쓰기(tab) 필수**"
   ]
  },
  {
   "cell_type": "code",
   "execution_count": null,
   "id": "5adc6113",
   "metadata": {},
   "outputs": [],
   "source": [
    "if True:\n",
    "    print(\"조건문 처리 \")\n",
    "    print(\"조건문 처리111\")\n",
    "if False:\n",
    "    print(\"조건문 처리222\")\n",
    "    print(\"조건문 처리333\")\n",
    "print(\"조건문 나옴 \")\n",
    "\n",
    "if (10 == 100) and (20 < 100):\n",
    "    print(\"and False\")\n",
    "if (10 == 100) or (20 < 100):\n",
    "    print(\" or True \")"
   ]
  },
  {
   "cell_type": "code",
   "execution_count": 91,
   "id": "296ebd5c",
   "metadata": {},
   "outputs": [],
   "source": [
    "#문) \n",
    "#1. 두 수를 입력받아 두 수가 0보다 크면 두 수의 합을 출력\n",
    "#2. 두 수 중 큰 수에서 작은 수를 뺀 결과 출력\n",
    "#3. 두 수 중 0이 없으면 작은 수를 큰 수로 나눈 나머지 값 출력"
   ]
  },
  {
   "cell_type": "code",
   "execution_count": 2,
   "id": "0827da7c",
   "metadata": {},
   "outputs": [
    {
     "name": "stdout",
     "output_type": "stream",
     "text": [
      " 숫자 입력 >3\n",
      " 숫자 입력 >4\n",
      "문1 3 + 4 = 7\n",
      "문21 4 - 3 = 1\n",
      "문31 4  %  3 = 1\n"
     ]
    }
   ],
   "source": [
    "num1 = int(input(\" 숫자 입력 >\"));\n",
    "num2 = int(input(\" 숫자 입력 >\"))\n",
    "if num1 >0 and num2 >0 :\n",
    "    print(\"문1\",num1, \"+\", num2, \"=\", num1+num2)\n",
    "if num1 > num2:\n",
    "    print(\"문2\", num1, \"-\", num, \"=\", num1-num2)\n",
    "if num1 < num2:\n",
    "    print(\"문21\", num2, \"-\", num1, \"=\", num2-num1)\n",
    "if num1 !=0 and num2 !=0 :\n",
    "    if num1 > num2:\n",
    "        print(\"문3\",num1, \" % \", num2, \"=\", num1%num2)\n",
    "    if num1 < num2:\n",
    "        print(\"문31\",num2, \" % \", num1, \"=\", num2%num1)"
   ]
  },
  {
   "cell_type": "code",
   "execution_count": 3,
   "id": "607819af",
   "metadata": {},
   "outputs": [
    {
     "name": "stdout",
     "output_type": "stream",
     "text": [
      "문21 4 - 3 = 1\n",
      "문31 4  %  3 = 1\n"
     ]
    }
   ],
   "source": [
    "#  위 문제를 if ~ else로 변환\n",
    "if num1 > num2:\n",
    "    print(\"문2\", num1, \"-\", num, \"=\", num1-num2)\n",
    "else:\n",
    "    print(\"문21\", num2, \"-\", num1, \"=\", num2-num1)\n",
    "if num1 !=0 and num2 !=0 :\n",
    "    if num1 > num2:\n",
    "        print(\"문3\",num1, \" % \", num2, \"=\", num1%num2)\n",
    "    else:\n",
    "        print(\"문31\",num2, \" % \", num1, \"=\", num2%num1)"
   ]
  },
  {
   "cell_type": "markdown",
   "id": "5d54d652",
   "metadata": {},
   "source": [
    "### 날짜/시간 출력하기\n",
    "<hr/>\n",
    "-날짜/시간 관련 기능 가져오기 : import datetime\n",
    "\n",
    "-현재 날짜/시간 구하기\n",
    "now = datetime.datetime.now()\n",
    "\n",
    "-출력\n",
    "now = dt.datetime.now()\n",
    "\n",
    "print(now.year,\"년\")\n",
    "\n",
    "print(now.month, \"월\")\n",
    "\n",
    "print(now.day, \"일\")\n",
    "\n",
    "print(now.hour, \"시\")\n",
    "\n",
    "print(now.minute, \"분\")\n",
    "\n",
    "print(now.sencond, \"초\")\n",
    "\n",
    "\n",
    "#datetime 패키지 사용 import 패키지명, import 패키지명 as 약어(alias명)\n",
    "#패키지명.함수명\n",
    "#import datetime as dt\n"
   ]
  },
  {
   "cell_type": "code",
   "execution_count": 122,
   "id": "8f2ce557",
   "metadata": {},
   "outputs": [
    {
     "name": "stdout",
     "output_type": "stream",
     "text": [
      "2021 년\n",
      "9 월\n",
      "17 일\n",
      "12 시\n",
      "45 분\n",
      "28 초\n"
     ]
    }
   ],
   "source": [
    "import datetime as dt\n",
    "\n",
    "now = dt.datetime.now()\n",
    "print(now.year,\"년\")\n",
    "print(now.month,\"월\")\n",
    "print(now.day,\"일\")\n",
    "print(now.hour,\"시\")\n",
    "print(now.minute,\"분\")\n",
    "print(now.second,\"초\")\n",
    "\n",
    "#오전수업 끝"
   ]
  },
  {
   "cell_type": "markdown",
   "id": "c230dfac",
   "metadata": {},
   "source": [
    "## _if~else와 elif 구문_\n",
    "<hr/>\n",
    "\n",
    "* else 구문 : if 조건문 뒤에 사용, if 조건문의 조건이 거짓일 때 실행되는 부분이다.\n",
    "\n",
    "if 표현식:  \n",
    "    처리1  \n",
    "else:  \n",
    "    처리2  "
   ]
  },
  {
   "cell_type": "code",
   "execution_count": 6,
   "id": "f2f4503f",
   "metadata": {},
   "outputs": [
    {
     "name": "stdout",
     "output_type": "stream",
     "text": [
      "False\n",
      "False\n"
     ]
    }
   ],
   "source": [
    "# 0은 false로 출력된다\n",
    "if 0:\n",
    "    print(True)\n",
    "else:\n",
    "    print(False)  # 실행\n",
    "if \"\":\n",
    "    print(True)\n",
    "else:\n",
    "    print(False)  # 실행"
   ]
  },
  {
   "cell_type": "code",
   "execution_count": 22,
   "id": "82483726",
   "metadata": {},
   "outputs": [
    {
     "name": "stdout",
     "output_type": "stream",
     "text": [
      "성적 입력 >90\n",
      "B\n"
     ]
    }
   ],
   "source": [
    "# if, if ~ else, if ~ elif ~...else\n",
    "# 성적을 입력 받아 등급을 부여해서 출력\n",
    "# 60미만은 F, 61~70 D, 71~80 C, 89~90 B, 91~100 A\n",
    "\n",
    "score = float(input(\"성적 입력 >\"))\n",
    "if 90 < score :\n",
    "    print(\"A\")\n",
    "elif 80 < score:\n",
    "    print(\"B\")\n",
    "elif 70 < score:\n",
    "    print(\"C\")\n",
    "elif 60 < score:\n",
    "    print(\"D\") # print(\"D\")를 나중에 채우려면 비워두는 대신 pass를 입력한다.\n",
    "else:\n",
    "    print(\"F\")\n",
    "    "
   ]
  },
  {
   "cell_type": "code",
   "execution_count": 38,
   "id": "5d2200da",
   "metadata": {},
   "outputs": [
    {
     "name": "stdout",
     "output_type": "stream",
     "text": [
      "함 입력해보셈 :>10 + 8\n",
      "10 + 8 = 18\n"
     ]
    }
   ],
   "source": [
    "# 문) 숫자 연산자기호 숫자를 입력받아 연산자 기호가 '+'이면 두 숫자의 합을\n",
    "# '-'이면 두 수의 차를, '*'이면 두 수의 곱을, 아니면 \"기호 오류\" 문자 출력\n",
    "\n",
    "input_str= input(\"함 입력해보셈 :>\")\n",
    "num1 = int(input_str.split()[0])\n",
    "buho = input_str.split()[1]\n",
    "num2 = int(input_str.split()[2])\n",
    "comp_var = \"{} {} {} =\".format(num1,buho,num2)\n",
    "\n",
    "if buho == \"+\":\n",
    "    print(comp_var, num1+num2)\n",
    "elif buho == \"-\":\n",
    "    print(comp_var, num1-num2)\n",
    "elif buho == \"*\":\n",
    "    print(comp_var, num1*num2)\n",
    "else:\n",
    "    print(\"기호 오류\")\n",
    "\n",
    "# split() => 공백으로 구분하기때문에 input 값에 띄어쓰기 꼭 넣어야함\n",
    "# 같은 원리로 split(\",\") 일 경우엔 ,를 넣어야함\n",
    "# ex) 5 + 9, 10 * 5 ..."
   ]
  },
  {
   "cell_type": "markdown",
   "id": "5562fccd",
   "metadata": {},
   "source": [
    "### 'raise NotImplementError'  \n",
    "pass 키워드를 입력해 놨어도 잊어버리는 경우가 많음  \n",
    "raise 키워드와 미구현 상태를 표현하는 NotImplementError를 조합해  \n",
    "raise NotImplementError를 사용하면 아직 구현하지 않은 부분이라는 오류를 강제로 발생시킬 수 있다.  "
   ]
  },
  {
   "cell_type": "markdown",
   "id": "9dd46946",
   "metadata": {},
   "source": [
    "### List : [ ]에 자료를 쉼표로 구분해서 입력. 내부에 넣는 자료는 '요소' 영어로 'element'라고 부름.\n",
    "### Index : 리스트 기호인 [ ] 안에 들어간 숫자\n",
    "### list 추가 : list명.append(), list명.insert(index, 추가 데이터), list명.extend(추가할 리스트)"
   ]
  },
  {
   "cell_type": "code",
   "execution_count": 62,
   "id": "a8bd1484",
   "metadata": {},
   "outputs": [
    {
     "name": "stdout",
     "output_type": "stream",
     "text": [
      "[1, 2, 3, 4, 5, 6]\n",
      "[1, 2, 3, 1, 2, 3, 1, 2, 3]\n",
      "['abc', 'test', 123, True, 78, 'python', [1, 2, 3], 'add']\n",
      "['abc', 'test', 'insert data', 123, True, 78, 'python', [1, 2, 3], 'add']\n",
      "[1, 2, 3]\n",
      "[1, 2, 3, 4, 5, 6]\n",
      "6\n"
     ]
    },
    {
     "data": {
      "text/plain": [
       "['abc', 'test', 'insert data', 123, True, 78, 'python', [1, 2, 3]]"
      ]
     },
     "execution_count": 62,
     "metadata": {},
     "output_type": "execute_result"
    }
   ],
   "source": [
    "a_list = [ \"abc\", \"test\", 123, True, 78, \"python\",[1,2,3] ]\n",
    "a_list[0] # \"abc\"\n",
    "a_list[0][0]  # 'a'\n",
    "a_list[-1][-2] # 't', 3\n",
    "\n",
    "b_list = [1,2,3]; c_list = [4,5,6]\n",
    "print(b_list + c_list)  # list 연산 '+' -> 두 개의 리스트 결합. '*' -> 반복'\n",
    "print(b_list*3)\n",
    "\n",
    "a_list.append(\"add\") # append() : 리스트의 마지막에 요소 추가\n",
    "print(a_list)\n",
    "a_list.insert(2, \"insert data\")  # insert(a,b) : 리스트의 a위치에 b요소 추가\n",
    "print(a_list)\n",
    "len(a_list)\n",
    "print(b_list)\n",
    "b_list.extend(c_list) # extend : b리스트에 c리스트의 값을 추가, 기존의 데이터 변경.\n",
    "print(b_list)\n",
    "print(b_list.pop()) # 맨 마지막 요소 삭제\n",
    "b_list\n",
    "del a_list[-1]  # 맨 마지막 요소[-1] 삭제\n",
    "a_list"
   ]
  },
  {
   "cell_type": "markdown",
   "id": "c2ef8dea",
   "metadata": {},
   "source": [
    "\n",
    "### list 삭제 : list명.pop() > 마지막 요소 삭제, list명.pop(2:index)  del list명[index]\n",
    "### list 값으로 삭제 : list명.remove(값)\n",
    "### list의 모든 값 삭제 : list명.clear()"
   ]
  },
  {
   "cell_type": "code",
   "execution_count": 71,
   "id": "d0e8d4cf",
   "metadata": {},
   "outputs": [
    {
     "name": "stdout",
     "output_type": "stream",
     "text": [
      "데이터 입력 > 1 2 3 4 5 \n",
      "z_list 111 :  ['1', '2', '3', '4', '5'] 5\n",
      "5\n",
      "z_list 222 :  4\n",
      "데이터 입력2 >a b c d e\n",
      "z_list 333 :  ['1', '2', '3', '4', 'a', 'b', 'c', 'd', 'e']\n",
      "z_list 444 :  []\n"
     ]
    }
   ],
   "source": [
    "#문) 여러 개의 데이터를 입력 받아 리스트로 저장한 후\n",
    "#1. 마지막 데이터를 출력 후 삭제\n",
    "#2. 3번째 인덱스의 값을 출력\n",
    "#3. 추가로 여러 개의 데이터를 입력 받아 기존의 리스트에 추가 후 출력\n",
    "#4. 처음 입력한 데이터의 리스트 변수를 clear\n",
    "\n",
    "z_list = input(\"데이터 입력 > \").split()  #자료 입력\n",
    "print(\"z_list 111 : \", z_list, len(z_list))  # 입력한 자료 리스트 출력, 갯수 출력\n",
    "print(z_list.pop()) # 마지막 데이터 출력, 삭제\n",
    "print(\"z_list 222 : \", z_list[3]) # 3번째 인덱스 값 출력\n",
    "\n",
    "z_list.extend(input(\"데이터 입력2 >\").split()) # 두번째 자료 입력 후 기존 리스트 추가\n",
    "print(\"z_list 333 : \",z_list)\n",
    "z_list.clear()\n",
    "print(\"z_list 444 : \", z_list)"
   ]
  },
  {
   "cell_type": "markdown",
   "id": "70705ff6",
   "metadata": {},
   "source": [
    "# For 반복문 \n",
    "<hr/>\n",
    "- 반복문 : 컴퓨터에 반복 작업을 지시\n",
    "\n",
    "- for 변수 실행범위"
   ]
  },
  {
   "cell_type": "code",
   "execution_count": null,
   "id": "cb953e22",
   "metadata": {},
   "outputs": [],
   "source": [
    "a_list = [ \"abc\", \"test\", 123, True, 78, \"python\",[1,2,3] ]\n",
    "# 반복문 for 변수 in 반복자료:\n",
    "#    처리문\n",
    "for i_var in a_list:\n",
    "    print(i_var)\n",
    "    \n",
    "for i in range(5):  # 5회 반복\n",
    "    print(\"반복\", i)\n",
    "    \n",
    "for char in \"Hello\":\n",
    "    print(char, ' - ')"
   ]
  },
  {
   "cell_type": "code",
   "execution_count": 87,
   "id": "c759f5e0",
   "metadata": {},
   "outputs": [
    {
     "name": "stdout",
     "output_type": "stream",
     "text": [
      "입력 > 1 ea3 5 8w q 7 adf1 3\n",
      "total :  16\n"
     ]
    }
   ],
   "source": [
    "# 키보드로 입력을 받아 리스트에 저장한 후 입력한 자료가 숫자이면 합을 구해서 출력하시오\n",
    "a_list = input(\"입력 > \").split() # input 자료를 리스트로 추가\n",
    "total = 0\n",
    "for var in a_list:\n",
    "    if var.isnumeric(): # 입력된 자료가 숫자인지 확인 isnumeric() : 숫자일경우 true\n",
    "        total += int(var) # 숫자이면 합계 구함\n",
    "print(\"total : \", total)"
   ]
  },
  {
   "cell_type": "code",
   "execution_count": 94,
   "id": "be6e31b0",
   "metadata": {},
   "outputs": [
    {
     "name": "stdout",
     "output_type": "stream",
     "text": [
      "숫자 입력 : 9\n",
      "9 * 1 = 9\n",
      "9 * 2 = 18\n",
      "9 * 3 = 27\n",
      "9 * 4 = 36\n",
      "9 * 5 = 45\n",
      "9 * 6 = 54\n",
      "9 * 7 = 63\n",
      "9 * 8 = 72\n",
      "9 * 9 = 81\n"
     ]
    }
   ],
   "source": [
    "# 숫자를 입력받아 해당하는 숫자의 구구단을 출력 하세요\n",
    "# 3\n",
    "# 3 * 1 = 3\n",
    "# 3 * 2 = 6\n",
    "\n",
    "input_num = int(input(\"숫자 입력 : \"))\n",
    "for i in range(9):   # '9번 반복할게요'\n",
    "    print(\"{} * {} = {}\".format(input_num, i+1, input_num * (i+1))) # i는 0부터 시작하기때문에 +1을 더해서 9번 반복해주면 1~9가 됨"
   ]
  },
  {
   "cell_type": "markdown",
   "id": "c7fe8c75",
   "metadata": {},
   "source": [
    "# 9월 17일 총정리\n",
    "<hr/>\n",
    "\n",
    "1. 숫자와 문자열의 다양한 기능 : .format(), \"{} 문자 {}\".format(1,2)\n",
    "2. 문자열 구성 파악하기 is함수명() -> True 또는 False\n",
    "3. 문자열 자르기 : split()\n",
    "4. 조건문 : if 조건식:, if ~else, if ~ elif 조건식: ... ~ else: (조건식 없음)\n",
    "5. 날짜, 시간 함수 : datetime, import 의미, [import datetime as dt -> alias명을 사용]\n",
    "6. list -> 관련함수 append(), extend(), pop(), insert(), remove(), clear(), del()\n",
    "7. 반복문 -> for 변수 in 리스트:\n",
    "\n",
    "### 정리 문제\n",
    "<hr/>\n",
    "키보드로부터 문자열과 숫자를 입력받아             \n",
    "1. 문자열의 길이와 문자열을 숫자만큼 반복해서 출력         \n",
    "2. 숫자가 짝수이면 1부터 해당하는 수까지의 합을 홀수이면 1부터 해당하는 숫자까지의 곱을 구하시오.      \n",
    "3. 숫자만큼 데이터를 입력받아 리스트에 추가해서 최종 입력 자료 출력  "
   ]
  },
  {
   "cell_type": "code",
   "execution_count": null,
   "id": "09ad9983",
   "metadata": {},
   "outputs": [
    {
     "name": "stdout",
     "output_type": "stream",
     "text": [
      "문자열, 숫자 입력 : ab 3\n",
      "문자열의 길이 : 2 \n",
      "ababab\n",
      "1부터 3까지의 곱은 6\n"
     ]
    }
   ],
   "source": [
    "input_list = input(\"문자열, 숫자 입력 : \").split()\n",
    "input_str = input_list[0]\n",
    "input_num = int(input_list[1])\n",
    "\n",
    "print(\"문자열의 길이 : {} \".format(len(input_str)))\n",
    "print(input_str * input_num)\n",
    "\n",
    "if input_num % 2 == 0:\n",
    "    total = 0\n",
    "    for i in range(input_num+1):\n",
    "        total += i\n",
    "    print(\"1부터 {} 까지의 합은 {}\".format(input_num, total))\n",
    "else:\n",
    "    total = 1\n",
    "    for i in range(input_num):\n",
    "        total *= i+1\n",
    "    print(\"1부터 {}까지의 곱은 {}\".format(input_num, total))\n",
    "    \n",
    "t_list = []  # 빈 리스트 생성\n",
    "for i in range(input_num):\n",
    "    input_data = input(\" 문자 입력 :\")\n",
    "    t_list.append(input_data)    # 입력된 문자열 추가\n",
    "print(\"최종 입력 자료 : \", t_list)\n",
    "    "
   ]
  }
 ],
 "metadata": {
  "kernelspec": {
   "display_name": "Python 3",
   "language": "python",
   "name": "python3"
  },
  "language_info": {
   "codemirror_mode": {
    "name": "ipython",
    "version": 3
   },
   "file_extension": ".py",
   "mimetype": "text/x-python",
   "name": "python",
   "nbconvert_exporter": "python",
   "pygments_lexer": "ipython3",
   "version": "3.8.8"
  }
 },
 "nbformat": 4,
 "nbformat_minor": 5
}
