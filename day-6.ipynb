{
 "cells": [
  {
   "cell_type": "markdown",
   "id": "cfc63d21",
   "metadata": {},
   "source": [
    "# 클래스\n",
    ": 객체를 조금 더 효율적으로 생성하기 위해 만들어진 구문<br/>\n",
    "\n",
    "class 클래스 이름 :<br/>\n",
    "    클래스 내용<br/>\n",
    "\n",
    "인스턴스 이름(변수 이름) = 클래스 이름() -> 생성자 함수<br/>\n",
    "- 객체 지향 프로그래밍<br/>\n",
    " : 객체를 우선으로 생각해서 프로그래밍 하는 것\n"
   ]
  },
  {
   "cell_type": "code",
   "execution_count": null,
   "id": "892a7af2",
   "metadata": {},
   "outputs": [],
   "source": [
    "# class와 object \n",
    "# 학생 리스트를 선언합니다.\n",
    "students = [\n",
    "    { \"name\": \"윤인성\", \"korean\": 87, \"math\": 98, \"english\": 88, \"science\": 95 },\n",
    "    { \"name\": \"연하진\", \"korean\": 92, \"math\": 98, \"english\": 96, \"science\": 98 },\n",
    "    { \"name\": \"구지연\", \"korean\": 76, \"math\": 96, \"english\": 94, \"science\": 90 },\n",
    "    { \"name\": \"나선주\", \"korean\": 98, \"math\": 92, \"english\": 96, \"science\": 92 },\n",
    "    { \"name\": \"윤아린\", \"korean\": 95, \"math\": 98, \"english\": 98, \"science\": 98 },\n",
    "    { \"name\": \"윤명월\", \"korean\": 64, \"math\": 88, \"english\": 92, \"science\": 92 }\n",
    "]\n",
    "\n",
    "# 학생을 한 명씩 반복\n",
    "print(\"이름\", \"총점\", \"평균\", sep='\\t')\n",
    "\n",
    "for student in students:\n",
    "    # 점수의 총합과 평균을 구함\n",
    "    sco_sum = student[\"korean\"]+student[\"math\"]+student[\"english\"] +\\\n",
    "              student[\"science\"]\n",
    "    sco_avg = sco_sum / 4\n",
    "    print(student[\"name\"], sco_sum, sco_avg, sep='\\t')"
   ]
  },
  {
   "cell_type": "code",
   "execution_count": null,
   "id": "71a3ab55",
   "metadata": {},
   "outputs": [],
   "source": [
    "# 딕셔너리를 리턴하는 함수를 선언\n",
    "def create_student(name, korean, math, english, science):\n",
    "    return {\n",
    "        \"name\" : name,\n",
    "        \"korean\" : korean,\n",
    "        \"english\" : english,\n",
    "        \"math\" : math,\n",
    "        \"science\" : science\n",
    "    }\n",
    "students = [\n",
    "    create_student(\"윤인성\", 87, 98, 88, 95),\n",
    "    create_student(\"연하진\", 92, 98, 96, 98),\n",
    "    create_student(\"구지연\", 76, 96, 94, 90),\n",
    "    create_student(\"나선주\", 98, 92, 96, 92),\n",
    "    create_student(\"윤아린\", 95, 98, 98, 98),\n",
    "    create_student(\"윤명월\", 64, 88, 92, 92)\n",
    "]\n",
    "# 학생 점수의 합을 구하는 함수\n",
    "def student_get_sum(student):\n",
    "    return student[\"korean\"]+student[\"math\"]+student[\"english\"] +\\\n",
    "            student[\"science\"]\n",
    "# 학생 점수의 평균을 구하는 함수\n",
    "def student_get_avg(student):\n",
    "    return student_get_sum(student)/4\n",
    "\n",
    "# 출력하는 함수\n",
    "def student_to_string(student):\n",
    "    return \"{}\\t{}\\t{}\".format(student[\"name\"],student_get_sum(student), student_get_avg(student))\n",
    "\n",
    "\n"
   ]
  },
  {
   "cell_type": "markdown",
   "id": "23d8fb1f",
   "metadata": {},
   "source": [
    "## 생성자\n",
    "- 클래스 이름과 같은 함수<br/>\n",
    "class 클래스 이름 :<br/>\n",
    "    def _ _init_ _(self, 추가적인 매개변수):\n",
    "        pass"
   ]
  },
  {
   "cell_type": "code",
   "execution_count": null,
   "id": "bb71ba80",
   "metadata": {},
   "outputs": [],
   "source": [
    "# 클래스 내부에 함수 선언하기\n",
    "\n",
    "# class로 생성하여 object를 관리\n",
    "class student:  # 함수가 아니니까 () 안넣어줌 // class 클래스 이름 :\n",
    "    def __init__(self,name, korean, math, english, science):\n",
    "        self.name = name\n",
    "        self.korean = korean\n",
    "        self.math = math\n",
    "        self.english = english\n",
    "        self. science = science\n",
    "        \n",
    "    def get_sum(self):\n",
    "        return self.korean+self.math+self.english+self.science\n",
    "    \n",
    "    def get_avg(self):\n",
    "        return self.get_sum()/4\n",
    "    \n",
    "    def to_string(self):\n",
    "        return \"{}:\\t{}\\t{}\".format(self.name, self.get_sum(), self.get_avg())\n",
    "    \n",
    "a_class = student(\"윤인성\", 87, 98, 88, 95)\n",
    "#student-class//a_class-인스턴스,데이터\n",
    "print(a_class.name, a_class.math, a_class.english)"
   ]
  },
  {
   "cell_type": "code",
   "execution_count": null,
   "id": "a18e1192",
   "metadata": {},
   "outputs": [],
   "source": [
    "print(\"이름\", \"총점\", \"평균\", sep='\\t')\n",
    "for student in students:\n",
    "    print(student.to_string())"
   ]
  },
  {
   "cell_type": "code",
   "execution_count": null,
   "id": "36f83d60",
   "metadata": {},
   "outputs": [],
   "source": [
    "# 인스턴트,클래스명\n",
    "class human:\n",
    "    def __init__(self):\n",
    "        pass\n",
    "\n",
    "class Student(human):\n",
    "    def __init__(self):\n",
    "        pass\n",
    "    \n",
    "student = Student()\n",
    "#instance 확인\n",
    "print(\"isinstance(student,Human) :\", ininstance)"
   ]
  },
  {
   "cell_type": "markdown",
   "id": "831a54e6",
   "metadata": {},
   "source": [
    "## 메소드\n",
    ": 클래스가 가지고 있는 함수.<br/>\n",
    "\n",
    "class 클래스 이름:<br/>\n",
    "    def 메소드 이름(self, 추가적인 매개변수):<br/>\n",
    "        pass"
   ]
  },
  {
   "cell_type": "code",
   "execution_count": 14,
   "id": "de7f376c",
   "metadata": {},
   "outputs": [],
   "source": [
    "class student:  # 함수가 아니니까 () 안넣어줌 // class 클래스 이름 :\n",
    "    def __init__(self,name, korean, math, english, science):\n",
    "        self.name = name\n",
    "        self.korean = korean\n",
    "        self.math = math\n",
    "        self.english = english\n",
    "        self. science = science\n",
    "        \n",
    "    def get_sum(self):\n",
    "        return self.korean+self.math+self.english+self.science\n",
    "    \n",
    "    def get_avg(self):\n",
    "        return self.get_sum()/4\n",
    "    \n",
    "    def to_string(self):\n",
    "        return \"{}:\\t{}\\t{}\".format(self.name, self.get_sum(), self.get_avg())\n",
    "    \n",
    "    def __str__(self):\n",
    "        return \"{}:\\t{}\\t{}\".format(self.name, self.get_sum(), self.get_avg())\n",
    "    def __eq__(self, value): \n",
    "        return self.get_sum() == value.get_sum()\n",
    "    def __ne__(self, value): \n",
    "        return self.get_sum() != value.get_sum()\n",
    "    def __gt__(self, value):\n",
    "        return self.get_sum() > value.get_sum()\n",
    "    def __ge__(self, value):\n",
    "        return self.get_sum() >= value.get_sum()\n",
    "    def __lt__(self, value):\n",
    "        return self.get_sum() < value.get_sum()\n",
    "    def __le____(self, value):\n",
    "        return self.get_sum() <= value.get_sum()"
   ]
  },
  {
   "cell_type": "code",
   "execution_count": 15,
   "id": "8546815e",
   "metadata": {},
   "outputs": [
    {
     "name": "stdout",
     "output_type": "stream",
     "text": [
      "이름\t총점\t평균\n",
      "윤인성:\t368\t92.0\n",
      "연하진:\t384\t96.0\n",
      "구지연:\t356\t89.0\n",
      "나선주:\t378\t94.5\n",
      "윤아린:\t389\t97.25\n",
      "윤명월:\t336\t84.0\n",
      "students[0] == students[1] = True\n"
     ]
    }
   ],
   "source": [
    "students = [\n",
    "    student(\"윤인성\", 87, 98, 88, 95),\n",
    "    student(\"연하진\", 92, 98, 96, 98),\n",
    "    student(\"구지연\", 76, 96, 94, 90),\n",
    "    student(\"나선주\", 98, 92, 96, 92),\n",
    "    student(\"윤아린\", 95, 98, 98, 98),\n",
    "    student(\"윤명월\", 64, 88, 92, 92)\n",
    "]\n",
    "print(\"이름\", \"총점\", \"평균\", sep='\\t')\n",
    "for student in students:\n",
    "    print(str(student)) # student의 __str__()함수가 실행 됨\n",
    "    \n",
    "print(\"students[0] == students[1] =\", students[0] != students[1] )"
   ]
  },
  {
   "cell_type": "code",
   "execution_count": 17,
   "id": "ac4e9bc7",
   "metadata": {},
   "outputs": [
    {
     "name": "stdout",
     "output_type": "stream",
     "text": [
      "1번째 학생이 생성되었습니다.\n",
      "2번째 학생이 생성되었습니다.\n",
      "3번째 학생이 생성되었습니다.\n",
      "4번째 학생이 생성되었습니다.\n",
      "5번째 학생이 생성되었습니다.\n",
      "6번째 학생이 생성되었습니다.\n",
      "\n",
      "현재 생성된 총 학생 수는 6명입니다.\n"
     ]
    }
   ],
   "source": [
    "class Student:\n",
    "    count = 0\n",
    "\n",
    "    def __init__(self, name, korean, math, english, science):\n",
    "        # 인스턴스 변수 초기화\n",
    "        self.name = name\n",
    "        self.korean = korean\n",
    "        self.math = math\n",
    "        self.english = english\n",
    "        self.science = science\n",
    "        \n",
    "        # 클래스 변수 설정\n",
    "        Student.count += 1\n",
    "        print(\"{}번째 학생이 생성되었습니다.\".format(Student.count))\n",
    "    \n",
    "\n",
    "# 학생 리스트를 선언합니다.\n",
    "students = [\n",
    "    Student(\"윤인성\", 87, 98, 88, 95),\n",
    "    Student(\"연하진\", 92, 98, 96, 98),\n",
    "    Student(\"구지연\", 76, 96, 94, 90),\n",
    "    Student(\"나선주\", 98, 92, 96, 92),\n",
    "    Student(\"윤아린\", 95, 98, 98, 98),\n",
    "    Student(\"윤명월\", 64, 88, 92, 92)\n",
    "]\n",
    "\n",
    "# 출력합니다.\n",
    "print()\n",
    "print(\"현재 생성된 총 학생 수는 {}명입니다.\".format(Student.count))\n",
    "\n",
    "# 클래스 내부와 외부에서 클래스 변수에 접근할 때는 모두 \n",
    "# student.count 형태(클래스이름.변수이름)를 사용함."
   ]
  },
  {
   "cell_type": "markdown",
   "id": "346b8553",
   "metadata": {},
   "source": [
    "## 클래스 함수\n",
    ": 클래스가 가진 함수, 클래스가 가진 기능 명시적으로 나타냄\n",
    "\n",
    "데코레이터 : @classmethod\n",
    "  \n",
    "- 클래스 함수 만들기\n",
    "\n",
    "class 클래스 이름:<br/>\n",
    "    @classmethod<br/>\n",
    "    def 클래스 함수(cls, 매개변수):<br/>\n",
    "        pass\n",
    "\n",
    "- 클래스 함수 호출하기<br/>\n",
    "클래스이름.함수 이름(매개변수)"
   ]
  },
  {
   "cell_type": "code",
   "execution_count": 30,
   "id": "70061ce3",
   "metadata": {},
   "outputs": [
    {
     "name": "stdout",
     "output_type": "stream",
     "text": [
      "------ 학생 목록 ------\n",
      "이름\t총점\t평균\n",
      "윤인성\t368\t92.0\n",
      "연하진\t384\t96.0\n",
      "구지연\t356\t89.0\n",
      "나선주\t378\t94.5\n",
      "윤아린\t389\t97.25\n",
      "윤명월\t336\t84.0\n",
      "------- ------- -------\n"
     ]
    }
   ],
   "source": [
    "# 클래스를 선언합니다.\n",
    "class Student:\n",
    "    # 클래스 변수\n",
    "    count = 0\n",
    "    students = []\n",
    "\n",
    "    # 클래스 함수\n",
    "    @classmethod\n",
    "    def print(cls):\n",
    "        print(\"------ 학생 목록 ------\")\n",
    "        print(\"이름\\t총점\\t평균\")\n",
    "        for student in cls.students:\n",
    "            print(str(student))\n",
    "        print(\"------- ------- -------\")\n",
    "\n",
    "    # 인스턴스 함수\n",
    "    def __init__(self, name, korean, math, english, science):\n",
    "        self.name = name\n",
    "        self.korean = korean\n",
    "        self.math = math\n",
    "        self.english = english\n",
    "        self.science = science\n",
    "        Student.count += 1\n",
    "        Student.students.append(self)\n",
    "\n",
    "    def get_sum(self):\n",
    "        return self.korean + self.math +\\\n",
    "            self.english + self.science\n",
    "\n",
    "    def get_avg(self):\n",
    "        return self.get_sum()/4\n",
    "    \n",
    "    def get_average(self):\n",
    "        return self.get_sum() / 4\n",
    "\n",
    "    def __str__(self):\n",
    "        return \"{}\\t{}\\t{}\".format(\\\n",
    "            self.name,\\\n",
    "            self.get_sum(),\\\n",
    "            self.get_average())\n",
    "    \n",
    "# 학생 리스트를 선언합니다.\n",
    "Student(\"윤인성\", 87, 98, 88, 95),\n",
    "Student(\"연하진\", 92, 98, 96, 98),\n",
    "Student(\"구지연\", 76, 96, 94, 90),\n",
    "Student(\"나선주\", 98, 92, 96, 92),\n",
    "Student(\"윤아린\", 95, 98, 98, 98),\n",
    "Student(\"윤명월\", 64, 88, 92, 92)\n",
    "\n",
    "#출력\n",
    "Student.print()"
   ]
  },
  {
   "cell_type": "markdown",
   "id": "a53eecd6",
   "metadata": {},
   "source": [
    "### 가비지 컬렉터\n",
    "- 더 사용할 가능성이 없는 데이터를 메모리에서 제거하는 역할\n"
   ]
  },
  {
   "cell_type": "markdown",
   "id": "725bb8ba",
   "metadata": {},
   "source": [
    "### 프라이빗 변수\n",
    "- 변수를 마음대로 사용하는 것 방지\n",
    "- __<변수 이름> 형태로 인스턴스 변수 이름 선언"
   ]
  },
  {
   "cell_type": "code",
   "execution_count": 38,
   "id": "53e8f12b",
   "metadata": {
    "scrolled": true
   },
   "outputs": [
    {
     "name": "stdout",
     "output_type": "stream",
     "text": [
      "# 원의 둘레와 넓이를 구합니다.\n",
      "원의 둘레: 62.83185307179586\n",
      "원의 넓이: 314.1592653589793\n",
      "\n",
      "# __radius에 접근합니다.\n",
      "10\n",
      "\n",
      "# 원의 둘레와 넓이를 구합니다.\n",
      "원의 둘레: 18.84955592153876\n",
      "원의 넓이: 28.274333882308138\n",
      "\n"
     ]
    }
   ],
   "source": [
    "# 모듈을 가져옵니다.\n",
    "import math\n",
    "\n",
    "# 클래스를 선언합니다.\n",
    "class Circle:\n",
    "    def __init__(self, radius):\n",
    "        self.__radius = radius\n",
    "    def get_circumference(self):\n",
    "        return 2 * math.pi *  self.__radius\n",
    "    def get_area(self):\n",
    "        return math.pi * (self.__radius ** 2) \n",
    "    # 여기 내부에서만 __radius 접근가능\n",
    "    def get_radius(self):   # getter\n",
    "        return self.__radius\n",
    "    def set_radius(self, value):  # setter\n",
    "        self.__radius = value\n",
    "# 원의 둘레와 넓이를 구합니다.\n",
    "circle = Circle(10)\n",
    "print(\"# 원의 둘레와 넓이를 구합니다.\")\n",
    "print(\"원의 둘레:\", circle.get_circumference())\n",
    "print(\"원의 넓이:\", circle.get_area())\n",
    "print()\n",
    "\n",
    "# __radius에 접근합니다.\n",
    "print(\"# __radius에 접근합니다.\")\n",
    "print(circle.get_radius())# 간접적으로 접근\n",
    "print()\n",
    "circle.set_radius(3)\n",
    "print(\"# 원의 둘레와 넓이를 구합니다.\")\n",
    "print(\"원의 둘레:\", circle.get_circumference())\n",
    "print(\"원의 넓이:\", circle.get_area())\n",
    "print()"
   ]
  },
  {
   "cell_type": "code",
   "execution_count": 40,
   "id": "a243ee2d",
   "metadata": {},
   "outputs": [],
   "source": [
    "class Circle:\n",
    "    def __init__(self, radius):\n",
    "        self.__radius = radius\n",
    "    def get_circumference(self):\n",
    "        return 2 * math.pi *  self.__radius\n",
    "    def get_area(self):\n",
    "        return math.pi * (self.__radius ** 2) \n",
    "    \n",
    "    @property\n",
    "    def radius(self):   # getter\n",
    "        return self.__radius\n",
    "    @radius.setter\n",
    "    def radius(self, value):  # setter\n",
    "        self.__radius = value"
   ]
  },
  {
   "cell_type": "markdown",
   "id": "d1699a43",
   "metadata": {},
   "source": [
    "## 상속\n",
    ": Parent 클래스에서 Child 클래스가 method와 값을 물려받는것."
   ]
  },
  {
   "cell_type": "code",
   "execution_count": 43,
   "id": "3cfdeb13",
   "metadata": {},
   "outputs": [
    {
     "name": "stdout",
     "output_type": "stream",
     "text": [
      "parent 클래스 __init__ 호출\n",
      "child 클래스 __init__ 호출\n",
      "parent 클래스 test()메서드\n",
      "테스트\n"
     ]
    }
   ],
   "source": [
    "class Parent:\n",
    "    def __init__(self):\n",
    "        self.value = \"테스트\"\n",
    "        print(\"parent 클래스 __init__ 호출\")\n",
    "    def test(self):\n",
    "        print(\"parent 클래스 test()메서드\")\n",
    "        \n",
    "class Child(Parent):\n",
    "    def __init__(self):\n",
    "        Parent.__init__(self)\n",
    "        print(\"child 클래스 __init__ 호출\")\n",
    "        \n",
    "child = Child()\n",
    "child.test()\n",
    "print(child.value)"
   ]
  }
 ],
 "metadata": {
  "kernelspec": {
   "display_name": "Python 3",
   "language": "python",
   "name": "python3"
  },
  "language_info": {
   "codemirror_mode": {
    "name": "ipython",
    "version": 3
   },
   "file_extension": ".py",
   "mimetype": "text/x-python",
   "name": "python",
   "nbconvert_exporter": "python",
   "pygments_lexer": "ipython3",
   "version": "3.8.8"
  }
 },
 "nbformat": 4,
 "nbformat_minor": 5
}
