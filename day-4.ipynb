{
 "cells": [
  {
   "cell_type": "markdown",
   "id": "898605b9",
   "metadata": {},
   "source": [
    "# 재귀 함수\n",
    ": 팩토리얼, 피보나치 등"
   ]
  },
  {
   "cell_type": "code",
   "execution_count": 8,
   "id": "d9943429",
   "metadata": {},
   "outputs": [
    {
     "name": "stdout",
     "output_type": "stream",
     "text": [
      "1! :  1\n",
      "2! :  2\n",
      "3! :  6\n",
      "4! :  24\n"
     ]
    }
   ],
   "source": [
    "# 팩토리얼\n",
    "\n",
    "def factorial(n):\n",
    "    output = 1\n",
    "    for i in range(1, n+1):\n",
    "        output *= i\n",
    "    return output\n",
    "\n",
    "print(\"1! : \", factorial(1))\n",
    "print(\"2! : \", factorial(2))\n",
    "print(\"3! : \", factorial(3))\n",
    "print(\"4! : \", factorial(4))\n",
    "\n"
   ]
  },
  {
   "cell_type": "code",
   "execution_count": 13,
   "id": "77755686",
   "metadata": {},
   "outputs": [
    {
     "name": "stdout",
     "output_type": "stream",
     "text": [
      "fibonacci(10)를 구합니다.\n",
      "fibonacci(9)를 구합니다.\n",
      "fibonacci(8)를 구합니다.\n",
      "fibonacci(7)를 구합니다.\n",
      "fibonacci(6)를 구합니다.\n",
      "fibonacci(5)를 구합니다.\n",
      "fibonacci(4)를 구합니다.\n",
      "fibonacci(3)를 구합니다.\n",
      "fibonacci(2)를 구합니다.\n",
      "fibonacci(1)를 구합니다.\n",
      "fibonacci(2)를 구합니다.\n",
      "fibonacci(3)를 구합니다.\n",
      "fibonacci(2)를 구합니다.\n",
      "fibonacci(1)를 구합니다.\n",
      "fibonacci(4)를 구합니다.\n",
      "fibonacci(3)를 구합니다.\n",
      "fibonacci(2)를 구합니다.\n",
      "fibonacci(1)를 구합니다.\n",
      "fibonacci(2)를 구합니다.\n",
      "fibonacci(5)를 구합니다.\n",
      "fibonacci(4)를 구합니다.\n",
      "fibonacci(3)를 구합니다.\n",
      "fibonacci(2)를 구합니다.\n",
      "fibonacci(1)를 구합니다.\n",
      "fibonacci(2)를 구합니다.\n",
      "fibonacci(3)를 구합니다.\n",
      "fibonacci(2)를 구합니다.\n",
      "fibonacci(1)를 구합니다.\n",
      "fibonacci(6)를 구합니다.\n",
      "fibonacci(5)를 구합니다.\n",
      "fibonacci(4)를 구합니다.\n",
      "fibonacci(3)를 구합니다.\n",
      "fibonacci(2)를 구합니다.\n",
      "fibonacci(1)를 구합니다.\n",
      "fibonacci(2)를 구합니다.\n",
      "fibonacci(3)를 구합니다.\n",
      "fibonacci(2)를 구합니다.\n",
      "fibonacci(1)를 구합니다.\n",
      "fibonacci(4)를 구합니다.\n",
      "fibonacci(3)를 구합니다.\n",
      "fibonacci(2)를 구합니다.\n",
      "fibonacci(1)를 구합니다.\n",
      "fibonacci(2)를 구합니다.\n",
      "fibonacci(7)를 구합니다.\n",
      "fibonacci(6)를 구합니다.\n",
      "fibonacci(5)를 구합니다.\n",
      "fibonacci(4)를 구합니다.\n",
      "fibonacci(3)를 구합니다.\n",
      "fibonacci(2)를 구합니다.\n",
      "fibonacci(1)를 구합니다.\n",
      "fibonacci(2)를 구합니다.\n",
      "fibonacci(3)를 구합니다.\n",
      "fibonacci(2)를 구합니다.\n",
      "fibonacci(1)를 구합니다.\n",
      "fibonacci(4)를 구합니다.\n",
      "fibonacci(3)를 구합니다.\n",
      "fibonacci(2)를 구합니다.\n",
      "fibonacci(1)를 구합니다.\n",
      "fibonacci(2)를 구합니다.\n",
      "fibonacci(5)를 구합니다.\n",
      "fibonacci(4)를 구합니다.\n",
      "fibonacci(3)를 구합니다.\n",
      "fibonacci(2)를 구합니다.\n",
      "fibonacci(1)를 구합니다.\n",
      "fibonacci(2)를 구합니다.\n",
      "fibonacci(3)를 구합니다.\n",
      "fibonacci(2)를 구합니다.\n",
      "fibonacci(1)를 구합니다.\n",
      "fibonacci(8)를 구합니다.\n",
      "fibonacci(7)를 구합니다.\n",
      "fibonacci(6)를 구합니다.\n",
      "fibonacci(5)를 구합니다.\n",
      "fibonacci(4)를 구합니다.\n",
      "fibonacci(3)를 구합니다.\n",
      "fibonacci(2)를 구합니다.\n",
      "fibonacci(1)를 구합니다.\n",
      "fibonacci(2)를 구합니다.\n",
      "fibonacci(3)를 구합니다.\n",
      "fibonacci(2)를 구합니다.\n",
      "fibonacci(1)를 구합니다.\n",
      "fibonacci(4)를 구합니다.\n",
      "fibonacci(3)를 구합니다.\n",
      "fibonacci(2)를 구합니다.\n",
      "fibonacci(1)를 구합니다.\n",
      "fibonacci(2)를 구합니다.\n",
      "fibonacci(5)를 구합니다.\n",
      "fibonacci(4)를 구합니다.\n",
      "fibonacci(3)를 구합니다.\n",
      "fibonacci(2)를 구합니다.\n",
      "fibonacci(1)를 구합니다.\n",
      "fibonacci(2)를 구합니다.\n",
      "fibonacci(3)를 구합니다.\n",
      "fibonacci(2)를 구합니다.\n",
      "fibonacci(1)를 구합니다.\n",
      "fibonacci(6)를 구합니다.\n",
      "fibonacci(5)를 구합니다.\n",
      "fibonacci(4)를 구합니다.\n",
      "fibonacci(3)를 구합니다.\n",
      "fibonacci(2)를 구합니다.\n",
      "fibonacci(1)를 구합니다.\n",
      "fibonacci(2)를 구합니다.\n",
      "fibonacci(3)를 구합니다.\n",
      "fibonacci(2)를 구합니다.\n",
      "fibonacci(1)를 구합니다.\n",
      "fibonacci(4)를 구합니다.\n",
      "fibonacci(3)를 구합니다.\n",
      "fibonacci(2)를 구합니다.\n",
      "fibonacci(1)를 구합니다.\n",
      "fibonacci(2)를 구합니다.\n",
      "---\n",
      "fibonacci(10) 계산에 활용된 덧셈 횟수는 109번 입니다.\n"
     ]
    }
   ],
   "source": [
    "# 피보나치(느림)\n",
    "\n",
    "# 변수 선언\n",
    "counter = 0\n",
    "\n",
    "# 함수 선언\n",
    "def fibonacci(n):\n",
    "    #어떤 피보나치 수를 구하는지 출력.\n",
    "    print(\"fibonacci({})를 구합니다.\".format(n))\n",
    "    global counter # global 변수 : 많이 쓰진 않지만 외부에서 변수를 쓸 경우\n",
    "    counter += 1\n",
    "    # 피보나치 수 구하기.\n",
    "    if n == 1:\n",
    "        return 1\n",
    "    if n == 2:\n",
    "        return 1\n",
    "    else :\n",
    "        return fibonacci(n-1) + fibonacci(n -2)\n",
    "    #함수 호출\n",
    "fibonacci(10)\n",
    "print(\"---\")\n",
    "print(\"fibonacci(10) 계산에 활용된 덧셈 횟수는 {}번 입니다.\".format(counter))"
   ]
  },
  {
   "cell_type": "code",
   "execution_count": 22,
   "id": "af731e98",
   "metadata": {},
   "outputs": [
    {
     "name": "stdout",
     "output_type": "stream",
     "text": [
      "fibo(10): 89\n",
      "fibo(20): 10946\n",
      "fibo(30): 1346269\n",
      "fibo(40): 165580141\n",
      "fibo(50): 20365011074\n"
     ]
    }
   ],
   "source": [
    "#피보나치(빠름)\n",
    "dictionary = {\n",
    "    1: 1,\n",
    "    2: 2\n",
    "}\n",
    "\n",
    "# 함수 선언. 피보나치함수.\n",
    "def fibo(n):\n",
    "    if n in dictionary:\n",
    "        #메모 되어 있으면 메모값 리턴\n",
    "        return dictionary[n]\n",
    "    else:\n",
    "        #메모 안돼있으면 값 구함\n",
    "        output = fibo(n-1) + fibo(n-2)\n",
    "        dictionary[n] = output\n",
    "        return output\n",
    "    \n",
    "# 함수 호출\n",
    "print(\"fibo(10):\", fibo(10))\n",
    "print(\"fibo(20):\", fibo(20))\n",
    "print(\"fibo(30):\", fibo(30))\n",
    "print(\"fibo(40):\", fibo(40))\n",
    "print(\"fibo(50):\", fibo(50))"
   ]
  },
  {
   "cell_type": "code",
   "execution_count": 27,
   "id": "2e325001",
   "metadata": {},
   "outputs": [
    {
     "name": "stdout",
     "output_type": "stream",
     "text": [
      "원본 : [[1, 2, 3], [4, [5, 6]], 7, [8, 9]]\n",
      "변환 : [1, 2, 3, 4, 5, 6, 7, 8, 9]\n"
     ]
    }
   ],
   "source": [
    "#리스트 평탄화 : 중첩된 리스트가 있을 때 중첩을 모두 제거하고 풀어서 \n",
    "#               1차원 리스트로 만드는 것.\n",
    "\n",
    "def flatten(data):\n",
    "    # 최종 결과를 저장할 리스트 작성\n",
    "    output=[]\n",
    "    # 리스트 각각의 ltem을 가져와서 작업\n",
    "    for item in data:\n",
    "        # 데이터의 타입이 list이면 flatten함수 호출\n",
    "        if type(item) == list:\n",
    "            output += flatten(item)\n",
    "        # 아니면 output 리스트에 추가\n",
    "        else:\n",
    "            output.append(item)\n",
    "    return output\n",
    "        \n",
    "example = [[1, 2, 3],[4,[5,6]],7,[8,9]]\n",
    "print(\"원본 :\", example)\n",
    "print(\"변환 :\", flatten(example))  # 평탄화 함수 호출\n",
    "\n"
   ]
  },
  {
   "cell_type": "markdown",
   "id": "4e08d809",
   "metadata": {},
   "source": [
    "# 함수 고급\n",
    "- 튜플 : 함수와 함께 많이 사용되는 리스트와 비슷한 자료형으로 <b>한번 결정된 요소를 바꿀 수 없다.</b> 튜플은 (), 리스트는 [].\n",
    "- 람다 : 함수를 간단하고 쉽게 선언하는 방법, \n",
    "<hr/>\n",
    "* lambda 매개변수 : 리턴 값\n",
    "* map(lambda x:x*x,리스트)\n"
   ]
  },
  {
   "cell_type": "code",
   "execution_count": 31,
   "id": "98572cf1",
   "metadata": {},
   "outputs": [
    {
     "name": "stdout",
     "output_type": "stream",
     "text": [
      "10 20 30 40\n",
      "10 20 30\n",
      "before :  10 20\n",
      "after :  20 10\n"
     ]
    }
   ],
   "source": [
    "[a, b] = [10,20]\n",
    "(c, d) = (30,40)\n",
    "print(a,b,c,d)\n",
    "a = 40\n",
    "a\n",
    "c = (1,2,3) # 튜플 값 변경 불가\n",
    "#c[0]=4\n",
    "a,b,c = 10,20,30\n",
    "print(a,b,c)\n",
    "\n",
    "#값을 교환\n",
    "a,b = 10,20\n",
    "print(\"before : \", a,b)\n",
    "a,b = b,a\n",
    "print(\"after : \", a,b)"
   ]
  },
  {
   "cell_type": "code",
   "execution_count": 38,
   "id": "9251a6ce",
   "metadata": {},
   "outputs": [
    {
     "name": "stdout",
     "output_type": "stream",
     "text": [
      "두 수를 입력 > 10 20\n",
      "10\n"
     ]
    }
   ],
   "source": [
    "# 문) 두 수를 입력받아 큰 수에서 작은 수를 빼는 함수를 작성하세요(num1-num2)\n",
    "# 함수 정의\n",
    "def minus_func(num1, num2):\n",
    "    return num1 - num2\n",
    "\n",
    "def trans_func(num1, num2):\n",
    "    if num1 < num2:\n",
    "        return (num2, num1)\n",
    "    else:\n",
    "        return (num1, num2)\n",
    "    \n",
    "input_numbers = input(\"두 수를 입력 > \").split()\n",
    "(num1, num2) = trans_func(int(input_numbers[0]),int(input_numbers[1]))\n",
    "print(minus_func(num1,num2))"
   ]
  },
  {
   "cell_type": "markdown",
   "id": "3be8daf4",
   "metadata": {},
   "source": [
    "## filter함수와 map함수\n",
    "map(함수, 리스트)\n",
    "filter(함수, 리스트)"
   ]
  },
  {
   "cell_type": "code",
   "execution_count": 72,
   "id": "7d08e70c",
   "metadata": {},
   "outputs": [
    {
     "ename": "IndentationError",
     "evalue": "expected an indented block (<ipython-input-72-5ed6c3b2c86d>, line 4)",
     "output_type": "error",
     "traceback": [
      "\u001b[1;36m  File \u001b[1;32m\"<ipython-input-72-5ed6c3b2c86d>\"\u001b[1;36m, line \u001b[1;32m4\u001b[0m\n\u001b[1;33m    return item * item\u001b[0m\n\u001b[1;37m    ^\u001b[0m\n\u001b[1;31mIndentationError\u001b[0m\u001b[1;31m:\u001b[0m expected an indented block\n"
     ]
    }
   ],
   "source": [
    "# 함수 선언\n",
    "def power(item):\n",
    "\n",
    "return item * item\n",
    "\n",
    "\n",
    "def under_3(item):\n",
    "    return item < 3\n",
    "\n",
    "# 변수 선언\n",
    "list_input_a = [1,2,3,4,5]\n",
    "\n",
    "# map()함수 사용\n",
    "output_a = map(power, list_input_a)\n",
    "print(\"# map() 함수의 실행 결과\")\n",
    "print(\"map(power, list_input_a):\", output_a)\n",
    "print(\"map(power, list_input_a):\", list(output_a))\n",
    "print()\n",
    "# for i in 리스트:        -> map(함수명, 리스트)\n",
    "#      함수명(i)          -> filter(함수명, 리스트):함수 조건에 맞는것만 \n",
    "                    #                                    리스트에서 계산\n",
    "\n",
    "# filter()함수 사용\n",
    "# filter(함수, 리스트) -> 조건에 맞는 요소만 실행. 결과는 리스트.\n",
    "output_b = filter(under_3, list_input_a)\n",
    "print(\"#filter() 함수의 실행 결과\")\n",
    "print(\"filter(under_3, list_input_a):\",output_b)\n",
    "print(\"filter(under_3, list_input_a):\", list(output_b))"
   ]
  },
  {
   "cell_type": "code",
   "execution_count": 44,
   "id": "79125f78",
   "metadata": {},
   "outputs": [
    {
     "name": "stdout",
     "output_type": "stream",
     "text": [
      "map :  [1, 4, 9, 16, 25]\n",
      "filter :  [1, 2]\n"
     ]
    }
   ],
   "source": [
    "# 람다 선언\n",
    "power = lambda x: x*x     #lambda 매개변수 : 리턴 값\n",
    "\n",
    "under_3 = lambda x: x < 3\n",
    "# 변수 선언\n",
    "list_input_a = [1,2,3,4,5]\n",
    "\n",
    "# lambda 함수 사용, lambda로 함수를 직접 선언\n",
    "output_a = map(lambda x: x*x, list_input_a)\n",
    "print(\"map : \", list(output_a))\n",
    "\n",
    "output_a = filter(lambda x: x<3, list_input_a)\n",
    "print(\"filter : \", list(output_a))"
   ]
  },
  {
   "cell_type": "markdown",
   "id": "51b56cb6",
   "metadata": {},
   "source": [
    "## file을 이용한 데이터 저장(open/closed 함수)\n",
    "<b>open(파일명, 모드)</b>\n",
    "\n",
    "<hr/>\n",
    "w : write 모드(새로 쓰기 모드, 기존 파일이 존재하면 기존 데이터 삭제 후 새로 작성)\n",
    "\n",
    "\n",
    "a : append 모드(뒤에 이어서 쓰기 모드)\n",
    "\n",
    "\n",
    "r : read 모드(읽기 모드, 읽기만 가능. 존재하지 않으면 error)\n",
    "<hr/>\n",
    "<b>파일 객체.close()</b>"
   ]
  },
  {
   "cell_type": "code",
   "execution_count": null,
   "id": "f7f3802f",
   "metadata": {},
   "outputs": [],
   "source": [
    "#file = open(\"python.txt\",'w') #file open\n",
    "file = open(\"python.txt\",'a') #file open\n",
    "file.write(\"Hello python programming!!!\\n\") #file write\n",
    "file.close() # file close\n",
    "\n",
    "#file.write(\"test\") -> error 발생. close된 file이기때문\n",
    "file = open(\"python.txt\",\"r\")\n",
    "contents = file.read()\n",
    "print(\"file read data :\", contents)\n",
    "file.close()"
   ]
  },
  {
   "cell_type": "markdown",
   "id": "d6748863",
   "metadata": {},
   "source": [
    "### with 키워드\n",
    "- 조건문과 반복문에서 파일을 열고서 닫지 않는 실수가 생김\n",
    "- with 구문 종료 시 파일을 자동으로 닫음\n",
    "- with open(문자열:파일경로, 문자열:모드) as 파일 객체:\n",
    "    문장\n",
    "- open 사용 시 file 객체 변환"
   ]
  },
  {
   "cell_type": "code",
   "execution_count": 77,
   "id": "e8dd4a8f",
   "metadata": {},
   "outputs": [],
   "source": [
    "with open(\"python.txt\",'a') as file:\n",
    "    file.write(\"Hello python programming!!!\\n\")"
   ]
  },
  {
   "cell_type": "code",
   "execution_count": 93,
   "id": "60b046d4",
   "metadata": {},
   "outputs": [],
   "source": [
    "# 100명의 키와 몸무게를 이름과 같이 파일에 저장하기\n",
    "\n",
    "# 랜덤한 숫자를 만들기 위해 가져옴\n",
    "import random\n",
    "# 한글 리스트 생성\n",
    "hanguls = list(\"가나다라마바사아자차카타파하\")\n",
    "# 파일을 쓰기 모드로 연다\n",
    "with open(\"info.txt\", \"w\") as file:\n",
    "    for i in range(100):\n",
    "        # 랜덤한 값으로 변수 생성\n",
    "        name = random.choice(hanguls) + random.choice(hanguls)\n",
    "        weight = random.randrange(40,100)\n",
    "        height = random.randrange(140,200)\n",
    "        \n",
    "        #텍스트를 쓴다\n",
    "        file.write(\"{},{},{}\\n\".format(name,height,weight))"
   ]
  },
  {
   "cell_type": "code",
   "execution_count": 107,
   "id": "ffef05e8",
   "metadata": {},
   "outputs": [
    {
     "name": "stdout",
     "output_type": "stream",
     "text": [
      "하타 : 184, 87\n",
      "\n",
      "타하 : 166, 87\n",
      "\n",
      "카파 : 148, 61\n",
      "\n",
      "타타 : 186, 75\n",
      "\n",
      "카마 : 172, 40\n",
      "\n",
      "가나 : 170, 87\n",
      "\n",
      "하나 : 183, 97\n",
      "\n",
      "바바 : 196, 79\n",
      "\n",
      "마마 : 166, 79\n",
      "\n",
      "파다 : 183, 71\n",
      "\n",
      "마카 : 192, 75\n",
      "\n",
      "차나 : 184, 52\n",
      "\n",
      "가나 : 181, 96\n",
      "\n",
      "파바 : 157, 63\n",
      "\n",
      "사파 : 165, 93\n",
      "\n",
      "자바 : 146, 80\n",
      "\n",
      "마카 : 155, 91\n",
      "\n",
      "파가 : 171, 53\n",
      "\n",
      "가다 : 146, 43\n",
      "\n",
      "나하 : 197, 70\n",
      "\n",
      "가사 : 173, 72\n",
      "\n",
      "나자 : 158, 76\n",
      "\n",
      "아나 : 186, 79\n",
      "\n",
      "카라 : 156, 52\n",
      "\n",
      "가차 : 164, 58\n",
      "\n",
      "가마 : 150, 91\n",
      "\n",
      "가가 : 197, 46\n",
      "\n",
      "가아 : 181, 46\n",
      "\n",
      "카아 : 178, 59\n",
      "\n",
      "파마 : 148, 75\n",
      "\n",
      "마파 : 182, 71\n",
      "\n",
      "가바 : 184, 43\n",
      "\n",
      "하하 : 194, 50\n",
      "\n",
      "아자 : 153, 82\n",
      "\n",
      "카파 : 175, 45\n",
      "\n",
      "다차 : 196, 47\n",
      "\n",
      "라아 : 191, 84\n",
      "\n",
      "사바 : 195, 89\n",
      "\n",
      "바파 : 162, 54\n",
      "\n",
      "카라 : 152, 42\n",
      "\n",
      "아차 : 147, 69\n",
      "\n",
      "사나 : 147, 82\n",
      "\n",
      "다라 : 141, 55\n",
      "\n",
      "차하 : 160, 90\n",
      "\n",
      "나나 : 143, 88\n",
      "\n",
      "자하 : 148, 64\n",
      "\n",
      "타아 : 195, 63\n",
      "\n",
      "파라 : 170, 45\n",
      "\n",
      "아아 : 176, 54\n",
      "\n",
      "마차 : 187, 98\n",
      "\n",
      "다하 : 197, 55\n",
      "\n",
      "라자 : 147, 42\n",
      "\n",
      "라아 : 167, 75\n",
      "\n",
      "나라 : 174, 49\n",
      "\n",
      "하라 : 190, 73\n",
      "\n",
      "가라 : 156, 96\n",
      "\n",
      "자사 : 154, 49\n",
      "\n",
      "아라 : 141, 76\n",
      "\n",
      "바라 : 167, 44\n",
      "\n",
      "아마 : 140, 60\n",
      "\n",
      "다마 : 153, 92\n",
      "\n",
      "타타 : 174, 80\n",
      "\n",
      "타타 : 156, 92\n",
      "\n",
      "타카 : 194, 96\n",
      "\n",
      "아나 : 183, 80\n",
      "\n",
      "마가 : 162, 74\n",
      "\n",
      "자차 : 164, 45\n",
      "\n",
      "사파 : 169, 78\n",
      "\n",
      "다나 : 169, 99\n",
      "\n",
      "사아 : 182, 47\n",
      "\n",
      "카타 : 178, 92\n",
      "\n",
      "자마 : 178, 68\n",
      "\n",
      "나다 : 149, 77\n",
      "\n",
      "바자 : 166, 58\n",
      "\n",
      "타나 : 151, 84\n",
      "\n",
      "마라 : 173, 67\n",
      "\n",
      "하마 : 162, 42\n",
      "\n",
      "라다 : 192, 86\n",
      "\n",
      "가파 : 142, 76\n",
      "\n",
      "자아 : 142, 77\n",
      "\n",
      "사카 : 143, 62\n",
      "\n",
      "타카 : 161, 69\n",
      "\n",
      "가사 : 166, 93\n",
      "\n",
      "파가 : 194, 52\n",
      "\n",
      "카가 : 176, 77\n",
      "\n",
      "자마 : 174, 99\n",
      "\n",
      "파사 : 140, 80\n",
      "\n",
      "자파 : 198, 69\n",
      "\n",
      "타마 : 180, 65\n",
      "\n",
      "카바 : 194, 80\n",
      "\n",
      "아가 : 191, 57\n",
      "\n",
      "차사 : 167, 41\n",
      "\n",
      "마하 : 166, 67\n",
      "\n",
      "자하 : 148, 96\n",
      "\n",
      "자자 : 172, 48\n",
      "\n",
      "나라 : 157, 50\n",
      "\n",
      "아바 : 157, 96\n",
      "\n",
      "다라 : 140, 70\n",
      "\n",
      "라아 : 184, 91\n",
      "\n",
      "차차 : 168, 84\n",
      "\n"
     ]
    }
   ],
   "source": [
    "with open(\"info.txt\", \"r\") as file:\n",
    "    for line in file:\n",
    "        (name, height, weight) = line.split(',')\n",
    "        print(\"{} : {}, {}\".format(name, height, weight))"
   ]
  },
  {
   "cell_type": "markdown",
   "id": "e8acb52e",
   "metadata": {},
   "source": [
    "## 제너레이터\n",
    "<hr/>\n",
    "\n",
    "- 이터레이터를 직접 만들 때 사용하는 코드 \n",
    "\n",
    "\n",
    "- 함수 내부에 yield 키워드 사용하면 해당 함수는 제너레이터 함수 됨\n",
    "\n",
    "\n",
    "- 일반 함수와 달리 호출해도 함수 내부 코드가 실행되지 않음\n",
    "\n",
    "### next()\n"
   ]
  },
  {
   "cell_type": "code",
   "execution_count": 124,
   "id": "148a3517",
   "metadata": {},
   "outputs": [
    {
     "name": "stdout",
     "output_type": "stream",
     "text": [
      "함수 호출 111\n",
      "시작 00 : 1\n",
      "함수 호출 222\n",
      "시작 11 : 2\n",
      "함수 호출 333\n",
      "시작 22 : abc\n"
     ]
    },
    {
     "ename": "StopIteration",
     "evalue": "",
     "output_type": "error",
     "traceback": [
      "\u001b[1;31m---------------------------------------------------------------------------\u001b[0m",
      "\u001b[1;31mStopIteration\u001b[0m                             Traceback (most recent call last)",
      "\u001b[1;32m<ipython-input-124-a007db2534a7>\u001b[0m in \u001b[0;36m<module>\u001b[1;34m\u001b[0m\n\u001b[0;32m     11\u001b[0m \u001b[0mprint\u001b[0m\u001b[1;33m(\u001b[0m\u001b[1;34m\"시작 11 :\"\u001b[0m\u001b[1;33m,\u001b[0m \u001b[0mnext\u001b[0m\u001b[1;33m(\u001b[0m\u001b[0moutput\u001b[0m\u001b[1;33m)\u001b[0m\u001b[1;33m)\u001b[0m\u001b[1;33m\u001b[0m\u001b[1;33m\u001b[0m\u001b[0m\n\u001b[0;32m     12\u001b[0m \u001b[0mprint\u001b[0m\u001b[1;33m(\u001b[0m\u001b[1;34m\"시작 22 :\"\u001b[0m\u001b[1;33m,\u001b[0m \u001b[0mnext\u001b[0m\u001b[1;33m(\u001b[0m\u001b[0moutput\u001b[0m\u001b[1;33m)\u001b[0m\u001b[1;33m)\u001b[0m\u001b[1;33m\u001b[0m\u001b[1;33m\u001b[0m\u001b[0m\n\u001b[1;32m---> 13\u001b[1;33m \u001b[0mnext\u001b[0m\u001b[1;33m(\u001b[0m\u001b[0moutput\u001b[0m\u001b[1;33m)\u001b[0m \u001b[1;31m# 더이상 진행할 부분이 없음 error\u001b[0m\u001b[1;33m\u001b[0m\u001b[1;33m\u001b[0m\u001b[0m\n\u001b[0m",
      "\u001b[1;31mStopIteration\u001b[0m: "
     ]
    }
   ],
   "source": [
    "# 제너레이터 함수 만들기 : yield 키워드를 넣으면 일반 함수가 제너레이터 함수가 됨\n",
    "def test():\n",
    "    print(\"함수 호출 111\")\n",
    "    yield 1\n",
    "    print(\"함수 호출 222\")\n",
    "    yield 2\n",
    "    print(\"함수 호출 333\")\n",
    "    yield \"abc\"\n",
    "output = test()\n",
    "print(\"시작 00 :\", next(output)) # next() 함수를 사용해야 제너레이터 함수 호출\n",
    "print(\"시작 11 :\", next(output))\n",
    "print(\"시작 22 :\", next(output))\n",
    "next(output) # 더이상 진행할 부분이 없음 error"
   ]
  },
  {
   "cell_type": "code",
   "execution_count": 135,
   "id": "ae3da3a8",
   "metadata": {},
   "outputs": [
    {
     "name": "stdout",
     "output_type": "stream",
     "text": [
      "[1, 2, 3, 4, 5, 6, 7, 8, 9, 10]\n",
      "[1, 2, 3, 4, 5, 6, 7, 8, 9, 10]\n"
     ]
    },
    {
     "data": {
      "text/plain": [
       "[1, 3, 5, 7, 9]"
      ]
     },
     "execution_count": 135,
     "metadata": {},
     "output_type": "execute_result"
    }
   ],
   "source": [
    "#확인문제\n",
    "# 코드의 빈칸을 채워서 실행결과처럼 결과가 나오게 하라\n",
    "numbers = list(range(1, 10 + 1)) # 1부터 10까지의 수를 리스트로\n",
    "print(list(range(1, 10+1)))\n",
    "print(numbers) # 어디까지 나오면 모를 땐 출력해보기"
   ]
  },
  {
   "cell_type": "code",
   "execution_count": 136,
   "id": "c7a90537",
   "metadata": {
    "scrolled": true
   },
   "outputs": [
    {
     "name": "stdout",
     "output_type": "stream",
     "text": [
      "# 홀수만 추출하기\n",
      "[1, 3, 5, 7, 9]\n",
      "\n",
      "# 3이상, 7 미만 추출하기\n",
      "[3, 4, 5, 6]\n",
      "\n",
      "# 제곱해서 50 미만 추출하기\n",
      "[1, 2, 3, 4, 5, 6, 7]\n"
     ]
    }
   ],
   "source": [
    "print(\"# 홀수만 추출하기\")\n",
    "print(list(filter(lambda x: x%2,numbers)))\n",
    "print()\n",
    "\n",
    "print(\"# 3이상, 7 미만 추출하기\")\n",
    "print(list(filter(lambda x: 3 <= x < 7,numbers)))\n",
    "print()\n",
    "\n",
    "print(\"# 제곱해서 50 미만 추출하기\")\n",
    "print(list(filter(lambda x: x*x < 50,numbers)))"
   ]
  },
  {
   "cell_type": "code",
   "execution_count": 6,
   "id": "bc5b48a4",
   "metadata": {},
   "outputs": [
    {
     "name": "stdout",
     "output_type": "stream",
     "text": [
      "정수 입력> \n",
      "정수를 입력하지 않음 \n",
      "무조건 실행\n"
     ]
    }
   ],
   "source": [
    "# 조건문으로 예외 처리하기\n",
    "PI = 3.14\n",
    "# 예외처리 try:실행할 구문 입력 except: 예외 처리 구문 입력\n",
    "try:\n",
    "    input_number = int(input(\"정수 입력> \")) # 예외 발생 가능 코드\n",
    "except:\n",
    "    print(\"정수를 입력하지 않음 \")\n",
    "else:\n",
    "    print(\"원의 반지름 :\", input_number)\n",
    "    print(\"원의 둘레 :\", input_number*2*PI)\n",
    "    print(\"원의 넓이 :\", input_number*input_number*PI)\n",
    "finally:\n",
    "    print(\"무조건 실행\") # 무조건 실행되는 부분\n",
    "# 오전수업 끝"
   ]
  },
  {
   "cell_type": "markdown",
   "id": "5e7d5658",
   "metadata": {},
   "source": [
    "#### 사용예\n",
    "<hr/>\n",
    "\n",
    "\n",
    "\n",
    "- try + except\n",
    "\n",
    "\n",
    "- try + except + else\n",
    "\n",
    "\n",
    "- try + except + finally\n",
    "\n",
    "\n",
    "- try + except + else + finally\n",
    "\n",
    "\n",
    "- try + finally"
   ]
  },
  {
   "cell_type": "code",
   "execution_count": 52,
   "id": "76278ea2",
   "metadata": {},
   "outputs": [
    {
     "name": "stdout",
     "output_type": "stream",
     "text": [
      "file error [Errno 2] No such file or directory: 'file_close1.txt'\n",
      "try end... \n"
     ]
    }
   ],
   "source": [
    "def write_func(filename, text):\n",
    "    try:\n",
    "        file = open(filename, 'r')\n",
    "        return file # return이 중간에 존재\n",
    "        file.write(text)  # 실행 안됨\n",
    "    except Exception as error:\n",
    "        print(\"file error\", error)\n",
    "    finally:  # 중간에 return이 되어도 무조건 실행\n",
    "        print(\"try end... \")\n",
    "        #file.close()  # 얘는 실행됨\n",
    "                   \n",
    "write_func(\"file_close1.txt\", \"hello file\")\n",
    "#file.closed  # True"
   ]
  },
  {
   "cell_type": "code",
   "execution_count": 70,
   "id": "fedb922b",
   "metadata": {},
   "outputs": [
    {
     "name": "stdout",
     "output_type": "stream",
     "text": [
      "파일명 입력 :\n",
      "file open err :  No such file or directory\n"
     ]
    },
    {
     "ename": "FileNotFoundError",
     "evalue": "[Errno 2] No such file or directory: ''",
     "output_type": "error",
     "traceback": [
      "\u001b[1;31m---------------------------------------------------------------------------\u001b[0m",
      "\u001b[1;31mFileNotFoundError\u001b[0m                         Traceback (most recent call last)",
      "\u001b[1;32m<ipython-input-70-462309b35bd3>\u001b[0m in \u001b[0;36m<module>\u001b[1;34m\u001b[0m\n\u001b[0;32m      8\u001b[0m     \u001b[1;32mtry\u001b[0m\u001b[1;33m:\u001b[0m\u001b[1;33m\u001b[0m\u001b[1;33m\u001b[0m\u001b[0m\n\u001b[1;32m----> 9\u001b[1;33m         \u001b[0mfile\u001b[0m \u001b[1;33m=\u001b[0m \u001b[0mopen\u001b[0m\u001b[1;33m(\u001b[0m\u001b[0minput_filename\u001b[0m\u001b[1;33m,\u001b[0m \u001b[1;34m'r'\u001b[0m\u001b[1;33m)\u001b[0m\u001b[1;33m\u001b[0m\u001b[1;33m\u001b[0m\u001b[0m\n\u001b[0m\u001b[0;32m     10\u001b[0m         \u001b[0mprint\u001b[0m\u001b[1;33m(\u001b[0m\u001b[0mfile\u001b[0m\u001b[1;33m.\u001b[0m\u001b[0mread\u001b[0m\u001b[1;33m(\u001b[0m\u001b[1;33m)\u001b[0m\u001b[1;33m)\u001b[0m\u001b[1;33m\u001b[0m\u001b[1;33m\u001b[0m\u001b[0m\n",
      "\u001b[1;31mFileNotFoundError\u001b[0m: [Errno 2] No such file or directory: ''",
      "\nDuring handling of the above exception, another exception occurred:\n",
      "\u001b[1;31mFileNotFoundError\u001b[0m                         Traceback (most recent call last)",
      "\u001b[1;32m<ipython-input-70-462309b35bd3>\u001b[0m in \u001b[0;36m<module>\u001b[1;34m\u001b[0m\n\u001b[0;32m     13\u001b[0m     \u001b[1;32mexcept\u001b[0m \u001b[0mException\u001b[0m \u001b[1;32mas\u001b[0m \u001b[0merr\u001b[0m \u001b[1;33m:\u001b[0m\u001b[1;33m\u001b[0m\u001b[1;33m\u001b[0m\u001b[0m\n\u001b[0;32m     14\u001b[0m         \u001b[0mprint\u001b[0m\u001b[1;33m(\u001b[0m\u001b[1;34m\"file open err : \"\u001b[0m\u001b[1;33m,\u001b[0m \u001b[0merr\u001b[0m\u001b[1;33m.\u001b[0m\u001b[0margs\u001b[0m\u001b[1;33m[\u001b[0m\u001b[1;36m1\u001b[0m\u001b[1;33m]\u001b[0m\u001b[1;33m)\u001b[0m \u001b[1;31m#예외 에러 메세지만 출력\u001b[0m\u001b[1;33m\u001b[0m\u001b[1;33m\u001b[0m\u001b[0m\n\u001b[1;32m---> 15\u001b[1;33m         \u001b[0mfile\u001b[0m \u001b[1;33m=\u001b[0m \u001b[0mopen\u001b[0m\u001b[1;33m(\u001b[0m\u001b[0minput_filename\u001b[0m\u001b[1;33m,\u001b[0m\u001b[1;34m'w'\u001b[0m\u001b[1;33m)\u001b[0m\u001b[1;33m\u001b[0m\u001b[1;33m\u001b[0m\u001b[0m\n\u001b[0m\u001b[0;32m     16\u001b[0m         \u001b[0mfile\u001b[0m\u001b[1;33m.\u001b[0m\u001b[0mwrite\u001b[0m\u001b[1;33m(\u001b[0m\u001b[1;34m\"New file\"\u001b[0m\u001b[1;33m)\u001b[0m\u001b[1;33m\u001b[0m\u001b[1;33m\u001b[0m\u001b[0m\n\u001b[0;32m     17\u001b[0m     \u001b[1;32mfinally\u001b[0m\u001b[1;33m:\u001b[0m   \u001b[1;31m# 어떤 상황에도 무조건 실행\u001b[0m\u001b[1;33m\u001b[0m\u001b[1;33m\u001b[0m\u001b[0m\n",
      "\u001b[1;31mFileNotFoundError\u001b[0m: [Errno 2] No such file or directory: ''"
     ]
    }
   ],
   "source": [
    "# 키보드에서 파일명을 입력받아 'r'모드로 열어서 파일의 내용을 화면에 출력\n",
    "# 없으면 'w'모드로 open 후 \"New file\"을 파일에 저장 후 파일 close\n",
    "# try ~ except ~ finally\n",
    "#파일명 입력 \n",
    "\n",
    "while True:\n",
    "    input_filename = input(\"파일명 입력 :\")\n",
    "    try:\n",
    "        file = open(input_filename, 'r')\n",
    "        print(file.read())\n",
    "        break    # 이게 없으면 무한루프임\n",
    "        print(\"try break test\")\n",
    "    except Exception as err :\n",
    "        print(\"file open err : \", err.args[1]) #예외 에러 메세지만 출력\n",
    "        file = open(input_filename,'w')\n",
    "        file.write(\"New file\")\n",
    "    finally:   # 어떤 상황에도 무조건 실행\n",
    "        file.close()\n",
    "\n",
    "print(\"file.closed :\", file.closed)"
   ]
  },
  {
   "cell_type": "code",
   "execution_count": 71,
   "id": "3882c2f2",
   "metadata": {},
   "outputs": [
    {
     "ename": "IndentationError",
     "evalue": "expected an indented block (<ipython-input-71-1e6a591c043e>, line 2)",
     "output_type": "error",
     "traceback": [
      "\u001b[1;36m  File \u001b[1;32m\"<ipython-input-71-1e6a591c043e>\"\u001b[1;36m, line \u001b[1;32m2\u001b[0m\n\u001b[1;33m    except ValueError as e:\u001b[0m\n\u001b[1;37m    ^\u001b[0m\n\u001b[1;31mIndentationError\u001b[0m\u001b[1;31m:\u001b[0m expected an indented block\n"
     ]
    }
   ],
   "source": [
    "try:\n",
    "except ValueError as e:\n",
    "except IndexError as e:\n",
    "except Exception as e:"
   ]
  },
  {
   "cell_type": "code",
   "execution_count": 95,
   "id": "c829cc60",
   "metadata": {},
   "outputs": [
    {
     "name": "stdout",
     "output_type": "stream",
     "text": [
      "몇번째 요소를 찾을거임? > 1\n",
      "1번째 요소: 273\n",
      "정수 입력!!!\n",
      "<class 'ValueError'> 1 is not in list\n"
     ]
    }
   ],
   "source": [
    "# 모든 예외 잡기\n",
    "# 변수 선언\n",
    "list_number = [52, 273, 32, 72, 100]\n",
    "\n",
    "#try except 구문으로 예외 처리\n",
    "try:\n",
    "    #숫자 입력\n",
    "    number_input = int(input(\"몇번째 요소를 찾을거임? > \"))\n",
    "    #리스트 요소 출력\n",
    "    print(\"{}번째 요소: {}\".format(number_input, list_number[number_input]))\n",
    "    print(\"value error \", list_number.index(number_input)) # index error\n",
    "    예외.커몽()\n",
    "except ValueError as exception:\n",
    "    # ValueError 발생하는 경우\n",
    "    print(\"정수 입력!!!\")\n",
    "    print(type(exception), exception)\n",
    "except IndexError as exception:\n",
    "    # IndexError 발생하는 경우\n",
    "    print(\"리스트의 인덱스를 벗어났음!!!\")\n",
    "    print(type(exception), exception)\n",
    "except Exception as exception:\n",
    "    # 이외의 예외 발생\n",
    "    print(\"이건 머선 오류고\")\n",
    "    print(type(exception), exception)"
   ]
  },
  {
   "cell_type": "code",
   "execution_count": 98,
   "id": "a56d823d",
   "metadata": {},
   "outputs": [],
   "source": [
    "# 미구현된 부분 강제로 예외 발생시키기 'raise가 나오면 아직 미구현이구나!'\n",
    "number = 10\n",
    "\n",
    "if number > 0:\n",
    "    pass\n",
    "else:\n",
    "    raise NotImplementedError"
   ]
  },
  {
   "cell_type": "code",
   "execution_count": 110,
   "id": "37e6d14c",
   "metadata": {},
   "outputs": [
    {
     "ename": "SyntaxError",
     "evalue": "invalid syntax (<ipython-input-110-381ece3405fd>, line 16)",
     "output_type": "error",
     "traceback": [
      "\u001b[1;36m  File \u001b[1;32m\"<ipython-input-110-381ece3405fd>\"\u001b[1;36m, line \u001b[1;32m16\u001b[0m\n\u001b[1;33m    def file_open_r(file_name, \"r\"):\u001b[0m\n\u001b[1;37m                               ^\u001b[0m\n\u001b[1;31mSyntaxError\u001b[0m\u001b[1;31m:\u001b[0m invalid syntax\n"
     ]
    }
   ],
   "source": [
    "'''\n",
    "파일명을  입력받아 \"w\"모드로 open\n",
    "이름과 성적을 입력받아 파일에 저장\n",
    "이름에 \"end\"가 입력되면 file을 close한 후 \n",
    "\"r\"모드로 파일을 다시 open\n",
    "파일에서 자료를 읽어 list에 저장한 후\n",
    "키보드로부터 검색할 이름을 검색 한 후 있으면 이름과 성적 출력\n",
    "없으면 \"Not found\" 출력\n",
    "파일을 open하는 함수 file_open() 작성\n",
    "'''\n",
    "#파일명 입력\n",
    "file_name = input(\"파일명 입력 > \")\n",
    "input_name = input(\"이름 입력 : \")\n",
    "input_score = input(\"성적 입력 : \")\n",
    "\n",
    "def file_open_r(file_name, \"r\"):\n",
    "    file = open(file_name, 'r')\n",
    "def file_open_w(file_name, \"w\"):\n",
    "    open(file_name, 'w')\n",
    "\n",
    "    #파일open 함수 호출\n",
    "\n",
    "#자료 입력(이름, 성적), 이름에 \"end\"가 입력되면 입력 종료\n",
    "try:\n",
    "    file_open_w(file_name,\"w\")\n",
    "    file.write(input_name,input_score)\n",
    "    if input_name == \"end\":\n",
    "        #file close\n",
    "        file.close()        \n",
    "#file open함수 호출\n",
    "file_open_r(file_name,\"r\")\n",
    "#자료를 가져와서 변수에 저장\n",
    "#검색할 이름 입력\n",
    "#자료 검색 : 존재하면 출력, 없으면 \"Not found\"\n",
    "\n",
    "    "
   ]
  },
  {
   "cell_type": "code",
   "execution_count": 129,
   "id": "cd5e0082",
   "metadata": {},
   "outputs": [
    {
     "name": "stdout",
     "output_type": "stream",
     "text": [
      "파일명 입력 >응애\n",
      "모드 입력 >r\n"
     ]
    },
    {
     "ename": "NameError",
     "evalue": "name 'file_open' is not defined",
     "output_type": "error",
     "traceback": [
      "\u001b[1;31m---------------------------------------------------------------------------\u001b[0m",
      "\u001b[1;31mNameError\u001b[0m                                 Traceback (most recent call last)",
      "\u001b[1;32m<ipython-input-129-74b409bb973c>\u001b[0m in \u001b[0;36m<module>\u001b[1;34m\u001b[0m\n\u001b[0;32m     12\u001b[0m \u001b[0mfile_name\u001b[0m \u001b[1;33m=\u001b[0m\u001b[0minput\u001b[0m\u001b[1;33m(\u001b[0m\u001b[1;34m\"파일명 입력 >\"\u001b[0m\u001b[1;33m)\u001b[0m\u001b[1;33m\u001b[0m\u001b[1;33m\u001b[0m\u001b[0m\n\u001b[0;32m     13\u001b[0m \u001b[0mfile_mode\u001b[0m \u001b[1;33m=\u001b[0m\u001b[0minput\u001b[0m\u001b[1;33m(\u001b[0m\u001b[1;34m\"모드 입력 >\"\u001b[0m\u001b[1;33m)\u001b[0m\u001b[1;33m\u001b[0m\u001b[1;33m\u001b[0m\u001b[0m\n\u001b[1;32m---> 14\u001b[1;33m \u001b[0mfile\u001b[0m \u001b[1;33m=\u001b[0m \u001b[0mfile_open\u001b[0m\u001b[1;33m(\u001b[0m\u001b[0mfile_name\u001b[0m\u001b[1;33m,\u001b[0m \u001b[1;34m\"'\"\u001b[0m\u001b[1;33m+\u001b[0m\u001b[0mfile_mode\u001b[0m\u001b[1;33m+\u001b[0m\u001b[1;34m\"'\"\u001b[0m\u001b[1;33m)\u001b[0m \u001b[1;31m#파일open 함수 호출\u001b[0m\u001b[1;33m\u001b[0m\u001b[1;33m\u001b[0m\u001b[0m\n\u001b[0m\u001b[0;32m     15\u001b[0m \u001b[0mfile_write\u001b[0m\u001b[1;33m(\u001b[0m\u001b[0mfile\u001b[0m\u001b[1;33m)\u001b[0m \u001b[1;31m#파일에 저장하는 함수 호출\u001b[0m\u001b[1;33m\u001b[0m\u001b[1;33m\u001b[0m\u001b[0m\n\u001b[0;32m     16\u001b[0m \u001b[0mfile\u001b[0m\u001b[1;33m.\u001b[0m\u001b[0mclose\u001b[0m\u001b[1;33m(\u001b[0m\u001b[1;33m)\u001b[0m \u001b[1;31m#파일 close\u001b[0m\u001b[1;33m\u001b[0m\u001b[1;33m\u001b[0m\u001b[0m\n",
      "\u001b[1;31mNameError\u001b[0m: name 'file_open' is not defined"
     ]
    }
   ],
   "source": [
    "'''\n",
    "파일명을  입력받아 \"w\"모드로 open\n",
    "이름과 성적을 입력받아 파일에 저장\n",
    "이름에 \"end\"가 입력되면 file을 close한 후 \n",
    "\"r\"모드로 파일을 다시 open\n",
    "파일에서 자료를 읽어 list에 저장한 후\n",
    "키보드로부터 검색할 이름을 검색 한 후 있으면 이름과 성적 출력\n",
    "없으면 \"Not found\" 출력\n",
    "파일을 open하는 함수 file_open() 작성\n",
    "'''\n",
    "#파일명 입력\n",
    "file_name =input(\"파일명 입력 >\")\n",
    "file_mode =input(\"모드 입력 >\")\n",
    "file = file_open(file_name, \"'\"+file_mode+\"'\") #파일open 함수 호출\n",
    "file_write(file) #파일에 저장하는 함수 호출\n",
    "file.close() #파일 close\n",
    "\n",
    "#파일에서 자료를 가져와서 변수에 저장\n",
    "names, scores = [],[]\n",
    "with file_open(file_name,\"r\") as file:\n",
    "    for item in file:\n",
    "        values = item.split(',')\n",
    "        names.append(values[0])\n",
    "        scores.append(int(values[1]))\n",
    "        \n",
    "#검색할 이름 입력\n",
    "name = input(\"find name >\")\n",
    "#자료 검색 : 존재하면 출력, 없으면 \"Not found\"\n",
    "if name in names:\n",
    "    print(\"{} : {}\".format(name,scores[names.index(name)]))\n",
    "else:\n",
    "    print(\"Not Found\")\n",
    "\n",
    "#파일open\n",
    "def file_open(file_name, file_mode):\n",
    "    file = open(file_name, file_mode)\n",
    "    return file\n",
    "    \n",
    "def file_write(file): # 자료 입력 (이름, 성적). 이름에 'end'입력되면 입력 종료\n",
    "    while True:\n",
    "        name = input(\"이름 입력 : 'end'입력시 종료 >\")\n",
    "        if name == 'end' :\n",
    "            break\n",
    "    \n",
    "        while True:\n",
    "            try:\n",
    "                score = int(input(\"성적 입력 > \"))\n",
    "                break\n",
    "            except:\n",
    "                print(\"숫자 입력 \")\n",
    "    context = name + ',' + str(score) + '\\n'\n",
    "    file.write(context) # file에 자료 저장\n",
    "# 전체 성적의 합과 평균, 인원수 출력\n",
    "print(sum(scores))"
   ]
  }
 ],
 "metadata": {
  "kernelspec": {
   "display_name": "Python 3",
   "language": "python",
   "name": "python3"
  },
  "language_info": {
   "codemirror_mode": {
    "name": "ipython",
    "version": 3
   },
   "file_extension": ".py",
   "mimetype": "text/x-python",
   "name": "python",
   "nbconvert_exporter": "python",
   "pygments_lexer": "ipython3",
   "version": "3.8.8"
  }
 },
 "nbformat": 4,
 "nbformat_minor": 5
}
