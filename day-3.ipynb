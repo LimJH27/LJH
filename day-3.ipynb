{
 "cells": [
  {
   "cell_type": "markdown",
   "id": "3a1e2ac5",
   "metadata": {},
   "source": [
    "### 복습"
   ]
  },
  {
   "cell_type": "code",
   "execution_count": 13,
   "id": "25a69e1a",
   "metadata": {
    "scrolled": true
   },
   "outputs": [
    {
     "name": "stdout",
     "output_type": "stream",
     "text": [
      " - 100이상의 수 :  273\n",
      " - 100이상의 수 :  103\n",
      " - 100이상의 수 :  800\n",
      "1\n",
      "2\n",
      "3\n",
      "4\n",
      "5\n",
      "6\n",
      "7\n",
      "8\n",
      "9\n"
     ]
    }
   ],
   "source": [
    "#반복문 내에 if 조건문의 조건식을 채워서 100 이상의 숫자만 출력하게 만들기\n",
    "numbers = [ 273, 103, 5, 32, 65, 9, 72, 800, 99]\n",
    "\n",
    "for number in numbers:\n",
    "    if number >=100:\n",
    "        print(\" - 100이상의 수 : \" , number)\n",
    "        \n",
    "#빈칸 채워서 숫자를 하나하나 모두 출력하기\n",
    "list_of_list = [\n",
    "    [1, 2, 3],\n",
    "    [4, 5, 6, 7],\n",
    "    [8, 9]\n",
    "]\n",
    "\n",
    "for i_1 in list_of_list:\n",
    "    for i_2 in i_1:               # for문장 두번써서 두번묶인거 풀어내기\n",
    "        print(i_2)"
   ]
  },
  {
   "cell_type": "markdown",
   "id": "05a3cc95",
   "metadata": {},
   "source": [
    "# **Dictionary**\n",
    "<hr/>\n",
    "\n",
    "- 리스트 : 인덱스를 기반으로 값을 저장, 변수 선언은 []  \n",
    "- 딕셔너리 : 키를 기반으로 값을 저장, 변수 선언은 {}"
   ]
  },
  {
   "cell_type": "code",
   "execution_count": 46,
   "id": "54e7ff2b",
   "metadata": {},
   "outputs": [
    {
     "name": "stdout",
     "output_type": "stream",
     "text": [
      "name: 7D 건조 망고\n",
      "type: 당절임\n",
      "ingredient: ['망고', '설탕', '메타중아황산나트륨', '치자황색소']\n",
      "origin: 필리핀\n",
      "\n",
      "name: 8D 건조 망고\n"
     ]
    }
   ],
   "source": [
    "# 딕셔너리 선언\n",
    "dictionary = {\n",
    "    \"name\" : \"7D 건조 망고\",\n",
    "    \"type\" : \"당절임\",\n",
    "    \"ingredient\" : [\"망고\", \"설탕\", \"메타중아황산나트륨\", \"치자황색소\"],\n",
    "    \"origin\" : \"필리핀\"\n",
    "}\n",
    "# 출력\n",
    "print(\"name:\" , dictionary[\"name\"])\n",
    "print(\"type:\" , dictionary[\"type\"])\n",
    "print(\"ingredient:\", dictionary[\"ingredient\"])\n",
    "print(\"origin:\", dictionary[\"origin\"])\n",
    "print()\n",
    "\n",
    "# 값 변경\n",
    "dictionary[\"name\"] = \"8D 건조 망고\"\n",
    "print(\"name:\", dictionary[\"name\"])\n"
   ]
  },
  {
   "cell_type": "code",
   "execution_count": 37,
   "id": "5cd45f2f",
   "metadata": {},
   "outputs": [
    {
     "data": {
      "text/plain": [
       "{'name': '8D 건조 망고',\n",
       " 'type': '당절임',\n",
       " 'ingredient': ['망고', '설탕', '메타중아황산나트륨', '치자황색소'],\n",
       " 'origin': '필리핀',\n",
       " 'new': '새로운 값 추가'}"
      ]
     },
     "execution_count": 37,
     "metadata": {},
     "output_type": "execute_result"
    }
   ],
   "source": [
    "dictionary[\"new\"]=\"새로운 값 추가\" # 딕셔너리 새로운 값 추가\n",
    "dictionary"
   ]
  },
  {
   "cell_type": "code",
   "execution_count": 43,
   "id": "b7e4741f",
   "metadata": {},
   "outputs": [
    {
     "data": {
      "text/plain": [
       "{'name': '8D 건조 망고',\n",
       " 'type': '당절임',\n",
       " 'ingredient': ['망고', '설탕', '메타중아황산나트륨', '치자황색소']}"
      ]
     },
     "execution_count": 43,
     "metadata": {},
     "output_type": "execute_result"
    }
   ],
   "source": [
    "# dictionary에 있는 값을 제거 : del\n",
    "del dictionary[\"origin\"]\n",
    "dictionary"
   ]
  },
  {
   "cell_type": "code",
   "execution_count": 45,
   "id": "947c1af5",
   "metadata": {},
   "outputs": [
    {
     "ename": "KeyError",
     "evalue": "'origin'",
     "output_type": "error",
     "traceback": [
      "\u001b[1;31m---------------------------------------------------------------------------\u001b[0m",
      "\u001b[1;31mKeyError\u001b[0m                                  Traceback (most recent call last)",
      "\u001b[1;32m<ipython-input-45-7bdabf9533cd>\u001b[0m in \u001b[0;36m<module>\u001b[1;34m\u001b[0m\n\u001b[1;32m----> 1\u001b[1;33m \u001b[0mdictionary\u001b[0m\u001b[1;33m[\u001b[0m\u001b[1;34m\"origin\"\u001b[0m\u001b[1;33m]\u001b[0m \u001b[1;31m# keyerror : 딕셔너리에 키값이 없는 경우 발생함.\u001b[0m\u001b[1;33m\u001b[0m\u001b[1;33m\u001b[0m\u001b[0m\n\u001b[0m",
      "\u001b[1;31mKeyError\u001b[0m: 'origin'"
     ]
    }
   ],
   "source": [
    "dictionary[\"origin\"] # keyerror : 딕셔너리에 키값이 없는 경우 발생함."
   ]
  },
  {
   "cell_type": "code",
   "execution_count": 54,
   "id": "2bf6fdad",
   "metadata": {},
   "outputs": [
    {
     "name": "stdout",
     "output_type": "stream",
     "text": [
      " > 딕셔너리 접근 키 입력 : 222\n",
      "존재하지 않는 키입니다\n"
     ]
    }
   ],
   "source": [
    "key = input(\" > 딕셔너리 접근 키 입력 : \")\n",
    "\n",
    "if key in dictionary:\n",
    "    print(dictionary[key])\n",
    "else :\n",
    "    print(\"존재하지 않는 키입니다\")"
   ]
  },
  {
   "cell_type": "code",
   "execution_count": 58,
   "id": "adc6442d",
   "metadata": {},
   "outputs": [
    {
     "name": "stdout",
     "output_type": "stream",
     "text": [
      " value1 :  8D 건조 망고\n",
      " value2 :  None\n",
      "none\n"
     ]
    }
   ],
   "source": [
    "# get()함수 : key error 대신 none이 나옴\n",
    "value1 = dictionary.get(\"name\")\n",
    "value2 = dictionary.get(\"abcde\")\n",
    "\n",
    "print(\" value1 : \" , value1)\n",
    "print(\" value2 : \" , value2)\n",
    "\n",
    "if not value2:\n",
    "    print(\"none\")"
   ]
  },
  {
   "cell_type": "code",
   "execution_count": 64,
   "id": "71c97e88",
   "metadata": {},
   "outputs": [
    {
     "name": "stdout",
     "output_type": "stream",
     "text": [
      "name : 8D 건조 망고\n",
      "type : 당절임\n",
      "ingredient : ['망고', '설탕', '메타중아황산나트륨', '치자황색소']\n",
      "origin : 필리핀\n"
     ]
    }
   ],
   "source": [
    "# for 문장을 사용하여 dictionary의 값을 출력\n",
    "for j in dictionary:\n",
    "    print(j ,\":\", dictionary[j])"
   ]
  },
  {
   "cell_type": "markdown",
   "id": "f30c2eac",
   "metadata": {},
   "source": [
    " 특정 값이 어떤 자료형인지 확인하는 방법\n",
    " type(\"문자열\") is str : 문자열인지 확인\n",
    " type([]) is list : 리스트인지 확인\n",
    " type({}) is dict : 딕셔너리인지 확인\n",
    " ex)\n",
    "type(dict_a)\n",
    "if type(list_a) == list:\n",
    "    print(\"list_a는 list\")\n",
    "if type(dict_a) == dict:\n",
    "    print(\"dict_a는 dict\")\n",
    "    "
   ]
  },
  {
   "cell_type": "code",
   "execution_count": 132,
   "id": "78c09e7c",
   "metadata": {},
   "outputs": [
    {
     "name": "stdout",
     "output_type": "stream",
     "text": [
      "name  :  기사\n",
      "level  :  12\n",
      "sword  :  불꽃의 검\n",
      "armor  :  풀플레이트\n",
      "skill  :  베기\n",
      "skill  :  세게 베기\n",
      "skill  :  아주 세게 베기\n"
     ]
    }
   ],
   "source": [
    "# 중요\n",
    "character = {\n",
    "    \"name\" : \"기사\",\n",
    "    \"level\" : 12,\n",
    "    \"items\": {\n",
    "        \"sword\": \"불꽃의 검\",\n",
    "        \"armor\": \"풀플레이트\"\n",
    "    },\n",
    "    \"skill\" : [\"베기\",\"세게 베기\",\"아주 세게 베기\"]\n",
    "}\n",
    "\n",
    "\n",
    "for key in character:\n",
    "    # key : \"items\", character[\"items\"]:{\"sword\": \"불꽃의 검\", \"armor\" : \"풀플레이트\"}\n",
    "    # key : \"skill\" , character[\"skill\"]:[\"베기\",\"세게 베기\",\"아주 세게 베기\"]\n",
    "    if type(character[key]) == list:\n",
    "        for value in character[key]:\n",
    "            print(key, \" : \", value)\n",
    "    elif type(character[key]) == dict: # 딕셔너리는 값을 키값으로 가져오니까..\n",
    "        for key1 in character[key]:\n",
    "            print(key1, \" : \", character[key][key1]) \n",
    "    else:\n",
    "        print(key, \" : \", character[key])\n",
    "        "
   ]
  },
  {
   "cell_type": "markdown",
   "id": "6c73fc9c",
   "metadata": {},
   "source": [
    "## ___범위 함수 range___\n",
    "<hr/>"
   ]
  },
  {
   "cell_type": "code",
   "execution_count": 145,
   "id": "55d7e76e",
   "metadata": {},
   "outputs": [
    {
     "name": "stdout",
     "output_type": "stream",
     "text": [
      "[0, 1, 2, 3, 4]\n"
     ]
    },
    {
     "data": {
      "text/plain": [
       "[1, 3, 5, 7, 9]"
      ]
     },
     "execution_count": 145,
     "metadata": {},
     "output_type": "execute_result"
    }
   ],
   "source": [
    "a = list(range(5))\n",
    "print(a)\n",
    "list(range(1, 10, 2))"
   ]
  },
  {
   "cell_type": "code",
   "execution_count": 167,
   "id": "47a8e343",
   "metadata": {},
   "outputs": [
    {
     "name": "stdout",
     "output_type": "stream",
     "text": [
      "0= 반복 변수\n",
      "1= 반복 변수\n",
      "2= 반복 변수\n",
      "3= 반복 변수\n",
      "4= 반복 변수\n",
      "\n",
      "5= 반복 변수\n",
      "6= 반복 변수\n",
      "7= 반복 변수\n",
      "8= 반복 변수\n",
      "9= 반복 변수\n",
      "\n",
      "0=반복 변수\n",
      "3=반복 변수\n",
      "6=반복 변수\n",
      "9=반복 변수\n",
      "\n"
     ]
    }
   ],
   "source": [
    "for i in range(5): # 0부터 4(5-1)까지\n",
    "    print(str(i) + \"= 반복 변수\") # str(i) = i를 문자열로 변환.\n",
    "print()\n",
    "\n",
    "for i in range(5,10): # 5부터 9(10-1)까지\n",
    "    print(str(i) + \"= 반복 변수\")\n",
    "print()\n",
    "\n",
    "for i in range(0, 10, 3): # 0~9(10-1)까지 3의 간격으로\n",
    "    print(str(i) + \"=반복 변수\")\n",
    "print()"
   ]
  },
  {
   "cell_type": "code",
   "execution_count": 196,
   "id": "00edc874",
   "metadata": {},
   "outputs": [
    {
     "ename": "SyntaxError",
     "evalue": "invalid syntax (<ipython-input-196-659cb5b7978e>, line 17)",
     "output_type": "error",
     "traceback": [
      "\u001b[1;36m  File \u001b[1;32m\"<ipython-input-196-659cb5b7978e>\"\u001b[1;36m, line \u001b[1;32m17\u001b[0m\n\u001b[1;33m    for i in reversed(range(len(array)):  # 뒤에서부터 출력\u001b[0m\n\u001b[1;37m                                       ^\u001b[0m\n\u001b[1;31mSyntaxError\u001b[0m\u001b[1;31m:\u001b[0m invalid syntax\n"
     ]
    }
   ],
   "source": [
    "array = [273, 32, 103, 57, 52]\n",
    "# 리스트에 반복문 적용\n",
    "index = 1\n",
    "for i in array:\n",
    "    print(\"{}번째 반복 : {}\".format(index, i))\n",
    "    index+=1\n",
    "print()\n",
    "\n",
    "# range 함수를 이용하여 범위 지정하여 반복\n",
    "for i in range(len(array)):\n",
    "    print(\"{}번째 반복 : {}\".format(i+1, array[i])) #range는 0부터 시작하니까 i+1.\n",
    "    \n",
    "# reverse로 출력\n",
    "for i in range(len(array),0, -1): # -1씩 감소\n",
    "    print(\"{}번째 반복 : {}\".format(i, array[i-1])\n",
    "          \n",
    "for i in reversed(range(len(array)):  # 뒤에서부터 출력\n",
    "    print(\"{}번째 반복 : {}\".format(i, array[i])"
   ]
  },
  {
   "cell_type": "code",
   "execution_count": 206,
   "id": "f3fa7588",
   "metadata": {},
   "outputs": [
    {
     "ename": "SyntaxError",
     "evalue": "invalid syntax (<ipython-input-206-d6367b72b194>, line 10)",
     "output_type": "error",
     "traceback": [
      "\u001b[1;36m  File \u001b[1;32m\"<ipython-input-206-d6367b72b194>\"\u001b[1;36m, line \u001b[1;32m10\u001b[0m\n\u001b[1;33m    for i in reversed(range(len(array)):  # 뒤에서부터 출력....인데 왜 이것만 안되는거지?\u001b[0m\n\u001b[1;37m                                       ^\u001b[0m\n\u001b[1;31mSyntaxError\u001b[0m\u001b[1;31m:\u001b[0m invalid syntax\n"
     ]
    }
   ],
   "source": [
    "array = [273, 32, 103, 57, 52]\n",
    "index = 1\n",
    "for i in array:\n",
    "    print(\"{} 번째 반복 : {} \".format(index, i))\n",
    "    index+=1\n",
    "for i in range(len(array)):\n",
    "    print(\"{} 번째 반복 : {} \".format(i+1, array[i]))\n",
    "for i in range(len(array),0,-1):\n",
    "    print(\"{} 번째 반복 : {}\".format(i,array[i-1]))\n",
    "for i in reversed(range(len(array)):  # 뒤에서부터 출력....인데 왜 이것만 안되는거지?\n",
    "    print(\"{}번째 반복 : {}\".format(i, array[i])"
   ]
  },
  {
   "cell_type": "markdown",
   "id": "604c99b8",
   "metadata": {},
   "source": [
    "## while 조건식 :\n",
    "    처리문"
   ]
  },
  {
   "cell_type": "code",
   "execution_count": 197,
   "id": "1dab0bcd",
   "metadata": {},
   "outputs": [
    {
     "name": "stdout",
     "output_type": "stream",
     "text": [
      ".........."
     ]
    }
   ],
   "source": [
    "i = 0\n",
    "while i<10: # 조건식을 탈출하는 구문이 while 처리문 안에 존재해야 한다.\n",
    "    print(\".\",end=\"\")\n",
    "    i+=1  # i=i+1"
   ]
  },
  {
   "cell_type": "code",
   "execution_count": 207,
   "id": "bc38a498",
   "metadata": {},
   "outputs": [
    {
     "data": {
      "text/plain": [
       "[273, 103, 57, 52]"
      ]
     },
     "execution_count": 207,
     "metadata": {},
     "output_type": "execute_result"
    }
   ],
   "source": [
    "array = [273, 32, 103, 57, 32, 52]\n",
    "value = 32\n",
    "\n",
    "# del array[1] : 1 인덱스의 리스트값을 제거\n",
    "while value in array: # 값을 list에서 모두 지우기\n",
    "    array.remove(value) # list의 해당하는 값을 모두 제거\n",
    "    \n",
    "array"
   ]
  },
  {
   "cell_type": "code",
   "execution_count": 210,
   "id": "d6507417",
   "metadata": {},
   "outputs": [
    {
     "name": "stdout",
     "output_type": "stream",
     "text": [
      "현재시간 :  1632367101.103836\n",
      "5초 동안 26509104번 반복\n"
     ]
    }
   ],
   "source": [
    "import time  # 시간 관련 패키지 함수 사용시 import함.\n",
    "number = 0\n",
    "print(\"현재시간 : \", time.time())\n",
    "target_time = time.time() + 5\n",
    "while time.time() < target_time:  # 특정 시간동안 프로그램 정지 또는 실행 가능.\n",
    "    number += 1\n",
    "print(\"{}초 동안 {}번 반복\".format(5,number))"
   ]
  },
  {
   "cell_type": "code",
   "execution_count": 242,
   "id": "6c9c3f21",
   "metadata": {},
   "outputs": [
    {
     "name": "stdout",
     "output_type": "stream",
     "text": [
      "> 부호 입력 ( #이면 종료, +,-,*,/) >+\n",
      " 두 개의 숫자 입력 > 1 2\n",
      "1 + 2 = 3\n",
      "> 부호 입력 ( #이면 종료, +,-,*,/) >#\n",
      "program end\n"
     ]
    }
   ],
   "source": [
    "#문) 기호 숫자 두 개를 입력받아 계산하는 프로그램을 작성\n",
    "# 기호가 '#'이면 프로그램 종료\n",
    "# 기호는 '+','-','*','/'만 실행, 다른 기호는 계속해서 진행.\n",
    "\n",
    "\n",
    "char_list= ['+','-','*','/']\n",
    "while True:\n",
    "    input_char = input(\"> 부호 입력 ( #이면 종료, +,-,*,/) >\")\n",
    "    if input_char == '#':\n",
    "        break\n",
    "    elif input_char in char_list:\n",
    "        while True:\n",
    "            input_num = input(\" 두 개의 숫자 입력 > \").split()\n",
    "            if len(input_num) == 2:\n",
    "                break\n",
    "            \n",
    "        value1 = int(input_num[0])\n",
    "        value2 = int(input_num[1])\n",
    "        if input_char == '+':\n",
    "            print(\"{} {} {} = {}\".format(value1, input_char, value2,value1+value2))\n",
    "        elif input_char == '-':\n",
    "            print(\"{} {} {} = {}\".format(value1, input_char, value2,value1-value2))\n",
    "        elif input_char == '*':\n",
    "            print(\"{} {} {} = {}\".format(value1, input_char, value2,value1*value2))\n",
    "        else:\n",
    "            if value1 != 0 and value2 != 0:\n",
    "                print(\"{} {} {} = {}\".format(value1, input_char, value2, value1/value2))\n",
    "            else:\n",
    "                print(\"0은 나누기 안됨\")\n",
    "print(\"program end\")"
   ]
  },
  {
   "cell_type": "code",
   "execution_count": 243,
   "id": "ba078dc5",
   "metadata": {},
   "outputs": [
    {
     "name": "stdout",
     "output_type": "stream",
     "text": [
      "1\n",
      "i ==  1\n",
      "3\n",
      "i ==  3\n",
      "5\n",
      "i ==  5\n"
     ]
    }
   ],
   "source": [
    "i = 0\n",
    "while i < 10:\n",
    "    i += 1\n",
    "    if i == 6:\n",
    "        break   # while 문장 탈출\n",
    "    elif(i%2 == 0):\n",
    "        continue  # while의 조건식으로 분기.\n",
    "    else:\n",
    "        print(i)\n",
    "        \n",
    "    print(\"i == \", i)\n",
    "    \n",
    "# 오전수업 끝"
   ]
  },
  {
   "cell_type": "code",
   "execution_count": 247,
   "id": "03e93746",
   "metadata": {},
   "outputs": [
    {
     "name": "stdout",
     "output_type": "stream",
     "text": [
      "0번째 반복\n",
      "> 종료 콜?(y/n): y\n",
      "tr\n"
     ]
    }
   ],
   "source": [
    "i = 0\n",
    "\n",
    "while True:\n",
    "    print(\"{}번째 반복\".format(i))\n",
    "    i = i+1\n",
    "    input_text = input(\"> 종료 콜?(y/n): \")\n",
    "    if input_text in [\"y\",\"Y\"]:\n",
    "                      print(\"tr\")\n",
    "                      break"
   ]
  },
  {
   "cell_type": "code",
   "execution_count": 250,
   "id": "69d54329",
   "metadata": {},
   "outputs": [
    {
     "name": "stdout",
     "output_type": "stream",
     "text": [
      "{'name': '기사', 'hp': 200, 'mp': 30, 'lev': 5}\n"
     ]
    }
   ],
   "source": [
    "# 빈칸을 채워 키와 값으로 이루어진 각 리스트를 조합해 하나의 딕셔너리를 만들어보자.\n",
    "key_list = [\"name\", \"hp\", \"mp\", \"lev\"]\n",
    "value_list = [\"기사\", 200, 30, 5]\n",
    "character = {}\n",
    "\n",
    "# 원래는 character[\"name\"]=\"기사\", 일일히 입력하기엔 번거로움.\n",
    "\n",
    "for i in range(len(key_list)):    # len(key_list) <- 4, range(4) <- 0~3 index 사용\n",
    "    character[key_list[i]] = value_list[i]\n",
    "\n",
    "\n",
    "print(character)"
   ]
  },
  {
   "cell_type": "markdown",
   "id": "d1a04765",
   "metadata": {},
   "source": [
    "# 파이선만의 고유 기능\n",
    "- 리스트에 적용 가능한 기본 함수 : min(), max(), sum()\n",
    "- 리스트 뒤집기 : reversed()\n",
    "- 현재 인덱스가 몇번째인지 확인 : enumerate()\n",
    "- 딕셔너리로 쉽게 반복문 작성 : items()\n",
    "- 리스트 안에 for문 사용하기 : 리스트 내포"
   ]
  },
  {
   "cell_type": "code",
   "execution_count": 267,
   "id": "5e56d696",
   "metadata": {},
   "outputs": [
    {
     "name": "stdout",
     "output_type": "stream",
     "text": [
      "[55, 77, 32, 273, 53, 102]\n",
      "[55, 77, 32, 273, 53, 102]\n",
      "594 592\n"
     ]
    }
   ],
   "source": [
    "numbers = [ 102, 53, 273, 32, 77, 55]\n",
    "\n",
    "sum(numbers) # 함수에서 Shift+Tab누르면 정보 나옴.\n",
    "sum(numbers,start=2)\n",
    "min(numbers)\n",
    "max(numbers)\n",
    "print(list(reversed(numbers)))\n",
    "print(numbers[ : :-1]) # reversed()와 같음 : [시작:끝:맨뒤부터]\n",
    "\n",
    "print(sum(numbers,start=2), sum(numbers,start=0))"
   ]
  },
  {
   "cell_type": "code",
   "execution_count": 290,
   "id": "8d99326c",
   "metadata": {},
   "outputs": [
    {
     "name": "stdout",
     "output_type": "stream",
     "text": [
      "[102, 53, 273, 32, 77, 55]\n",
      "0번째 요소 : 102\n",
      "1번째 요소 : 53\n",
      "2번째 요소 : 273\n",
      "3번째 요소 : 32\n",
      "4번째 요소 : 77\n",
      "5번째 요소 : 55\n",
      "\n",
      "enumerate\n",
      "0번째 요소 : 102\n",
      "1번째 요소 : 53\n",
      "2번째 요소 : 273\n",
      "3번째 요소 : 32\n",
      "4번째 요소 : 77\n",
      "5번째 요소 : 55\n",
      "\n",
      "랜덤으로 숫자 입력 :1 2 3 4 5 6\n",
      "0번째 요소 : 1\n",
      "1번째 요소 : 2\n",
      "2번째 요소 : 3\n",
      "3번째 요소 : 4\n",
      "4번째 요소 : 5\n",
      "5번째 요소 : 6\n",
      "최소값 : 1\t 최댓값 : 6 \t 합계 : 21\n",
      "\n"
     ]
    }
   ],
   "source": [
    "# enumerate() 함수\n",
    "numbers = [ 102, 53, 273, 32, 77, 55]\n",
    "list(enumerate(numbers))\n",
    "print(numbers)\n",
    "\n",
    "for i in range(len(numbers)):\n",
    "    print(\"{}번째 요소 : {}\".format(i, numbers[i]))\n",
    "print(\"\\nenumerate\")\n",
    "for i, value in enumerate(numbers):    # enumerame : list의 인덱스와 값을 리턴\n",
    "    print(\"{}번째 요소 : {}\".format(i,value))\n",
    "    \n",
    "print()\n",
    "\n",
    "# 문제 : 키보드로부터 임의의 갯수의 숫자를 입력받아 리스트에 저장 한 후\n",
    "#       print(\"{}번째 요소 : {}\".format(i,value)) 형식으로 결과 출력\n",
    "# 전체 숫자의 최솟값과 최댓값, 합계를 구하시오\n",
    "# 1. 문자열을 space로 분리하여 리스트화, 문자열을 숫자로 변환.\n",
    "# 2. 출력 형식대로, 합계, 최솟값, 최댓값 구함.\n",
    "\n",
    "input_num = list(input(\"랜덤으로 숫자 입력 :\").split())\n",
    "for i, value in enumerate(input_num):\n",
    "    input_num[i] = int(value)\n",
    "    print(\"{}번째 요소 : {}\".format(i, value))\n",
    "    \n",
    "print(\"최소값 : {}\\t 최댓값 : {} \\t 합계 : {}\\n\".format(min(input_num),max(input_num),sum(input_num)))"
   ]
  },
  {
   "cell_type": "code",
   "execution_count": 293,
   "id": "c06c843a",
   "metadata": {},
   "outputs": [
    {
     "name": "stdout",
     "output_type": "stream",
     "text": [
      "name  :  기사\n",
      "level  :  12\n",
      "sword  :  불꽃의 검\n",
      "armor  :  풀플레이트\n",
      "skill  :  베기\n",
      "skill  :  세게 베기\n",
      "skill  :  아주 세게 베기\n"
     ]
    }
   ],
   "source": [
    "#  딕셔너리와 items() 함수 함께 사용 시 키와 값을 조합하여 쉽게 반복문 작성가능.\n",
    "character = {\n",
    "    \"name\" : \"기사\",\n",
    "    \"level\" : 12,\n",
    "    \"items\": {\n",
    "        \"sword\": \"불꽃의 검\",\n",
    "        \"armor\": \"풀플레이트\"\n",
    "    },\n",
    "    \"skill\" : [\"베기\",\"세게 베기\",\"아주 세게 베기\"]\n",
    "}\n",
    "\n",
    "\n",
    "for key, element in character.items():\n",
    "    if type(element) == list:\n",
    "        for value in element:\n",
    "            print(key, \" : \", value)\n",
    "    elif type(element) == dict: # 딕셔너리는 값을 키값으로 가져오니까..\n",
    "        for key1 in element:\n",
    "            print(key1, \" : \", element[key1]) \n",
    "    else:\n",
    "        print(key, \" : \", element)\n",
    "        "
   ]
  },
  {
   "cell_type": "markdown",
   "id": "6b35cc23",
   "metadata": {},
   "source": [
    "## 리스트 내포\n",
    ": list 안에 for 문장 사용. => [표현식 for 변수 in 반복 if 조건식]\n"
   ]
  },
  {
   "cell_type": "code",
   "execution_count": 315,
   "id": "960b047e",
   "metadata": {},
   "outputs": [
    {
     "name": "stdout",
     "output_type": "stream",
     "text": [
      "[0, 4, 16, 36, 64, 100, 144, 196, 256, 324]\n",
      "\n",
      "array1 :  [0, 4, 16, 36, 64, 100, 144, 196, 256, 324]\n",
      "\n",
      "array2 :  [0, 4, 16, 36, 64, 100, 144, 196, 256, 324]\n",
      "숫자 입력 : 1 2 3 4 5 6 7 8 9 10 11 12 13 14 15 16 17 18 19 20\n",
      "-list_2:[2, 4, 8, 10, 14, 16, 20],\n",
      "-list_3:[3, 9, 15],\n",
      "-list_6:[6, 12, 18]\n",
      "\n"
     ]
    }
   ],
   "source": [
    "array = []\n",
    "for i in range(0, 20, 2):\n",
    "    array.append( i * i)\n",
    "print(array)\n",
    "\n",
    "# [실행문 for 변수(i,j...) in 반복]\n",
    "print()\n",
    "array1 = [i*i for i in range(0,20,2)] # 반복자료에서 아이템 1개를 가져와서 i에 입력 후 i*i 실햄.\n",
    "print(\"array1 : \", array1)\n",
    "print()\n",
    "# 조건식을 조합\n",
    "array2 = [i*i for i in range(0,20) if i%2 == 0] # 반복 범위 뒤에 if 조건식 추가 가능.\n",
    "print(\"array2 : \", array2)\n",
    "\n",
    "# 여러개의 숫자를 입력받아 숫자가 6의 배수면 list_6에, 3의 배수면 list_3에, 2의 배수면 \n",
    "#list_2에. 단, 각 리스트에 공통되는 숫자는 없습니다.\n",
    "\n",
    "list_1 = input(\"숫자 입력 : \").split()\n",
    "# 문자를 숫자로 변환\n",
    "for i, value in enumerate(list_1):\n",
    "    list_1[i] = int(value)\n",
    "\n",
    "# ★★★★★★★★★★조건에 맞는 리스트 작성★★★★★★★★★★★★★★★\n",
    "list_2 = [ i for i in list_1 if i%6 and i%2 == 0] # i%6의 결과값(나머지)이 0일경우 false출력됨. 그 외 True. -> 6의 배수가 아니고\n",
    "# 3의 배수이면 True and True.\n",
    "    # list_1에서 i 넣고 if조건에 맞을경우 i에 다시 넣음.\n",
    "list_3 = [ i for i in list_1 if i%6 and i%3 == 0] \n",
    "list_6 = [ i for i in list_1 if i%6 == 0]\n",
    "#★★★★★★★★★★★★★★★★★★★★★★★★★★★★★★★★★★★★★\n",
    "#결과 출력\n",
    "print(\"-list_2:{},\\n-list_3:{},\\n-list_6:{}\\n\".format(list_2,list_3,list_6))\n",
    "\n"
   ]
  },
  {
   "cell_type": "code",
   "execution_count": 319,
   "id": "172dfff8",
   "metadata": {},
   "outputs": [
    {
     "name": "stdout",
     "output_type": "stream",
     "text": [
      "b\n"
     ]
    }
   ],
   "source": [
    "a = 0\n",
    "b = -10\n",
    "a_str = \"\"\n",
    "if a:\n",
    "    print(\"a\")\n",
    "if b:             # b만 출력\n",
    "    print(\"b\")\n",
    "if a_str:\n",
    "    print(\"a_str\")"
   ]
  },
  {
   "cell_type": "markdown",
   "id": "615ed26f",
   "metadata": {},
   "source": [
    " ### Chapter 5 함수"
   ]
  },
  {
   "cell_type": "code",
   "execution_count": 345,
   "id": "755bb245",
   "metadata": {},
   "outputs": [],
   "source": [
    "''''''\n",
    "def 함수명():\n",
    "    실행문\n",
    "''''''\n",
    "\n",
    "def print_func(value, *values, n=3): # value : 매개변수, values : 가변 매개변수(단 하나), n : 기본 매개변수(여러개 사용 가능)\n",
    "    for i in range(n):\n",
    "        for item in values:\n",
    "            print(value,\" : \", item)\n",
    "            return \"break\"\n",
    "    return \"end\"\n",
    "            \n",
    "    "
   ]
  },
  {
   "cell_type": "code",
   "execution_count": 347,
   "id": "a0a9c689",
   "metadata": {},
   "outputs": [
    {
     "name": "stdout",
     "output_type": "stream",
     "text": [
      "Sup :P  :  abcd\n"
     ]
    },
    {
     "data": {
      "text/plain": [
       "'end'"
      ]
     },
     "execution_count": 347,
     "metadata": {},
     "output_type": "execute_result"
    }
   ],
   "source": [
    "print_func(\"Sup :P\",\"abcd\",\"def\",n=5) \n",
    "print_func(\"SSSup\")"
   ]
  },
  {
   "cell_type": "code",
   "execution_count": 369,
   "id": "fa338fcc",
   "metadata": {},
   "outputs": [],
   "source": [
    "#문) 기호 숫자 두 개를 입력받아 계산하는 프로그램을 작성\n",
    "# 기호가 '#'이면 프로그램 종료\n",
    "# 기호는 '+','-','*','/'만 실행, 다른 기호는 계속해서 진행.\n",
    "# 각각의 연산을 함수로 만들어서 호출. plus_func, minus_func, mul_func, div_func\n",
    "\n",
    "def input_func():\n",
    "    while True:\n",
    "        input_char = input(\"부호 입력 기호가 '#'이면 프로그램 종료 :\")\n",
    "        if input_char in buho_list:\n",
    "            return input_char\n",
    "\n",
    "def input_number():\n",
    "    while True:\n",
    "        input_number = input(\"두 수 입력 : \").split()\n",
    "        if len(input_number) == 2 :\n",
    "            return input_number\n",
    "        \n",
    "def plus_func(values):\n",
    "    return( values[0] + values[1])\n",
    "\n",
    "def minus_func(values):\n",
    "    return( values[0] - values[1])\n",
    "\n",
    "def mul_func(values):\n",
    "    return( values[0] * values[1])\n",
    "\n",
    "def div_func(values):\n",
    "    return( values[0] / values[1])"
   ]
  },
  {
   "cell_type": "code",
   "execution_count": null,
   "id": "149ef53a",
   "metadata": {},
   "outputs": [
    {
     "name": "stdout",
     "output_type": "stream",
     "text": [
      "부호 입력 기호가 '#'이면 프로그램 종료 :/\n",
      "두 수 입력 : 10 0\n",
      "0으로 나눌 수 없습니다.\n",
      "부호 입력 기호가 '#'이면 프로그램 종료 :1 0\n",
      "부호 입력 기호가 '#'이면 프로그램 종료 :3 0\n",
      "부호 입력 기호가 '#'이면 프로그램 종료 :5 0\n",
      "부호 입력 기호가 '#'이면 프로그램 종료 :9 0\n",
      "부호 입력 기호가 '#'이면 프로그램 종료 :7 0\n",
      "부호 입력 기호가 '#'이면 프로그램 종료 :/\n",
      "두 수 입력 : 1 0\n",
      "0으로 나눌 수 없습니다.\n"
     ]
    }
   ],
   "source": [
    "buho_list=[\"+\",\"-\",\"*\",\"/\",\"#\"]\n",
    "\n",
    "while True:\n",
    "    buho_char = input_func() # 부호입력 # + - * /\n",
    "    if buho_char == \"#\":\n",
    "        break\n",
    "    else:\n",
    "        values = input_number() # = 이 나오면 오른쪽부터 해석..?\n",
    "        for i, value in enumerate(values):    #문자를 숫자로 형변환\n",
    "            values[i] = int(value)\n",
    "        if buho_char == \"+\":\n",
    "            result = plus_func(values)\n",
    "        elif buho_char == \"-\":\n",
    "            result = minus_func(values)\n",
    "        elif buho_char == \"*\":\n",
    "            result = mul_func(values)\n",
    "        else:\n",
    "            if values[1] == 0:\n",
    "                print(\"0으로 나눌 수 없습니다.\")\n",
    "                continue\n",
    "            result = div_func(values)\n",
    "    print(\"{} {} {} = {}\".format(values[0],buho_char,values[1],result))\n",
    "\n"
   ]
  },
  {
   "cell_type": "code",
   "execution_count": null,
   "id": "0a2fa6df",
   "metadata": {},
   "outputs": [],
   "source": [
    "#문) 방정식을 함수로 만들어보기.\n",
    "# 1. f(x)=2x+1    \n",
    "# 2. f(x)=x^2+2x+1\n",
    "\n",
    "# 1.\n",
    "def f(x):\n",
    "    return\n",
    "\n"
   ]
  },
  {
   "cell_type": "code",
   "execution_count": null,
   "id": "0cdf820f",
   "metadata": {},
   "outputs": [],
   "source": [
    "print(f(10))"
   ]
  }
 ],
 "metadata": {
  "kernelspec": {
   "display_name": "Python 3",
   "language": "python",
   "name": "python3"
  },
  "language_info": {
   "codemirror_mode": {
    "name": "ipython",
    "version": 3
   },
   "file_extension": ".py",
   "mimetype": "text/x-python",
   "name": "python",
   "nbconvert_exporter": "python",
   "pygments_lexer": "ipython3",
   "version": "3.8.8"
  }
 },
 "nbformat": 4,
 "nbformat_minor": 5
}
