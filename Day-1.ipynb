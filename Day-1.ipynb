{
 "cells": [
  {
   "cell_type": "code",
   "execution_count": 25,
   "id": "8fc68123",
   "metadata": {},
   "outputs": [
    {
     "name": "stdout",
     "output_type": "stream",
     "text": [
      "['False', 'None', 'True', 'and', 'as', 'assert', 'async', 'await', 'break', 'class', 'continue', 'def', 'del', 'elif', 'else', 'except', 'finally', 'for', 'from', 'global', 'if', 'import', 'in', 'is', 'lambda', 'nonlocal', 'not', 'or', 'pass', 'raise', 'return', 'try', 'while', 'with', 'yield']\n"
     ]
    }
   ],
   "source": [
    "import keyword\n",
    "print(keyword.kwlist)"
   ]
  },
  {
   "cell_type": "code",
   "execution_count": 26,
   "id": "7e5c498e",
   "metadata": {},
   "outputs": [
    {
     "name": "stdout",
     "output_type": "stream",
     "text": [
      "52 273 Hello\n",
      "안녕하세요 제 이름은 낄낄낄입니다\n"
     ]
    }
   ],
   "source": [
    "print(52, 273, \"Hello\")\n",
    "print(\"안녕하세요\", \"제\", \"이름은\", \"낄낄낄입니다\")"
   ]
  },
  {
   "cell_type": "code",
   "execution_count": 64,
   "id": "7af63817",
   "metadata": {},
   "outputs": [
    {
     "name": "stdout",
     "output_type": "stream",
     "text": [
      "<class 'int'>\n",
      "<class 'str'>\n",
      "<class 'bool'>\n",
      "hello Test <class 'str'> <class 'str'>\n",
      "\"계정명이 한글이라 오류난거때문에 오전에 놓친게 너무 많다\"라고 말해버렸습니다.\n",
      "'아침으로 돌아가서 수업 다시 듣고싶다'라고 생각해버렸습니다.\n"
     ]
    }
   ],
   "source": [
    "#데이터 타입 알아보기- type()\n",
    "print(type(1))\n",
    "print(type(\"Hello\"))\n",
    "print(type(True))\n",
    "\n",
    "# '',\"\"는 차이 없음, 짝만 맞춰주면 됨.\n",
    "print('hello', \"Test\", type('Hello'), type(\"Test\"))\n",
    "\n",
    "# 문자열에 작은따옴표 넣고싶으면 큰따옴표로 묶어주기, 반대의 경우도 동일.\n",
    "print('\"계정명이 한글이라 오류난거때문에 오전에 놓친게 너무 많다\"라고 말해버렸습니다.')\n",
    "print(\"'아침으로 돌아가서 수업 다시 듣고싶다'라고 생각해버렸습니다.\")"
   ]
  },
  {
   "cell_type": "code",
   "execution_count": 46,
   "id": "17bd02d5",
   "metadata": {},
   "outputs": [
    {
     "name": "stdout",
     "output_type": "stream",
     "text": [
      "\"안녕하세요\"\n",
      " 'Hello'\n"
     ]
    }
   ],
   "source": [
    "# print 함수에서 특수문자(\",',newline, tab)을 출력하고자 할 경우\n",
    "# excape문자 \\를 문자 앞에 입력하면 특수문자가 출력 됨.\n",
    "# |\" : 큰따옴표를 의미     |':작은따옴표를 의미\n",
    "# |n : 줄바꿈     |t 탭\n",
    "print(\"\\\"안녕하세요\\\"\\n \\'Hello\\'\")"
   ]
  },
  {
   "cell_type": "code",
   "execution_count": 29,
   "id": "ab5af46f",
   "metadata": {},
   "outputs": [
    {
     "name": "stdout",
     "output_type": "stream",
     "text": [
      "안녕하세요\n",
      "해위\n",
      "\n",
      "안녕하세요\t배위\n"
     ]
    }
   ],
   "source": [
    "print(\"안녕하세요\\n해위\")\n",
    "print()\n",
    "print(\"안녕하세요\\t배위\")"
   ]
  },
  {
   "cell_type": "code",
   "execution_count": 38,
   "id": "08192698",
   "metadata": {},
   "outputs": [
    {
     "name": "stdout",
     "output_type": "stream",
     "text": [
      "하늘\n",
      "python\n",
      "data\n",
      "하늘\n",
      "python\n",
      "data\n",
      "\n",
      "data 하늘 python data \n"
     ]
    }
   ],
   "source": [
    "#여러 라인으로 출력(엔터 누르는대로 출력된다)\n",
    "print('''하늘\n",
    "python\n",
    "data''')\n",
    "print(\"\"\"하늘\n",
    "python\n",
    "data\n",
    "\"\"\")\n",
    "\n",
    "print(\"\"\"data \\\n",
    "하늘 \\\n",
    "python \\\n",
    "data \\\n",
    "\"\"\")   #newline 출력 안할때는 각각의 라인 뒤에 \\를 붙인다."
   ]
  },
  {
   "cell_type": "code",
   "execution_count": 65,
   "id": "c3a4b892",
   "metadata": {},
   "outputs": [
    {
     "name": "stdout",
     "output_type": "stream",
     "text": [
      "abcddef\n",
      "********************\n",
      "abcd1\n"
     ]
    }
   ],
   "source": [
    "# 문자열 연산자 => +, * 만 사용 가능.\n",
    "\n",
    "print(\"abcd\"+\"def\")\n",
    "print('*'*20)\n",
    "#print(\"abcd\"+ 1) type error\n",
    "print(\"abcd\" + \"1\")\n"
   ]
  },
  {
   "cell_type": "code",
   "execution_count": 19,
   "id": "0c54175f",
   "metadata": {},
   "outputs": [
    {
     "name": "stdout",
     "output_type": "stream",
     "text": [
      "a[0] :  H \t Hello[0] :  H\n",
      "a[3] :  l \t Hello[-1] :  o\n"
     ]
    }
   ],
   "source": [
    "# 문자열 인덱스 : []\n",
    "\n",
    "a = \"Hello\"\n",
    "\n",
    "print(\"a[0] : \", a[0],\"\\t\" ,\"Hello[0] : \",\"Hello\"[0])\n",
    "\n",
    "# [중요] -1은 마지막 위치의 자료, 자주 쓰인다.\n",
    "print(\"a[3] : \", a[3],\"\\t\" ,\"Hello[-1] : \",\"Hello\"[-1]) \n"
   ]
  },
  {
   "cell_type": "code",
   "execution_count": 27,
   "id": "c5f5dc46",
   "metadata": {},
   "outputs": [
    {
     "name": "stdout",
     "output_type": "stream",
     "text": [
      "a[1:3] :  el \t Hello[:3] :  Hel\n",
      "\n",
      "Hello\n",
      "llo\n",
      "Hel\n"
     ]
    },
    {
     "ename": "IndexError",
     "evalue": "string index out of range",
     "output_type": "error",
     "traceback": [
      "\u001b[1;31m---------------------------------------------------------------------------\u001b[0m",
      "\u001b[1;31mIndexError\u001b[0m                                Traceback (most recent call last)",
      "\u001b[1;32m<ipython-input-27-1b69af567e1f>\u001b[0m in \u001b[0;36m<module>\u001b[1;34m\u001b[0m\n\u001b[0;32m      5\u001b[0m \u001b[0mprint\u001b[0m\u001b[1;33m(\u001b[0m\u001b[0ma\u001b[0m\u001b[1;33m[\u001b[0m\u001b[1;36m2\u001b[0m\u001b[1;33m:\u001b[0m\u001b[1;33m]\u001b[0m\u001b[1;33m)\u001b[0m \u001b[1;31m# 2번째 인덱스부터 끝까지\u001b[0m\u001b[1;33m\u001b[0m\u001b[1;33m\u001b[0m\u001b[0m\n\u001b[0;32m      6\u001b[0m \u001b[0mprint\u001b[0m\u001b[1;33m(\u001b[0m\u001b[0ma\u001b[0m\u001b[1;33m[\u001b[0m\u001b[1;33m:\u001b[0m\u001b[1;36m3\u001b[0m\u001b[1;33m]\u001b[0m\u001b[1;33m)\u001b[0m \u001b[1;31m# 처음부터 3번째 인덱스 전까지\u001b[0m\u001b[1;33m\u001b[0m\u001b[1;33m\u001b[0m\u001b[0m\n\u001b[1;32m----> 7\u001b[1;33m \u001b[0mprint\u001b[0m\u001b[1;33m(\u001b[0m\u001b[0ma\u001b[0m\u001b[1;33m[\u001b[0m\u001b[1;36m5\u001b[0m\u001b[1;33m]\u001b[0m\u001b[1;33m)\u001b[0m  \u001b[1;31m# error index : 범위를 벗어남\u001b[0m\u001b[1;33m\u001b[0m\u001b[1;33m\u001b[0m\u001b[0m\n\u001b[0m",
      "\u001b[1;31mIndexError\u001b[0m: string index out of range"
     ]
    }
   ],
   "source": [
    "# 문자열 자르기 [시작:끝] -> 시작은 포함. 끝은 포함하지 않음.\n",
    "print(\"a[1:3] : \", a[1:3],\"\\t\" ,\"Hello[:3] : \",\"Hello\"[:3])\n",
    "print()\n",
    "print(a[:])  # 전체 문자열\n",
    "print(a[2:]) # 2번째 인덱스부터 끝까지\n",
    "print(a[:3]) # 처음부터 3번째 인덱스 전까지\n",
    "print(a[5])  # error index : 범위를 벗어남"
   ]
  },
  {
   "cell_type": "code",
   "execution_count": 32,
   "id": "adcb8d9f",
   "metadata": {},
   "outputs": [
    {
     "name": "stdout",
     "output_type": "stream",
     "text": [
      "Hello \t el\n"
     ]
    }
   ],
   "source": [
    "a[1:3]\n",
    "b = a[1:3] # 추출할때는 꼭 식별자를 만들어서 값을 넣어둔다\n",
    "print(a,\"\\t\",b)"
   ]
  },
  {
   "cell_type": "code",
   "execution_count": 45,
   "id": "62e1be6b",
   "metadata": {},
   "outputs": [
    {
     "name": "stdout",
     "output_type": "stream",
     "text": [
      "a +b =  7\n",
      "a -b =  3\n",
      "a *b =  10\n",
      "a /b =  2.5\n",
      "a // b =  2\n",
      "a % b =  1\n",
      "a % b =  1\n",
      "a ** b =  25\n",
      "0.0\n",
      "4.0\n"
     ]
    }
   ],
   "source": [
    "# 숫자형 연산 : +, -, *, /, // (몫), % (나머지 값), ** (제곱연산자)\n",
    "\n",
    "a=5 ; b=2 # 여러가지 명령은 세미콜론으로 구분해주면 된다\n",
    "print(\"a +b = \", a+b)\n",
    "print(\"a -b = \", a-b)\n",
    "print(\"a *b = \", a*b)\n",
    "print(\"a /b = \", a/b)     # 자동으로 float 형으로 바뀜\n",
    "print(\"a // b = \", a//b); print(\"a % b = \", a%b)  \n",
    "print(\"a % b = \", a%b)    \n",
    "print(\"a ** b = \", a**b)\n",
    "\n",
    "# 숫자형 연산자의 우선순위\n",
    "print(2 + 2 - 2 * 2 / 2 * 2) # 2*2 -> 4/2 -> 2*2 -> 2+2 -> 4-4 -> 0\n",
    "print((2 + 2 - 2) * 2 / 2 * 2) # 먼저 계산되었으면 하는 연산은 괄호로 묶는다."
   ]
  },
  {
   "cell_type": "code",
   "execution_count": 18,
   "id": "f5e69905",
   "metadata": {},
   "outputs": [
    {
     "name": "stdout",
     "output_type": "stream",
     "text": [
      "원주율 = 3.14159265\n",
      "반지름 = 10\n",
      "원의 둘레 = 62.831853\n",
      "원의 넓이 = 314.159265\n"
     ]
    }
   ],
   "source": [
    "# 예시 - 원의 둘레와 넓이 구하기\n",
    "# 변수 선언과 할당\n",
    "pi = 3.14159265\n",
    "r = 10\n",
    "\n",
    "# 변수 참조\n",
    "print(\"원주율 =\", pi)\n",
    "print(\"반지름 =\", r)\n",
    "print(\"원의 둘레 =\", 2*pi*r)\n",
    "print(\"원의 넓이 =\", pi*r*r)\n"
   ]
  },
  {
   "cell_type": "code",
   "execution_count": 19,
   "id": "27b6af1b",
   "metadata": {},
   "outputs": [
    {
     "name": "stdout",
     "output_type": "stream",
     "text": [
      "pi : 3.14159265\n",
      "pi : pi\n"
     ]
    }
   ],
   "source": [
    "# 변수는 데이터 타입과 무관하게 다른 데이터 타입으로 재사용 가능\n",
    "print(\"pi :\", pi) # 기존값인 '3.14159265'로 출력, 재실행시에는 'pi'로 출력됨 \n",
    "pi = \"pi\"            \n",
    "print(\"pi :\", pi) # 변경된 'pi'로 출력"
   ]
  },
  {
   "cell_type": "code",
   "execution_count": 20,
   "id": "2469e5e3",
   "metadata": {},
   "outputs": [
    {
     "name": "stdout",
     "output_type": "stream",
     "text": [
      "26.0\n",
      "안녕하세요~~\n",
      "안녕하세요~~안녕하세요~~안녕하세요~~\n"
     ]
    }
   ],
   "source": [
    "# 복합 대입 연산자 (+=, -=, /=, *=, **=)\n",
    "#a=2 , a+=2 # a (a+2보다 a+=2가 더 빠르다)\n",
    "\n",
    "# 예제\n",
    "number = 100\n",
    "number += 30 #130\n",
    "number *= 2  #260\n",
    "number /= 10 #26\n",
    "print(number)\n",
    "\n",
    "# 문자열 복합 대입 연산자 예제\n",
    "string = \"안녕하세요\"; string += \"~\"; string += \"~\"; print(string)\n",
    "string *=3; print(string)"
   ]
  },
  {
   "cell_type": "code",
   "execution_count": 41,
   "id": "82d4d78e",
   "metadata": {},
   "outputs": [
    {
     "name": "stdout",
     "output_type": "stream",
     "text": [
      "10\n",
      "string\n",
      "stringstringstringstringstringstringstringstringstringstring\n"
     ]
    }
   ],
   "source": [
    "# 대입연산자 = : 변수 = 값 -> 값을 변수에 입력함.\n",
    "# 문1) 숫자 변수와 문자열 변수를 선언하여 숫자변수에 10을, 문자열 변수에 string을 입력하여\n",
    "# 문2)두 변수의 값을 출력하세요.\n",
    "# 문3)문자열 변수를 숫자 변수의 수만큼 반복해서 출력하세요.\n",
    "number = 10; string = \"string\"\n",
    "\n",
    "print(number) \n",
    "print(string)\n",
    "\n",
    "string*=number; print(string)\n",
    "\n",
    "#강사님의 풀이 : \n",
    "a_num = 10\n",
    "b_string = \"string\"\n",
    "print(\"a_num :\", a_num, \"b_string :\", b_string)\n",
    "print(\"b_string a_num 반복 :\", b_string * a_num)"
   ]
  },
  {
   "cell_type": "code",
   "execution_count": 6,
   "id": "540ff2e1",
   "metadata": {},
   "outputs": [
    {
     "name": "stdout",
     "output_type": "stream",
     "text": [
      "abcd\n",
      "abcd 2\n"
     ]
    },
    {
     "data": {
      "text/plain": [
       "'abcd 2'"
      ]
     },
     "execution_count": 6,
     "metadata": {},
     "output_type": "execute_result"
    }
   ],
   "source": [
    "# input() : 입력을 받아 변수에 저장해서 사용\n",
    "input()\n",
    "i_str = input()\n",
    "i_str"
   ]
  },
  {
   "cell_type": "code",
   "execution_count": 13,
   "id": "0a0bc3c4",
   "metadata": {},
   "outputs": [
    {
     "name": "stdout",
     "output_type": "stream",
     "text": [
      "맴맴맴 3\n",
      "맴맴맴맴맴맴맴맴맴\n"
     ]
    }
   ],
   "source": [
    "# 문 : input() 함수를 이용하여 키보드에서 문자열 (임의로), blank(1), 숫자 (1자리)를 입력받아\n",
    "# 문자와 숫자를 각각 변수에 저장한 후 입력된 문자열을 입력한 숫자만큼 반복 출력.\n",
    "# 문자를 처음부터 -2 인덱스까지 저장, 숫자는 (-1)로 잘라서 각각의 변수에 저장 후 실행.\n",
    "# 숫자가 문자로 인식되면 int(숫자형 변수) -> int로 변환 됨\n",
    "#a = '1'; print(type(a)) > str\n",
    "#a = int(a); print(type(a)) > int\n",
    "# 숫자를 문자로 인식되게 하려면 str(숫자형 변수)\n",
    "\n",
    "input_str = input() #키보드로부터 입력받은 자료를 input_str에 저장\n",
    "split_str = input_str[ :-2] # 문자열만 split_str 변수에 저장\n",
    "split_num = int(input_str[-1]) # 마지막 입력한 숫자를 split_num 에 저장\n",
    "print(split_str * split_num)\n"
   ]
  },
  {
   "cell_type": "code",
   "execution_count": 1,
   "id": "6688b185",
   "metadata": {},
   "outputs": [
    {
     "name": "stdout",
     "output_type": "stream",
     "text": [
      "30\n",
      "20\n",
      "50\n",
      "600\n",
      "10\n",
      "1.5\n"
     ]
    }
   ],
   "source": [
    "# 두 개의 숫자를 입력받아 변수에 저장한 후\n",
    "# 1. 입력을 두번 받아 2. 타입 변환 후 실행\n",
    "# 두 숫자의 +. *, /, - 의 결과를 출력\n",
    "\n",
    "num_a = input()\n",
    "\n",
    "num_b = input()\n",
    "print(int(num_a) + int(num_b))\n",
    "print(int(num_a) * int(num_b))\n",
    "print(int(num_a) - int(num_b))\n",
    "print(int(num_a) / int(num_b))\n",
    "\n",
    "#강사님 풀이\n",
    "#num_1 = int(input()) <- input() 실행 후 결과를 가지고 int()형변환 실행\n",
    "#num_2 = int(input())\n",
    "#print(num_1 + num_2)\n",
    "#print(num_1 - num_2)\n",
    "#print(num_1 * num_2)\n",
    "#print(num_1 / num_2)\n"
   ]
  },
  {
   "cell_type": "code",
   "execution_count": 14,
   "id": "025fd007",
   "metadata": {},
   "outputs": [
    {
     "name": "stdout",
     "output_type": "stream",
     "text": [
      "원의 반지름 입력 > 10\n",
      "\n",
      "반지름 : 10\n",
      "둘레 : 62.800000000000004\n",
      "넓이 : 314.0\n"
     ]
    }
   ],
   "source": [
    "# 연습문제) 원의 반지름을 입력받아 원의 둘레와 넓이를 구하는 코드 완성하기\n",
    "#둘레 : 2 * 원주율 * 반지름\n",
    "#넓이 : 원주율 * 반지름 * 반지름\n",
    "str_input= input(\"원의 반지름 입력 > \")\n",
    "num_input= int(str_input) #소수점이 들어갈 경우 float()함수를 써야함.\n",
    "#num_input = float(input(\"원의 반지름 입력 >\"))   2와 3을 한꺼번에 코딩\n",
    "\n",
    "print()\n",
    "print(\"반지름 :\", num_input)\n",
    "print(\"둘레 :\", 2* 3.14 * num_input)\n",
    "print(\"넓이 :\", 3.14 * num_input ** 2)\n",
    "\n",
    "#강사님 풀이\n",
    "#str_input = input(\"원의 반지름 입력 > \")\n",
    "#num_input = float(str_input)\n",
    "#이후는 위와 동일"
   ]
  },
  {
   "cell_type": "code",
   "execution_count": null,
   "id": "32fee755",
   "metadata": {},
   "outputs": [],
   "source": []
  }
 ],
 "metadata": {
  "kernelspec": {
   "display_name": "Python 3",
   "language": "python",
   "name": "python3"
  },
  "language_info": {
   "codemirror_mode": {
    "name": "ipython",
    "version": 3
   },
   "file_extension": ".py",
   "mimetype": "text/x-python",
   "name": "python",
   "nbconvert_exporter": "python",
   "pygments_lexer": "ipython3",
   "version": "3.8.8"
  }
 },
 "nbformat": 4,
 "nbformat_minor": 5
}
