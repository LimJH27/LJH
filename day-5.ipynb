{
 "cells": [
  {
   "cell_type": "markdown",
   "id": "b29845c1",
   "metadata": {},
   "source": [
    "# 모듈\n",
    "    표준 모듈 등의 정보가 궁금할때는 Help > Python Reference > Library에서 찾아보면 됨"
   ]
  },
  {
   "cell_type": "code",
   "execution_count": null,
   "id": "59686cd9",
   "metadata": {},
   "outputs": [],
   "source": [
    "#import math 입력 후 math 모듈 사용 가능\n",
    "import math"
   ]
  },
  {
   "cell_type": "code",
   "execution_count": null,
   "id": "729e174a",
   "metadata": {},
   "outputs": [],
   "source": [
    "# 모듈명.오브젝트\n",
    "math.ceil(1) # 숫자보다 큰 정수중의 최솟값\n",
    "math.floor(1) # 숫자보다 작은 정수중의 최댓값"
   ]
  },
  {
   "cell_type": "code",
   "execution_count": null,
   "id": "35b98042",
   "metadata": {},
   "outputs": [],
   "source": [
    "print(\"- math.sin(5) =\",math.sin(5))\n",
    "print(\"- math.cos(5) =\",math.cos(5))\n",
    "print(\"- math.tan(5) =\",math.tan(5))\n",
    "print(\"- math.floor(5.5)(내림) =\",math.floor(5.5))\n",
    "print(\"- math.ceil(5.4)(올림) =\", math.ceil(5.4))\n"
   ]
  },
  {
   "cell_type": "markdown",
   "id": "23cd54e9",
   "metadata": {},
   "source": [
    "## from 구문"
   ]
  },
  {
   "cell_type": "code",
   "execution_count": null,
   "id": "6e5e9057",
   "metadata": {},
   "outputs": [],
   "source": [
    "# from 모듈명 import 가져오고자 하는 변수 또는 함수.\n",
    "from math import sin, trunc, floor\n",
    "from math import * #모두 다 가져오기, 이렇게는 안쓸듯\n",
    "\n",
    "# math. 을 앞에 안써도 됨\n",
    "print(sin(10))"
   ]
  },
  {
   "cell_type": "markdown",
   "id": "db556d89",
   "metadata": {},
   "source": [
    "## as 구문\n",
    "<hr/>\n",
    "모듈의 이름이 너무 길어 짧게 줄여 사용하고 싶은 경우<br/>\n",
    "- import 모듈 as 사용하고 싶은 식별자<br/>"
   ]
  },
  {
   "cell_type": "code",
   "execution_count": null,
   "id": "85d4365a",
   "metadata": {},
   "outputs": [],
   "source": [
    "import math as m\n",
    "print(m.sin(1))\n",
    "print(m.cos(1))\n",
    "print(m.tan(1))\n",
    "print(m.floor(2.5))\n",
    "print(m.ceil(2.5))"
   ]
  },
  {
   "cell_type": "markdown",
   "id": "5dc0e7cb",
   "metadata": {},
   "source": [
    "### <정리><br/>\n",
    "모듈을 프로그램에 가져오는 방법\n",
    "- import 모듈명\n",
    "- import 모듈명 as 약어\n",
    "- from 모듈명 import 변수 또는 함수"
   ]
  },
  {
   "cell_type": "code",
   "execution_count": null,
   "id": "56e40379",
   "metadata": {},
   "outputs": [],
   "source": [
    "import random\n",
    "print(\" # random 모듈 \")\n",
    "# random() : 0.0 <= x < 1.0 사이의 float를 리턴.\n",
    "print(\"- random():\", random.random())\n",
    "# uniform(min, max) : 지정한 범위 사이의 float를 리턴.\n",
    "print(\"- uniform(10, 20): \", random.uniform(10,20))\n",
    "# randrange() : 지정한 범위의 int를 리턴\n",
    "# - randrange(max) : 0 ~ max 값 리턴\n",
    "# - randrange(min, max) : min부터 max사이의 값을 리턴.\n",
    "print(\"- randrange(10): \", random.randrange(10))\n",
    "# choice(list) : 리스트 내부에 있는 요소를 랜덤하게 선택\n",
    "print(\"- choice([1,2,3,4,5]):\", random.choice([1,2,3,4,5]))\n",
    "# shuffle(list) : 리스트의 요소들을 랜덤하게 섞음\n",
    "print(\"- shuffle([1,2,3,4,5])\", random.shuffle([1,2,3,4,5]))\n",
    "# sample(list, k=<숫자>) : 리스트의 요소 중에 k개를 뽑음\n",
    "print(\"- sample([1,2,3,4,5],k=2)\", random.sample([1,2,3,4,5], k=2))\n",
    "a = [\"월\",\"화\",\"수\",\"목\",\"금\"]\n",
    "print(random.shuffle(a))\n",
    "a"
   ]
  },
  {
   "cell_type": "markdown",
   "id": "4a08d4b8",
   "metadata": {},
   "source": [
    "## sys모듈<br/>\n",
    "<hr/>\n",
    "시스템과 관련된 정보를 가지고 있는 모듈. 명령 매개변수를 받을 때 많이 사용됨.<br/>\n",
    "사실 잘 쓰지는 않음"
   ]
  },
  {
   "cell_type": "code",
   "execution_count": null,
   "id": "55f0dfe2",
   "metadata": {},
   "outputs": [],
   "source": [
    "import sys\n",
    "# 명령 매개변수를 출력합니다.\n",
    "print(sys.argv)\n",
    "print(\"---\")\n",
    "\n",
    "# 컴퓨터 환경과 관련된 정보를 출력합니다.\n",
    "print(\"getwindowsversion:()\", sys.getwindowsversion())\n",
    "print(\"---\")\n",
    "print(\"copyright:\", sys.copyright)\n",
    "print(\"---\")\n",
    "print(\"version:\", sys.version)\n",
    "\n",
    "# 프로그램을 강제로 종료합니다.\n",
    "sys.exit()"
   ]
  },
  {
   "cell_type": "markdown",
   "id": "0a0fab58",
   "metadata": {},
   "source": [
    "# os 모듈 : 운영체제와 관련된 모듈"
   ]
  },
  {
   "cell_type": "code",
   "execution_count": null,
   "id": "9ccb85d3",
   "metadata": {},
   "outputs": [],
   "source": [
    "import os\n",
    "print(\"현재 운영체제 :\", os.name)\n",
    "print(\"현재 폴더: \",os.getcwd())\n",
    "print(\"현재 폴더 내부의 요소 : \", os.listdir())\n",
    "\n",
    "# 폴더 만들고 제거\n",
    "os.mkdir(\"hello\")\n",
    "os.rmdir(\"hello\")\n",
    "\n",
    "with open(\"original.txt\", \"w\") as file:\n",
    "    file.write(\"hello\")\n",
    "os.rename(\"original.txt\", \"new.txt\")\n",
    "\n",
    "# 파일 제거\n",
    "os.remove(\"new.txt\")\n",
    "# os.unlink(\"new.txt\")"
   ]
  },
  {
   "cell_type": "code",
   "execution_count": null,
   "id": "8d577f8f",
   "metadata": {},
   "outputs": [],
   "source": [
    "# datetime 모듈 : date, time 관련된 코드들\n",
    "import datetime\n",
    "\n",
    "print(\"현재 시간 :\", datetime.datetime.now())\n",
    "now = datetime.datetime.now()  # now는 변수\n",
    "print(\"{}년 {}월 {}일 {}시 {}분 {}초\".format(now.year,now.month,now.day,now.hour,now.minute,now.second))\n",
    "\n",
    "# 조금 더 쉽게 만드는 방법\n",
    "out_now = now.strftime(\"%Y{} %m{} %d{} %H{} %M{} %S{}\".format(*\"년월일시분초\")) \n",
    "                                                                # 문자열 리스트 등 앞에 * 붙이면 요소 하나하나가 매개변수로 지정됨.\n",
    "print(\"{}년 {}월 {}일 {}시 {}분 {}초\".format(now.year,now.month,now.day,now.hour,now.minute,now.second))\n",
    "print(\"out_now :\", out_now)\n",
    "\n",
    "import time\n",
    "print(\"5초동안 시간 정지\")\n",
    "time.sleep(5)\n",
    "print(\"시간 정지 end\")"
   ]
  },
  {
   "cell_type": "code",
   "execution_count": null,
   "id": "9d79986d",
   "metadata": {},
   "outputs": [],
   "source": [
    "# urllib 모듈 : 인터넷 주소에서 자료를 가져오는 라이브러리\n",
    "from urllib import request\n",
    "\n",
    "# urlopen() 함수로 구글 메인 페이지 읽기\n",
    "target = request.urlopen(\"https://google.com\")\n",
    "output = target.read()\n",
    "\n",
    "#출력\n",
    "print(output)  # HTML 구문을 해석해야 함"
   ]
  },
  {
   "cell_type": "code",
   "execution_count": null,
   "id": "f09dc738",
   "metadata": {
    "scrolled": true
   },
   "outputs": [],
   "source": [
    "# 330p, 문3)\n",
    "output = os.listdir(\"./\") # \".\"은 현재 디렉토리, .listdir(path) path: 경로 ./ : 현재 디렉토리(. = ./)\n",
    "print(\"os.listdir() :\", output)\n",
    "print()\n",
    "\n",
    "for path in output:\n",
    "    if os.path.isdir(path):\n",
    "        print(\"Folder :\", path)\n",
    "    else:\n",
    "        print(\"File :\", path)\n",
    "\n",
    "print()\n",
    "        \n",
    "# 문4)\n",
    "# 모듈 읽어 들이기\n",
    "import os\n",
    "\n",
    "# 폴더를 읽어 들이는 함수\n",
    "def read_folder(path):\n",
    "    # 폴더의 요소 읽어 들이기\n",
    "    output = os.listdir(path)\n",
    "    for item in output:\n",
    "        if os.path.isdir(item):\n",
    "            read_folder(item)\n",
    "        else:\n",
    "            print(\"File :\", item)\n",
    "            \n",
    "read_folder(input(\"검색하고자 하는 디렉토리를 입력 > \"))"
   ]
  },
  {
   "cell_type": "markdown",
   "id": "0543d824",
   "metadata": {},
   "source": [
    "# 외부 모듈"
   ]
  },
  {
   "cell_type": "code",
   "execution_count": null,
   "id": "2ecf0ae4",
   "metadata": {},
   "outputs": [],
   "source": [
    "# 외부 모듈 설치하기\n",
    "# !pip install 외부모듈 -> cmd 창에서 실행\n",
    "from bs4 import BeautifulSoup\n",
    "from urllib import request\n",
    "\n",
    "target = request.urlopen(\"https://google.com\")\n",
    "\n",
    "output = target.read()\n",
    "html = '''\n",
    "<html>\n",
    "  <head>\n",
    "    <title>BeautifulSoup test</title>\n",
    "  </head>\n",
    "  <body>\n",
    "    <div id='upper' class_='test' custom='good'>\n",
    "      <h3 title='Good Content Title'>Contents Title</h3>\n",
    "      <p>Test contents</p>\n",
    "    </div>\n",
    "    <div id='lower' class='test' custom='nice'>\n",
    "      <p>Test Test Test 1</p>\n",
    "      <p>Test Test Test 2</p>\n",
    "      <p>Test Test Test 3</p>\n",
    "    </div>\n",
    "  </body>\n",
    "</html>'''\n",
    "\n",
    "soup = BeautifulSoup(html)   # </html> 태그 형식으로 변경\n",
    "\n",
    "print(soup.find_all('select')) "
   ]
  },
  {
   "cell_type": "code",
   "execution_count": null,
   "id": "a6a9ba4a",
   "metadata": {},
   "outputs": [],
   "source": [
    "for item in soup.select(\"div\"):\n",
    "    for value in item.select('p'):\n",
    "        print(value)"
   ]
  },
  {
   "cell_type": "code",
   "execution_count": null,
   "id": "3e8cc44d",
   "metadata": {},
   "outputs": [],
   "source": [
    "url1 = 'https://news.v.daum.net/v/20210927112602253'\n",
    "# 제목을 출력\n",
    "\n",
    "soup = BeautifulSoup(request.urlopen(url))\n",
    "\n",
    "print(soup.select(\"h3\").text)\n",
    "\n",
    "for i1 in soup.select('p').text:\n",
    "    print(i1)\n",
    "    \n",
    "    \n",
    "# 오전수업 끝"
   ]
  },
  {
   "cell_type": "markdown",
   "id": "c317c420",
   "metadata": {},
   "source": [
    "request : url로부터 자료를 가져 옴<br/>\n",
    "beautifulsoup : tag 형식으로 자료 변환<br/>\n",
    "변환된 자료 .select(), find, find_all, select_one -> site의 정보 확인"
   ]
  },
  {
   "cell_type": "markdown",
   "id": "d2ca5efd",
   "metadata": {},
   "source": [
    "# 함수 데코레이터\n",
    ": 함수 앞뒤에 꾸밀 부가적일 내용 혹은 반복할 내용을 데코레이터로 정의해서 손쉽게 사용할 수 있도록 한 것."
   ]
  },
  {
   "cell_type": "code",
   "execution_count": null,
   "id": "6d7ad5d7",
   "metadata": {},
   "outputs": [],
   "source": [
    "#e x)\n",
    "def test(function):\n",
    "    def wrapper():\n",
    "        print(\"인사시작\")\n",
    "        function()\n",
    "        print(\"인사끝\")\n",
    "    return wrapper\n",
    "\n",
    "# 데코레이터 붙여 함수 만들기\n",
    "@test\n",
    "def hello():\n",
    "    print(\"하이\")\n",
    "# 함수 호출\n",
    "hello()"
   ]
  },
  {
   "cell_type": "code",
   "execution_count": null,
   "id": "7503d94c",
   "metadata": {},
   "outputs": [],
   "source": [
    "__name__"
   ]
  },
  {
   "cell_type": "markdown",
   "id": "584bc198",
   "metadata": {},
   "source": [
    "## 패키지\n",
    "패키지 생성하는 방법\n",
    "- 패키지 디렉토리 생성\n",
    "- 패키지 디렉토리 안에 모듈 생성 ... 모듈 여러개 생성 가능\n",
    "- 패키지명.모듈명 import\n"
   ]
  },
  {
   "cell_type": "code",
   "execution_count": 5,
   "id": "022109f2",
   "metadata": {},
   "outputs": [
    {
     "ename": "NameError",
     "evalue": "name 'variable_a' is not defined",
     "output_type": "error",
     "traceback": [
      "\u001b[1;31m---------------------------------------------------------------------------\u001b[0m",
      "\u001b[1;31mNameError\u001b[0m                                 Traceback (most recent call last)",
      "\u001b[1;32m<ipython-input-5-7e9e816b0c71>\u001b[0m in \u001b[0;36m<module>\u001b[1;34m\u001b[0m\n\u001b[0;32m      2\u001b[0m \u001b[1;31m#import test_pakage.module_b as b\u001b[0m\u001b[1;33m\u001b[0m\u001b[1;33m\u001b[0m\u001b[1;33m\u001b[0m\u001b[0m\n\u001b[0;32m      3\u001b[0m \u001b[1;33m\u001b[0m\u001b[0m\n\u001b[1;32m----> 4\u001b[1;33m \u001b[0mprint\u001b[0m\u001b[1;33m(\u001b[0m\u001b[0mvariable_a\u001b[0m\u001b[1;33m)\u001b[0m\u001b[1;33m\u001b[0m\u001b[1;33m\u001b[0m\u001b[0m\n\u001b[0m\u001b[0;32m      5\u001b[0m \u001b[0mprint\u001b[0m\u001b[1;33m(\u001b[0m\u001b[0mvariable_b\u001b[0m\u001b[1;33m)\u001b[0m\u001b[1;33m\u001b[0m\u001b[1;33m\u001b[0m\u001b[0m\n",
      "\u001b[1;31mNameError\u001b[0m: name 'variable_a' is not defined"
     ]
    }
   ],
   "source": [
    "#import test_pakage.module_a as a\n",
    "#import test_pakage.module_b as b\n",
    "\n",
    "print(variable_a)\n",
    "print(variable_b)"
   ]
  },
  {
   "cell_type": "code",
   "execution_count": 1,
   "id": "16f67042",
   "metadata": {},
   "outputs": [
    {
     "ename": "SyntaxError",
     "evalue": "invalid syntax (__init__.py, line 3)",
     "output_type": "error",
     "traceback": [
      "Traceback \u001b[1;36m(most recent call last)\u001b[0m:\n",
      "  File \u001b[0;32m\"C:\\Users\\Lim\\anaconda3\\lib\\site-packages\\IPython\\core\\interactiveshell.py\"\u001b[0m, line \u001b[0;32m3437\u001b[0m, in \u001b[0;35mrun_code\u001b[0m\n    exec(code_obj, self.user_global_ns, self.user_ns)\n",
      "\u001b[1;36m  File \u001b[1;32m\"<ipython-input-1-6f585a0154ed>\"\u001b[1;36m, line \u001b[1;32m1\u001b[1;36m, in \u001b[1;35m<module>\u001b[1;36m\u001b[0m\n\u001b[1;33m    from test_pakage import *\u001b[0m\n",
      "\u001b[1;36m  File \u001b[1;32m\"C:\\Users\\Lim\\Desktop\\python_src\\test_pakage\\__init__.py\"\u001b[1;36m, line \u001b[1;32m3\u001b[0m\n\u001b[1;33m    __ all__ = [\"module_a\",\"module_b\"]\u001b[0m\n\u001b[1;37m       ^\u001b[0m\n\u001b[1;31mSyntaxError\u001b[0m\u001b[1;31m:\u001b[0m invalid syntax\n"
     ]
    }
   ],
   "source": [
    "from test_pakage import *\n",
    "\n",
    "print(module_a.variable_a)\n",
    "print(module_b.variable_b)"
   ]
  },
  {
   "cell_type": "code",
   "execution_count": null,
   "id": "ede30c32",
   "metadata": {},
   "outputs": [],
   "source": []
  }
 ],
 "metadata": {
  "kernelspec": {
   "display_name": "Python 3",
   "language": "python",
   "name": "python3"
  },
  "language_info": {
   "codemirror_mode": {
    "name": "ipython",
    "version": 3
   },
   "file_extension": ".py",
   "mimetype": "text/x-python",
   "name": "python",
   "nbconvert_exporter": "python",
   "pygments_lexer": "ipython3",
   "version": "3.8.8"
  }
 },
 "nbformat": 4,
 "nbformat_minor": 5
}
