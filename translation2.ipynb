{
  "nbformat": 4,
  "nbformat_minor": 0,
  "metadata": {
    "colab": {
      "name": "translation2.ipynb",
      "provenance": [],
      "collapsed_sections": [],
      "mount_file_id": "1GAGh_xuNjCGN3nzt60cQqjNxxfV_p-Il",
      "authorship_tag": "ABX9TyNvQr3+cRdq2blSifSSZ09Z",
      "include_colab_link": true
    },
    "kernelspec": {
      "name": "python3",
      "display_name": "Python 3"
    },
    "language_info": {
      "name": "python"
    },
    "accelerator": "GPU"
  },
  "cells": [
    {
      "cell_type": "markdown",
      "metadata": {
        "id": "view-in-github",
        "colab_type": "text"
      },
      "source": [
        "<a href=\"https://colab.research.google.com/github/LimJH27/LJH/blob/master/translation2.ipynb\" target=\"_parent\"><img src=\"https://colab.research.google.com/assets/colab-badge.svg\" alt=\"Open In Colab\"/></a>"
      ]
    },
    {
      "cell_type": "markdown",
      "source": [
        "# 데이터 로드/전처리"
      ],
      "metadata": {
        "id": "MDF_McWw_j_O"
      }
    },
    {
      "cell_type": "code",
      "execution_count": null,
      "metadata": {
        "id": "XbhZ22i_2gRq"
      },
      "outputs": [],
      "source": [
        "import os\n",
        "import re\n",
        "import shutil\n",
        "import zipfile\n",
        "\n",
        "import numpy as np\n",
        "import pandas as pd\n",
        "import tensorflow as tf\n",
        "import unicodedata\n",
        "import urllib3\n",
        "from tensorflow.keras.layers import Embedding, GRU, Dense\n",
        "from tensorflow.keras.preprocessing.sequence import pad_sequences\n",
        "from tensorflow.keras.preprocessing.text import Tokenizer"
      ]
    },
    {
      "cell_type": "code",
      "source": [
        "#####################################################\n",
        "#        한/영 데이터 변수 선언 & 경로 지정         #\n",
        "#####################################################\n",
        "\n",
        "# with with open(path_to_file, \"r\") as f:\n",
        "#     raw = f.read().splitlines()\n",
        "\n",
        "# print(\"Data Size: \", len(raw))\n",
        "# print(\"Example :\")\n",
        "\n",
        "# for sen in raw[0:100][::20]: print(\">>\", sen) \n"
      ],
      "metadata": {
        "id": "2VBkhOVv5o05",
        "colab": {
          "base_uri": "https://localhost:8080/",
          "height": 284
        },
        "outputId": "b0515aab-12f1-4846-b7e7-f130b4daefe2"
      },
      "execution_count": null,
      "outputs": [
        {
          "output_type": "error",
          "ename": "FileNotFoundError",
          "evalue": "ignored",
          "traceback": [
            "\u001b[0;31m---------------------------------------------------------------------------\u001b[0m",
            "\u001b[0;31mFileNotFoundError\u001b[0m                         Traceback (most recent call last)",
            "\u001b[0;32m<ipython-input-12-1f218a6d0845>\u001b[0m in \u001b[0;36m<module>\u001b[0;34m()\u001b[0m\n\u001b[1;32m      4\u001b[0m \u001b[0mpath_to_file\u001b[0m \u001b[0;34m=\u001b[0m \u001b[0mos\u001b[0m\u001b[0;34m.\u001b[0m\u001b[0mpath\u001b[0m\u001b[0;34m.\u001b[0m\u001b[0mdirname\u001b[0m\u001b[0;34m(\u001b[0m\u001b[0;34m'/content/drive/MyDrive/dataset/korean-english-park.train.tar'\u001b[0m\u001b[0;34m)\u001b[0m\u001b[0;34m+\u001b[0m\u001b[0;34m'/korean-english-park.train.ko.txt'\u001b[0m\u001b[0;34m\u001b[0m\u001b[0;34m\u001b[0m\u001b[0m\n\u001b[1;32m      5\u001b[0m \u001b[0;34m\u001b[0m\u001b[0m\n\u001b[0;32m----> 6\u001b[0;31m \u001b[0;32mwith\u001b[0m \u001b[0mopen\u001b[0m\u001b[0;34m(\u001b[0m\u001b[0mpath_to_file\u001b[0m\u001b[0;34m,\u001b[0m \u001b[0;34m\"r\"\u001b[0m\u001b[0;34m)\u001b[0m \u001b[0;32mas\u001b[0m \u001b[0mf\u001b[0m\u001b[0;34m:\u001b[0m\u001b[0;34m\u001b[0m\u001b[0;34m\u001b[0m\u001b[0m\n\u001b[0m\u001b[1;32m      7\u001b[0m     \u001b[0mraw\u001b[0m \u001b[0;34m=\u001b[0m \u001b[0mf\u001b[0m\u001b[0;34m.\u001b[0m\u001b[0mread\u001b[0m\u001b[0;34m(\u001b[0m\u001b[0;34m)\u001b[0m\u001b[0;34m.\u001b[0m\u001b[0msplitlines\u001b[0m\u001b[0;34m(\u001b[0m\u001b[0;34m)\u001b[0m\u001b[0;34m\u001b[0m\u001b[0;34m\u001b[0m\u001b[0m\n\u001b[1;32m      8\u001b[0m \u001b[0;34m\u001b[0m\u001b[0m\n",
            "\u001b[0;31mFileNotFoundError\u001b[0m: [Errno 2] No such file or directory: '/content/drive/MyDrive/dataset/korean-english-park.train.ko.txt'"
          ]
        }
      ]
    },
    {
      "cell_type": "code",
      "source": [
        "#####################################################\n",
        "#              기존 영/프 데이터 셀                 #\n",
        "#####################################################\n",
        "\n",
        "num_samples = 33000\n",
        "\n",
        "http = urllib3.PoolManager()\n",
        "url = 'http://www.manythings.org/anki/fra-eng.zip'\n",
        "filename = 'fra-eng.zip'\n",
        "path = os.getcwd()\n",
        "zipfilename = os.path.join(path, filename)\n",
        "with http.request('GET', url, preload_content=False) as r, open(zipfilename, 'wb') as out_file:\n",
        "    shutil.copyfileobj(r, out_file)\n",
        "\n",
        "with zipfile.ZipFile(zipfilename, 'r') as zip_ref:\n",
        "    zip_ref.extractall(path)\n",
        "path_to_zip = tf.keras.utils.get_file('spa-eng.zip', origin='http://storage.googleapis.com/download.tensorflow.org/data/spa-eng.zip', extract=True) # 추가\n",
        "path_to_file = os.path.dirname(path_to_zip)+\"/spa-eng/spa.txt\"\n",
        "\n",
        "\n",
        "num_samples = 33000"
      ],
      "metadata": {
        "id": "bynFcN-r277I"
      },
      "execution_count": null,
      "outputs": []
    },
    {
      "cell_type": "code",
      "source": [
        "def to_ascii(s):\n",
        "    return ''.join(c for c in unicodedata.normalize('NFD', s)\n",
        "                   if unicodedata.category(c) != 'Mn')"
      ],
      "metadata": {
        "id": "MrgDGNwU4I2_"
      },
      "execution_count": null,
      "outputs": []
    },
    {
      "cell_type": "code",
      "source": [
        "def preprocess_sentence(sent):\n",
        "  # 위에서 구현한 함수를 내부적으로 호출\n",
        "  sent = to_ascii(sent.lower())\n",
        "\n",
        "  # 단어와 구두점 사이에 공백 추가.\n",
        "  # ex) \"I am a student.\" => \"I am a student .\"\n",
        "  sent = re.sub(r\"([?.!,¿])\", r\" \\1\", sent)\n",
        "\n",
        "  # (a-z, A-Z, \".\", \"?\", \"!\", \",\") 이들을 제외하고는 전부 공백으로 변환합니다.\n",
        "  sent = re.sub(r\"[^a-zA-Z!.?]+\", r\" \", sent)\n",
        "\n",
        "  sent = re.sub(r\"\\s+\", \" \", sent)\n",
        "  return sent"
      ],
      "metadata": {
        "id": "n6f4kDcL4J9y"
      },
      "execution_count": null,
      "outputs": []
    },
    {
      "cell_type": "code",
      "source": [
        "#####################################################\n",
        "#   en/fr_sentence -> ko/en_sentence 수정 완료      #\n",
        "#####################################################\n",
        "\n",
        "# 전처리 테스트\n",
        "ko_sent = u\"Have you had dinner?\"\n",
        "en_sent = u\"Avez-vous déjà diné?\"\n",
        "print(preprocess_sentence(ko_sent))\n",
        "print(preprocess_sentence(en_sent).encode('utf-8'))"
      ],
      "metadata": {
        "colab": {
          "base_uri": "https://localhost:8080/"
        },
        "id": "TG_CqXz64LBX",
        "outputId": "af40b2ab-fb57-4881-8390-e03563ba7c4d"
      },
      "execution_count": null,
      "outputs": [
        {
          "output_type": "stream",
          "name": "stdout",
          "text": [
            "have you had dinner ?\n",
            "b'avez vous deja dine ?'\n"
          ]
        }
      ]
    },
    {
      "cell_type": "code",
      "source": [
        "#####################################################\n",
        "#       fra.txt 경로를 새데이터 경로로 수정         #\n",
        "#####################################################\n",
        "\n",
        "def load_preprocessed_data():\n",
        "  encoder_input, decoder_input, decoder_target = [], [], []\n",
        "\n",
        "  with open(\"fra.txt\", \"r\") as lines:\n",
        "    for i, line in enumerate(lines):\n",
        "      # source 데이터와 target 데이터 분리\n",
        "      src_line, tar_line, _ = line.strip().split('\\t')\n",
        "\n",
        "      # source 데이터 전처리\n",
        "      src_line = [w for w in preprocess_sentence(src_line).split()]\n",
        "\n",
        "      # target 데이터 전처리\n",
        "      tar_line = preprocess_sentence(tar_line)\n",
        "      tar_line_in = [w for w in (\"<sos> \" + tar_line).split()]\n",
        "      tar_line_out = [w for w in (tar_line + \" <eos>\").split()]\n",
        "\n",
        "      encoder_input.append(src_line)\n",
        "      decoder_input.append(tar_line_in)\n",
        "      decoder_target.append(tar_line_out)\n",
        "\n",
        "      if i == num_samples - 1:\n",
        "        break\n",
        "\n",
        "  return encoder_input, decoder_input, decoder_target"
      ],
      "metadata": {
        "id": "_9PHjUVf4M61"
      },
      "execution_count": null,
      "outputs": []
    },
    {
      "cell_type": "code",
      "source": [
        "#####################################################\n",
        "#              en/fra -> ko/en 수정 완료            #\n",
        "#####################################################\n",
        "\n",
        "sents_ko_in, sents_en_in, sents_en_out = load_preprocessed_data()  # sents_ko_out => sents_en_out 으로 변경 / 한영 번역기용 아니고 당장 돌려보기 용\n",
        "print(sents_ko_in[:5])\n",
        "print(sents_en_in[:5])\n",
        "print(sents_en_out[:5])"
      ],
      "metadata": {
        "colab": {
          "base_uri": "https://localhost:8080/"
        },
        "id": "-eu96Khu4WvV",
        "outputId": "2f5831d0-7ca8-419d-f6cd-b30110d3cfc0"
      },
      "execution_count": null,
      "outputs": [
        {
          "output_type": "stream",
          "name": "stdout",
          "text": [
            "[['go', '.'], ['go', '.'], ['go', '.'], ['hi', '.'], ['hi', '.']]\n",
            "[['<sos>', 'va', '!'], ['<sos>', 'marche', '.'], ['<sos>', 'bouge', '!'], ['<sos>', 'salut', '!'], ['<sos>', 'salut', '.']]\n",
            "[['va', '!', '<eos>'], ['marche', '.', '<eos>'], ['bouge', '!', '<eos>'], ['salut', '!', '<eos>'], ['salut', '.', '<eos>']]\n"
          ]
        }
      ]
    },
    {
      "cell_type": "code",
      "source": [
        "#####################################################\n",
        "#              en/fra -> ko/en 수정 완료            #\n",
        "#####################################################\n",
        "\n",
        "tokenizer_ko = Tokenizer(filters=\"\", lower=False)\n",
        "tokenizer_ko.fit_on_texts(sents_ko_in)\n",
        "encoder_input = tokenizer_ko.texts_to_sequences(sents_ko_in)\n",
        "encoder_input = pad_sequences(encoder_input, padding=\"post\")\n",
        "\n",
        "tokenizer_en = Tokenizer(filters=\"\", lower=False)\n",
        "tokenizer_en.fit_on_texts(sents_en_in)\n",
        "tokenizer_en.fit_on_texts(sents_en_out)\n",
        "\n",
        "decoder_input = tokenizer_en.texts_to_sequences(sents_en_in)\n",
        "decoder_input = pad_sequences(decoder_input, padding=\"post\")\n",
        "\n",
        "decoder_target = tokenizer_en.texts_to_sequences(sents_en_out)\n",
        "decoder_target = pad_sequences(decoder_target, padding=\"post\")"
      ],
      "metadata": {
        "id": "Al02qEzI4YVU"
      },
      "execution_count": null,
      "outputs": []
    },
    {
      "cell_type": "code",
      "source": [
        "#####################################################\n",
        "#              en/fra -> ko/en 수정 완료            #\n",
        "#####################################################\n",
        "\n",
        "src_vocab_size = len(tokenizer_ko.word_index) + 1\n",
        "tar_vocab_size = len(tokenizer_en.word_index) + 1\n",
        "print(\"한국어 단어 집합의 크기 : {:d}, 영어 단어 집합의 크기 : {:d}\".format(src_vocab_size, tar_vocab_size))"
      ],
      "metadata": {
        "colab": {
          "base_uri": "https://localhost:8080/"
        },
        "id": "PzdFEwF14Zl-",
        "outputId": "a81a026c-d581-44ab-9555-ce0adf4d3b20"
      },
      "execution_count": null,
      "outputs": [
        {
          "output_type": "stream",
          "name": "stdout",
          "text": [
            "영어 단어 집합의 크기 : 4635, 프랑스어 단어 집합의 크기 : 8117\n"
          ]
        }
      ]
    },
    {
      "cell_type": "code",
      "source": [
        "#####################################################\n",
        "#              en/fra -> ko/en 수정 완료            #\n",
        "#####################################################\n",
        "\n",
        "src_to_index = tokenizer_ko.word_index\n",
        "index_to_src = tokenizer_ko.index_word\n",
        "tar_to_index = tokenizer_en.word_index\n",
        "index_to_tar = tokenizer_en.index_word"
      ],
      "metadata": {
        "id": "wAV0WLCv4kau"
      },
      "execution_count": null,
      "outputs": []
    },
    {
      "cell_type": "code",
      "source": [
        "indices = np.arange(encoder_input.shape[0])\n",
        "np.random.shuffle(indices)\n",
        "print(indices)"
      ],
      "metadata": {
        "colab": {
          "base_uri": "https://localhost:8080/"
        },
        "id": "vOYyd9Sf4oFW",
        "outputId": "dd1ee4ec-1c15-430e-cab5-dc2ed205cc0c"
      },
      "execution_count": null,
      "outputs": [
        {
          "output_type": "stream",
          "name": "stdout",
          "text": [
            "[12341 11391 23738 ... 18244 26379 29232]\n"
          ]
        }
      ]
    },
    {
      "cell_type": "code",
      "source": [
        "encoder_input = encoder_input[indices]\n",
        "decoder_input = decoder_input[indices]\n",
        "decoder_target = decoder_target[indices]"
      ],
      "metadata": {
        "id": "m-Uw_1-H4pOb"
      },
      "execution_count": null,
      "outputs": []
    },
    {
      "cell_type": "code",
      "source": [
        "encoder_input[30997]"
      ],
      "metadata": {
        "colab": {
          "base_uri": "https://localhost:8080/"
        },
        "id": "8X5tOZey4tiC",
        "outputId": "24e250d9-996b-419a-932a-e87cdc21565d"
      },
      "execution_count": null,
      "outputs": [
        {
          "output_type": "execute_result",
          "data": {
            "text/plain": [
              "array([   2,   65, 2599,    1,    0,    0,    0,    0], dtype=int32)"
            ]
          },
          "metadata": {},
          "execution_count": 15
        }
      ]
    },
    {
      "cell_type": "code",
      "source": [
        "decoder_input[30997]"
      ],
      "metadata": {
        "colab": {
          "base_uri": "https://localhost:8080/"
        },
        "id": "D-3Wg42j4wvo",
        "outputId": "d9012332-31e6-462c-d568-016a28cf8b07"
      },
      "execution_count": null,
      "outputs": [
        {
          "output_type": "execute_result",
          "data": {
            "text/plain": [
              "array([   2,   12,   16,   61, 3737,    1,    0,    0,    0,    0,    0,\n",
              "          0,    0,    0,    0,    0], dtype=int32)"
            ]
          },
          "metadata": {},
          "execution_count": 16
        }
      ]
    },
    {
      "cell_type": "code",
      "source": [
        "decoder_target[30997]"
      ],
      "metadata": {
        "colab": {
          "base_uri": "https://localhost:8080/"
        },
        "id": "MMJlGabw4z6U",
        "outputId": "526a1f01-cf67-4117-a80f-f9306d78d97f"
      },
      "execution_count": null,
      "outputs": [
        {
          "output_type": "execute_result",
          "data": {
            "text/plain": [
              "array([  12,   16,   61, 3737,    1,    3,    0,    0,    0,    0,    0,\n",
              "          0,    0,    0,    0,    0], dtype=int32)"
            ]
          },
          "metadata": {},
          "execution_count": 17
        }
      ]
    },
    {
      "cell_type": "code",
      "source": [
        "n_of_val = int(33000*0.1)\n",
        "print(n_of_val)"
      ],
      "metadata": {
        "colab": {
          "base_uri": "https://localhost:8080/"
        },
        "id": "vaCQb3WK42SL",
        "outputId": "a60a870d-2440-4204-bb17-ed2f91b5081c"
      },
      "execution_count": null,
      "outputs": [
        {
          "output_type": "stream",
          "name": "stdout",
          "text": [
            "3300\n"
          ]
        }
      ]
    },
    {
      "cell_type": "code",
      "source": [
        "encoder_input_train = encoder_input[:-n_of_val]\n",
        "decoder_input_train = decoder_input[:-n_of_val]\n",
        "decoder_target_train = decoder_target[:-n_of_val]\n",
        "\n",
        "encoder_input_test = encoder_input[-n_of_val:]\n",
        "decoder_input_test = decoder_input[-n_of_val:]\n",
        "decoder_target_test = decoder_target[-n_of_val:]"
      ],
      "metadata": {
        "id": "Fh5BxnIi7KnU"
      },
      "execution_count": null,
      "outputs": []
    },
    {
      "cell_type": "code",
      "source": [
        "print('훈련 source 데이터의 크기 :',encoder_input_train.shape)\n",
        "print('훈련 target 데이터의 크기 :',decoder_input_train.shape)\n",
        "print('훈련 target 레이블의 크기 :',decoder_target_train.shape)\n",
        "print('테스트 source 데이터의 크기 :',encoder_input_test.shape)\n",
        "print('테스트 target 데이터의 크기 :',decoder_input_test.shape)\n",
        "print('테스트 target 레이블의 크기 :',decoder_target_test.shape)"
      ],
      "metadata": {
        "colab": {
          "base_uri": "https://localhost:8080/"
        },
        "id": "PtMoXL1S7RLd",
        "outputId": "d935154e-a5c2-4478-859c-43e4b4f387ac"
      },
      "execution_count": null,
      "outputs": [
        {
          "output_type": "stream",
          "name": "stdout",
          "text": [
            "훈련 source 데이터의 크기 : (29700, 8)\n",
            "훈련 target 데이터의 크기 : (29700, 16)\n",
            "훈련 target 레이블의 크기 : (29700, 16)\n",
            "테스트 source 데이터의 크기 : (3300, 8)\n",
            "테스트 target 데이터의 크기 : (3300, 16)\n",
            "테스트 target 레이블의 크기 : (3300, 16)\n"
          ]
        }
      ]
    },
    {
      "cell_type": "markdown",
      "source": [
        "# 전처리 끝, 번역기 만들기"
      ],
      "metadata": {
        "id": "haXpRGBY_p6f"
      }
    },
    {
      "cell_type": "code",
      "source": [
        "from tensorflow.keras.layers import Input, LSTM, Embedding, Dense, Masking\n",
        "from tensorflow.keras.models import Model"
      ],
      "metadata": {
        "id": "lsPY3RMF7TK3"
      },
      "execution_count": null,
      "outputs": []
    },
    {
      "cell_type": "code",
      "source": [
        "# 임베딩 벡터와 LSTM 은닉 상태 크기 고정\n",
        "latent_dim = 50"
      ],
      "metadata": {
        "id": "P_X5tsnq_hDe"
      },
      "execution_count": null,
      "outputs": []
    },
    {
      "cell_type": "code",
      "source": [
        "# 인코더\n",
        "encoder_inputs = Input(shape=(None,))\n",
        "enc_emb =  Embedding(src_vocab_size, latent_dim)(encoder_inputs) # 임베딩 층\n",
        "enc_masking = Masking(mask_value=0.0)(enc_emb) # Masking : 패딩토큰인 숫자 0은 연산에서 제외\n",
        "encoder_lstm = LSTM(latent_dim, return_state=True) # 상태값 리턴을 위해 return_state는 True\n",
        "encoder_outputs, state_h, state_c = encoder_lstm(enc_masking) # 은닉 상태와 셀 상태를 리턴\n",
        "encoder_states = [state_h, state_c] # 인코더의 은닉 상태와 셀 상태를 저장"
      ],
      "metadata": {
        "id": "ARq7XITZ_ziK"
      },
      "execution_count": null,
      "outputs": []
    },
    {
      "cell_type": "code",
      "source": [
        "# 디코더\n",
        "decoder_inputs = Input(shape=(None,))\n",
        "dec_emb_layer = Embedding(tar_vocab_size, latent_dim) # 임베딩 층\n",
        "dec_emb = dec_emb_layer(decoder_inputs) # 패딩 0은 연산에서 제외\n",
        "dec_masking = Masking(mask_value=0.0)(dec_emb)\n",
        "\n",
        "# 상태값 리턴을 위해 return_state는 True, 모든 시점에 대해서 단어를 예측하기 위해 return_sequences는 True\n",
        "decoder_lstm = LSTM(latent_dim, return_sequences=True, return_state=True) \n",
        "\n",
        "# 인코더의 은닉 상태를 초기 은닉 상태(initial_state)로 사용\n",
        "decoder_outputs, _, _ = decoder_lstm(dec_masking,\n",
        "                                     initial_state=encoder_states)\n",
        "\n",
        "# 모든 시점의 결과에 대해서 소프트맥스 함수를 사용한 출력층을 통해 단어 예측\n",
        "decoder_dense = Dense(tar_vocab_size, activation='softmax')\n",
        "decoder_outputs = decoder_dense(decoder_outputs)"
      ],
      "metadata": {
        "id": "oaQCzamZ_9F0"
      },
      "execution_count": null,
      "outputs": []
    },
    {
      "cell_type": "code",
      "source": [
        "model = Model([encoder_inputs, decoder_inputs], decoder_outputs)"
      ],
      "metadata": {
        "id": "fMZTHk-V__1g"
      },
      "execution_count": null,
      "outputs": []
    },
    {
      "cell_type": "code",
      "source": [
        "# 출력층에 softmax -> categorical_crossentropy\n",
        "# 원-핫 인코딩을 하지 않은 상태로 정수 레이블에 대해 다중 클래스 분류 시 loss function에 sparse_categorical_crossentropy을 사용.\n",
        "model.compile(optimizer='rmsprop', loss='sparse_categorical_crossentropy', metrics=['acc'])"
      ],
      "metadata": {
        "id": "U024oC2uABh5"
      },
      "execution_count": null,
      "outputs": []
    },
    {
      "cell_type": "code",
      "source": [
        "model.summary()"
      ],
      "metadata": {
        "colab": {
          "base_uri": "https://localhost:8080/"
        },
        "id": "8MQtnNtoAIHb",
        "outputId": "c69e8fff-f8a4-404f-8725-fec0ba9d4066"
      },
      "execution_count": null,
      "outputs": [
        {
          "output_type": "stream",
          "name": "stdout",
          "text": [
            "Model: \"model\"\n",
            "__________________________________________________________________________________________________\n",
            " Layer (type)                   Output Shape         Param #     Connected to                     \n",
            "==================================================================================================\n",
            " input_1 (InputLayer)           [(None, None)]       0           []                               \n",
            "                                                                                                  \n",
            " input_2 (InputLayer)           [(None, None)]       0           []                               \n",
            "                                                                                                  \n",
            " embedding (Embedding)          (None, None, 50)     231750      ['input_1[0][0]']                \n",
            "                                                                                                  \n",
            " embedding_1 (Embedding)        (None, None, 50)     405850      ['input_2[0][0]']                \n",
            "                                                                                                  \n",
            " masking (Masking)              (None, None, 50)     0           ['embedding[0][0]']              \n",
            "                                                                                                  \n",
            " masking_1 (Masking)            (None, None, 50)     0           ['embedding_1[0][0]']            \n",
            "                                                                                                  \n",
            " lstm (LSTM)                    [(None, 50),         20200       ['masking[0][0]']                \n",
            "                                 (None, 50),                                                      \n",
            "                                 (None, 50)]                                                      \n",
            "                                                                                                  \n",
            " lstm_1 (LSTM)                  [(None, None, 50),   20200       ['masking_1[0][0]',              \n",
            "                                 (None, 50),                      'lstm[0][1]',                   \n",
            "                                 (None, 50)]                      'lstm[0][2]']                   \n",
            "                                                                                                  \n",
            " dense (Dense)                  (None, None, 8117)   413967      ['lstm_1[0][0]']                 \n",
            "                                                                                                  \n",
            "==================================================================================================\n",
            "Total params: 1,091,967\n",
            "Trainable params: 1,091,967\n",
            "Non-trainable params: 0\n",
            "__________________________________________________________________________________________________\n"
          ]
        }
      ]
    },
    {
      "cell_type": "code",
      "source": [
        "model.fit(x = [encoder_input_train, decoder_input_train], y = decoder_target_train, \\\n",
        "          validation_data = ([encoder_input_test, decoder_input_test], decoder_target_test),\n",
        "          batch_size = 128, epochs = 50)"
      ],
      "metadata": {
        "colab": {
          "base_uri": "https://localhost:8080/"
        },
        "id": "A6t6oL6-DZB0",
        "outputId": "eda8a11c-2de0-4cd3-bf23-d7be2a63e382"
      },
      "execution_count": null,
      "outputs": [
        {
          "output_type": "stream",
          "name": "stdout",
          "text": [
            "Epoch 1/50\n",
            "233/233 [==============================] - 114s 424ms/step - loss: 3.1159 - acc: 0.6225 - val_loss: 1.8470 - val_acc: 0.6759\n",
            "Epoch 2/50\n",
            "233/233 [==============================] - 94s 405ms/step - loss: 1.6602 - acc: 0.7406 - val_loss: 1.5984 - val_acc: 0.7498\n",
            "Epoch 3/50\n",
            "233/233 [==============================] - 94s 405ms/step - loss: 1.4854 - acc: 0.7586 - val_loss: 1.4641 - val_acc: 0.7651\n",
            "Epoch 4/50\n",
            "233/233 [==============================] - 94s 405ms/step - loss: 1.3973 - acc: 0.7692 - val_loss: 1.3873 - val_acc: 0.7753\n",
            "Epoch 5/50\n",
            "233/233 [==============================] - 94s 405ms/step - loss: 1.3162 - acc: 0.7844 - val_loss: 1.3117 - val_acc: 0.7912\n",
            "Epoch 6/50\n",
            "233/233 [==============================] - 94s 404ms/step - loss: 1.2438 - acc: 0.7969 - val_loss: 1.2483 - val_acc: 0.8001\n",
            "Epoch 7/50\n",
            "233/233 [==============================] - 94s 405ms/step - loss: 1.1871 - acc: 0.8056 - val_loss: 1.2050 - val_acc: 0.8070\n",
            "Epoch 8/50\n",
            "233/233 [==============================] - 104s 446ms/step - loss: 1.1403 - acc: 0.8130 - val_loss: 1.1695 - val_acc: 0.8132\n",
            "Epoch 9/50\n",
            "233/233 [==============================] - 95s 407ms/step - loss: 1.0998 - acc: 0.8193 - val_loss: 1.1401 - val_acc: 0.8184\n",
            "Epoch 10/50\n",
            "233/233 [==============================] - 94s 402ms/step - loss: 1.0648 - acc: 0.8246 - val_loss: 1.1012 - val_acc: 0.8236\n",
            "Epoch 11/50\n",
            "233/233 [==============================] - 94s 402ms/step - loss: 1.0341 - acc: 0.8291 - val_loss: 1.0871 - val_acc: 0.8259\n",
            "Epoch 12/50\n",
            "233/233 [==============================] - 94s 402ms/step - loss: 1.0066 - acc: 0.8328 - val_loss: 1.0629 - val_acc: 0.8306\n",
            "Epoch 13/50\n",
            "233/233 [==============================] - 94s 403ms/step - loss: 0.9823 - acc: 0.8359 - val_loss: 1.0442 - val_acc: 0.8320\n",
            "Epoch 14/50\n",
            "233/233 [==============================] - 94s 403ms/step - loss: 0.9607 - acc: 0.8387 - val_loss: 1.0439 - val_acc: 0.8323\n",
            "Epoch 15/50\n",
            "233/233 [==============================] - 95s 408ms/step - loss: 0.9409 - acc: 0.8412 - val_loss: 1.0238 - val_acc: 0.8359\n",
            "Epoch 16/50\n",
            "233/233 [==============================] - 94s 406ms/step - loss: 0.9225 - acc: 0.8439 - val_loss: 0.9942 - val_acc: 0.8395\n",
            "Epoch 17/50\n",
            "233/233 [==============================] - 94s 405ms/step - loss: 0.9048 - acc: 0.8460 - val_loss: 0.9889 - val_acc: 0.8398\n",
            "Epoch 18/50\n",
            "233/233 [==============================] - 94s 406ms/step - loss: 0.8883 - acc: 0.8482 - val_loss: 0.9797 - val_acc: 0.8398\n",
            "Epoch 19/50\n",
            "233/233 [==============================] - 94s 405ms/step - loss: 0.8730 - acc: 0.8503 - val_loss: 0.9803 - val_acc: 0.8408\n",
            "Epoch 20/50\n",
            "233/233 [==============================] - 95s 407ms/step - loss: 0.8587 - acc: 0.8526 - val_loss: 0.9663 - val_acc: 0.8425\n",
            "Epoch 21/50\n",
            "233/233 [==============================] - 95s 406ms/step - loss: 0.8456 - acc: 0.8545 - val_loss: 0.9494 - val_acc: 0.8458\n",
            "Epoch 22/50\n",
            "233/233 [==============================] - 95s 407ms/step - loss: 0.8329 - acc: 0.8562 - val_loss: 0.9396 - val_acc: 0.8481\n",
            "Epoch 23/50\n",
            "233/233 [==============================] - 94s 405ms/step - loss: 0.8209 - acc: 0.8579 - val_loss: 0.9289 - val_acc: 0.8483\n",
            "Epoch 24/50\n",
            "233/233 [==============================] - 94s 405ms/step - loss: 0.8092 - acc: 0.8597 - val_loss: 0.9272 - val_acc: 0.8492\n",
            "Epoch 25/50\n",
            "233/233 [==============================] - 95s 407ms/step - loss: 0.7978 - acc: 0.8616 - val_loss: 0.9300 - val_acc: 0.8485\n",
            "Epoch 26/50\n",
            "233/233 [==============================] - 94s 405ms/step - loss: 0.7869 - acc: 0.8633 - val_loss: 0.9110 - val_acc: 0.8510\n",
            "Epoch 27/50\n",
            "233/233 [==============================] - 95s 406ms/step - loss: 0.7763 - acc: 0.8648 - val_loss: 0.9198 - val_acc: 0.8477\n",
            "Epoch 28/50\n",
            "233/233 [==============================] - 95s 407ms/step - loss: 0.7664 - acc: 0.8662 - val_loss: 0.8993 - val_acc: 0.8525\n",
            "Epoch 29/50\n",
            "233/233 [==============================] - 95s 408ms/step - loss: 0.7570 - acc: 0.8678 - val_loss: 0.8981 - val_acc: 0.8538\n",
            "Epoch 30/50\n",
            "233/233 [==============================] - 95s 406ms/step - loss: 0.7486 - acc: 0.8693 - val_loss: 0.9101 - val_acc: 0.8500\n",
            "Epoch 31/50\n",
            "233/233 [==============================] - 94s 405ms/step - loss: 0.7403 - acc: 0.8709 - val_loss: 0.8937 - val_acc: 0.8549\n",
            "Epoch 32/50\n",
            "233/233 [==============================] - 94s 405ms/step - loss: 0.7322 - acc: 0.8724 - val_loss: 0.8882 - val_acc: 0.8548\n",
            "Epoch 33/50\n",
            "233/233 [==============================] - 93s 401ms/step - loss: 0.7247 - acc: 0.8736 - val_loss: 0.8769 - val_acc: 0.8576\n",
            "Epoch 34/50\n",
            "233/233 [==============================] - 94s 404ms/step - loss: 0.7177 - acc: 0.8751 - val_loss: 0.8721 - val_acc: 0.8582\n",
            "Epoch 35/50\n",
            "233/233 [==============================] - 95s 406ms/step - loss: 0.7109 - acc: 0.8763 - val_loss: 0.8709 - val_acc: 0.8591\n",
            "Epoch 36/50\n",
            "233/233 [==============================] - 95s 407ms/step - loss: 0.7043 - acc: 0.8776 - val_loss: 0.8835 - val_acc: 0.8568\n",
            "Epoch 37/50\n",
            "233/233 [==============================] - 94s 405ms/step - loss: 0.6981 - acc: 0.8788 - val_loss: 0.8718 - val_acc: 0.8595\n",
            "Epoch 38/50\n",
            "233/233 [==============================] - 94s 405ms/step - loss: 0.6924 - acc: 0.8800 - val_loss: 0.8649 - val_acc: 0.8604\n",
            "Epoch 39/50\n",
            "233/233 [==============================] - 94s 405ms/step - loss: 0.6868 - acc: 0.8813 - val_loss: 0.8637 - val_acc: 0.8598\n",
            "Epoch 40/50\n",
            "233/233 [==============================] - 95s 406ms/step - loss: 0.6810 - acc: 0.8824 - val_loss: 0.8669 - val_acc: 0.8606\n",
            "Epoch 41/50\n",
            "233/233 [==============================] - 94s 405ms/step - loss: 0.6761 - acc: 0.8836 - val_loss: 0.8623 - val_acc: 0.8606\n",
            "Epoch 42/50\n",
            "233/233 [==============================] - 94s 402ms/step - loss: 0.6707 - acc: 0.8847 - val_loss: 0.8559 - val_acc: 0.8619\n",
            "Epoch 43/50\n",
            "233/233 [==============================] - 94s 405ms/step - loss: 0.6658 - acc: 0.8858 - val_loss: 0.8631 - val_acc: 0.8612\n",
            "Epoch 44/50\n",
            "233/233 [==============================] - 94s 405ms/step - loss: 0.6607 - acc: 0.8866 - val_loss: 0.8608 - val_acc: 0.8623\n",
            "Epoch 45/50\n",
            "233/233 [==============================] - 94s 405ms/step - loss: 0.6561 - acc: 0.8877 - val_loss: 0.8527 - val_acc: 0.8638\n",
            "Epoch 46/50\n",
            "233/233 [==============================] - 94s 404ms/step - loss: 0.6513 - acc: 0.8884 - val_loss: 0.8547 - val_acc: 0.8638\n",
            "Epoch 47/50\n",
            "233/233 [==============================] - 95s 406ms/step - loss: 0.6467 - acc: 0.8897 - val_loss: 0.8519 - val_acc: 0.8637\n",
            "Epoch 48/50\n",
            "233/233 [==============================] - 95s 409ms/step - loss: 0.6419 - acc: 0.8905 - val_loss: 0.8493 - val_acc: 0.8634\n",
            "Epoch 49/50\n",
            "233/233 [==============================] - 95s 407ms/step - loss: 0.6374 - acc: 0.8913 - val_loss: 0.8427 - val_acc: 0.8650\n",
            "Epoch 50/50\n",
            "232/233 [============================>.] - ETA: 0s - loss: 0.6327 - acc: 0.8922"
          ]
        },
        {
          "output_type": "execute_result",
          "data": {
            "text/plain": [
              "<keras.callbacks.History at 0x7f8a33796d90>"
            ]
          },
          "metadata": {},
          "execution_count": 29
        }
      ]
    },
    {
      "cell_type": "markdown",
      "source": [
        "## seq2seq 기계 번역기"
      ],
      "metadata": {
        "id": "VK7HDA37YOGu"
      }
    },
    {
      "cell_type": "code",
      "source": [
        "# 인코더\n",
        "encoder_model = Model(encoder_inputs, encoder_states)"
      ],
      "metadata": {
        "id": "7cBG25A0DbTi"
      },
      "execution_count": null,
      "outputs": []
    },
    {
      "cell_type": "code",
      "source": [
        "# 디코더\n",
        "# 이전 시점의 상태를 보관할 텐서\n",
        "decoder_state_input_h = Input(shape=(latent_dim,))\n",
        "decoder_state_input_c = Input(shape=(latent_dim,))\n",
        "decoder_states_inputs = [decoder_state_input_h, decoder_state_input_c]\n",
        "\n",
        "# 훈련 때 사용했던 임베딩 층을 재사용\n",
        "dec_emb2= dec_emb_layer(decoder_inputs)\n",
        "\n",
        "# 다음 단어 예측을 위해 이전 시점의 상태를 현 시점의 초기 상태로 사용\n",
        "decoder_outputs2, state_h2, state_c2 = decoder_lstm(dec_emb2, initial_state=decoder_states_inputs)\n",
        "decoder_states2 = [state_h2, state_c2]\n",
        "\n",
        "# 모든 시점에 대해서 단어 예측\n",
        "decoder_outputs2 = decoder_dense(decoder_outputs2)"
      ],
      "metadata": {
        "id": "AV3ffhyzYR2g"
      },
      "execution_count": null,
      "outputs": []
    },
    {
      "cell_type": "code",
      "source": [
        "decoder_model = Model(\n",
        "    [decoder_inputs] + decoder_states_inputs,\n",
        "    [decoder_outputs2] + decoder_states2)"
      ],
      "metadata": {
        "id": "fopbL50bYTHY"
      },
      "execution_count": null,
      "outputs": []
    },
    {
      "cell_type": "code",
      "source": [
        "def decode_sequence(input_seq):\n",
        "  # 입력으로부터 인코더의 상태를 얻음\n",
        "  states_value = encoder_model.predict(input_seq)\n",
        "\n",
        "  # <SOS>에 해당하는 정수 생성\n",
        "  target_seq = np.zeros((1,1))\n",
        "  target_seq[0, 0] = tar_to_index['<sos>']\n",
        "\n",
        "  stop_condition = False\n",
        "  decoded_sentence = ''\n",
        "\n",
        "  # stop_condition이 True가 될 때까지 루프 반복\n",
        "  # 구현의 간소화를 위해서 이 함수는 배치 크기를 1로 가정합니다.\n",
        "  while not stop_condition:\n",
        "    # 이점 시점의 상태 states_value를 현 시점의 초기 상태로 사용\n",
        "    output_tokens, h, c = decoder_model.predict([target_seq] + states_value)\n",
        "\n",
        "    # 예측 결과를 단어로 변환\n",
        "    sampled_token_index = np.argmax(output_tokens[0, -1, :])\n",
        "    sampled_char = index_to_tar[sampled_token_index]\n",
        "\n",
        "    # 현재 시점의 예측 단어를 예측 문장에 추가\n",
        "    decoded_sentence += ' '+sampled_char\n",
        "\n",
        "    # <eos>에 도달하거나 정해진 길이를 넘으면 중단.\n",
        "    if (sampled_char == '<eos>' or\n",
        "        len(decoded_sentence) > 50):\n",
        "        stop_condition = True\n",
        "\n",
        "    # 현재 시점의 예측 결과를 다음 시점의 입력으로 사용하기 위해 저장\n",
        "    target_seq = np.zeros((1,1))\n",
        "    target_seq[0, 0] = sampled_token_index\n",
        "\n",
        "    # 현재 시점의 상태를 다음 시점의 상태로 사용하기 위해 저장\n",
        "    states_value = [h, c]\n",
        "\n",
        "  return decoded_sentence"
      ],
      "metadata": {
        "id": "2Ei7orC7YUM9"
      },
      "execution_count": null,
      "outputs": []
    },
    {
      "cell_type": "code",
      "source": [
        "# 원문의 정수 시퀀스를 텍스트 시퀀스로 변환\n",
        "def seq_to_src(input_seq):\n",
        "  sentence = ''\n",
        "  for encoded_word in input_seq:\n",
        "    if(encoded_word != 0):\n",
        "      sentence = sentence + index_to_src[encoded_word] + ' '\n",
        "  return sentence\n",
        "\n",
        "# 번역문의 정수 시퀀스를 텍스트 시퀀스로 변환\n",
        "def seq_to_tar(input_seq):\n",
        "  sentence = ''\n",
        "  for encoded_word in input_seq:\n",
        "    if(encoded_word != 0 and encoded_word != tar_to_index['<sos>'] and encoded_word != tar_to_index['<eos>']):\n",
        "      sentence = sentence + index_to_tar[encoded_word] + ' '\n",
        "  return sentence"
      ],
      "metadata": {
        "id": "Mv0grJPIYWAj"
      },
      "execution_count": null,
      "outputs": []
    },
    {
      "cell_type": "code",
      "source": [
        "# 테스트\n",
        "\n",
        "for seq_index in [3, 50, 100, 300, 1001]:\n",
        "  input_seq = encoder_input_train[seq_index: seq_index + 1]\n",
        "  decoded_sentence = decode_sequence(input_seq)\n",
        "\n",
        "  print(\"입력문장 :\",seq_to_src(encoder_input_train[seq_index]))\n",
        "  print(\"정답문장 :\",seq_to_tar(decoder_input_train[seq_index]))\n",
        "  print(\"번역문장 :\",decoded_sentence[1:-5])\n",
        "  print(\"-\"*50)"
      ],
      "metadata": {
        "colab": {
          "base_uri": "https://localhost:8080/"
        },
        "id": "aDIbDgUwYXLl",
        "outputId": "ebe4e98b-68a1-4bdb-f5da-0069a3ac6c09"
      },
      "execution_count": null,
      "outputs": [
        {
          "output_type": "stream",
          "name": "stdout",
          "text": [
            "입력문장 : what will we eat ? \n",
            "정답문장 : qu allons nous manger ? \n",
            "번역문장 : que nous sommes demain ? \n",
            "--------------------------------------------------\n",
            "입력문장 : a comma is missing . \n",
            "정답문장 : il manque une virgule . \n",
            "번역문장 : il manque une fois . \n",
            "--------------------------------------------------\n",
            "입력문장 : i m sort of tired . \n",
            "정답문장 : je suis en quelque sorte fatiguee . \n",
            "번역문장 : je suis en quelque chose suis tres malade . \n",
            "--------------------------------------------------\n",
            "입력문장 : he s a big coward . \n",
            "정답문장 : c est un grand lache . \n",
            "번역문장 : c est un un homme . \n",
            "--------------------------------------------------\n",
            "입력문장 : you re not dead . \n",
            "정답문장 : vous n etes pas morte . \n",
            "번역문장 : vous n etes pas mort . \n",
            "--------------------------------------------------\n"
          ]
        }
      ]
    },
    {
      "cell_type": "code",
      "source": [
        "for seq_index in [3, 50, 100, 300, 1001]:\n",
        "  input_seq = encoder_input_test[seq_index: seq_index + 1]\n",
        "  decoded_sentence = decode_sequence(input_seq)\n",
        "\n",
        "  print(\"입력문장 :\",seq_to_src(encoder_input_test[seq_index]))\n",
        "  print(\"정답문장 :\",seq_to_tar(decoder_input_test[seq_index]))\n",
        "  print(\"번역문장 :\",decoded_sentence[1:-5])\n",
        "  print(\"-\"*50)"
      ],
      "metadata": {
        "colab": {
          "base_uri": "https://localhost:8080/"
        },
        "id": "B5I6GrTFYYmw",
        "outputId": "618c5190-becf-4707-d153-c319d2be631e"
      },
      "execution_count": null,
      "outputs": [
        {
          "output_type": "stream",
          "name": "stdout",
          "text": [
            "입력문장 : tom s trapped . \n",
            "정답문장 : tom est piege . \n",
            "번역문장 : tom est . \n",
            "--------------------------------------------------\n",
            "입력문장 : what time is it ? \n",
            "정답문장 : quelle heure est il ? \n",
            "번역문장 : quel est l qui de l heure ? \n",
            "--------------------------------------------------\n",
            "입력문장 : tom s a doctor . \n",
            "정답문장 : tom est medecin . \n",
            "번역문장 : tom est un peu . \n",
            "--------------------------------------------------\n",
            "입력문장 : aren t you happy ? \n",
            "정답문장 : n etes vous pas heureux ? \n",
            "번역문장 : ne vous etes pas n train de les yeux ? \n",
            "--------------------------------------------------\n",
            "입력문장 : hug me tight . \n",
            "정답문장 : serre moi bien fort . \n",
            "번역문장 : viens vous en securite . \n",
            "--------------------------------------------------\n"
          ]
        }
      ]
    },
    {
      "cell_type": "markdown",
      "source": [
        "# Attention 시각화\n",
        "\n",
        "\n"
      ],
      "metadata": {
        "id": "hp_q1V7pFGA0"
      }
    },
    {
      "cell_type": "markdown",
      "source": [
        "![](https://aiffelstaticprd.blob.core.windows.net/media/original_images/GN-4-L-9.jpg)\n",
        "\n",
        "참고 :     \n",
        "[1](https://tutorials.pytorch.kr/intermediate/seq2seq_translation_tutorial.html)\n",
        "\n",
        "[2](https://colab.research.google.com/drive/1arlT6YVpUVnmZAbsu3e4sHqbk7c0cu8A#scrollTo=2FBtAEqIkIpQ) - 훈련하기 2.train_step"
      ],
      "metadata": {
        "id": "p_Tczz-SLBHG"
      }
    }
  ]
}