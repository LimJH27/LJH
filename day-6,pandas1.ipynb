{
 "cells": [
  {
   "cell_type": "code",
   "execution_count": 45,
   "id": "dfaa6de9",
   "metadata": {},
   "outputs": [
    {
     "name": "stdout",
     "output_type": "stream",
     "text": [
      "<class 'dict'>\n",
      "<class 'pandas.core.series.Series'>\n"
     ]
    }
   ],
   "source": [
    "# pandas를 활용하여 데이터 처리\n",
    "import pandas as pd\n",
    "\n",
    "dict_data = {'a':1, 'b':2, 'c':3} # 'a'는 key값\n",
    "\n",
    "ar = pd.Series(dict_data) # dictionary를 series 형식으로 변환\n",
    "\n",
    "print(type(dict_data))\n",
    "print(type(ar))"
   ]
  },
  {
   "cell_type": "code",
   "execution_count": 46,
   "id": "b7340b6f",
   "metadata": {},
   "outputs": [
    {
     "name": "stdout",
     "output_type": "stream",
     "text": [
      "{'a': 1, 'b': 2, 'c': 3}\n",
      "a    1\n",
      "b    2\n",
      "c    3\n",
      "dtype: int64\n",
      "1  :  1  :  1\n",
      "a    1\n",
      "c    3\n",
      "dtype: int64\n"
     ]
    },
    {
     "data": {
      "text/plain": [
       "b    2\n",
       "c    3\n",
       "dtype: int64"
      ]
     },
     "execution_count": 46,
     "metadata": {},
     "output_type": "execute_result"
    }
   ],
   "source": [
    "print(dict_data) # 딕셔너리\n",
    "print(ar)  # 시리즈\n",
    "\n",
    "print(dict_data['a'], \" : \" ,ar['a'],' : ', ar[0]) # series에서 'a'는 index명\n",
    "print(ar[['a','c']])\n",
    "ar[1:2]     # index 첨자로 접근하면 마지막 첨자 위치 data 미포함★\n",
    "ar['b':'c'] # index명으로 접근하면 마지막 data포함★\n",
    "# => dictionary를 series로 변경 : dictionary의 key가 series의 index명이 됨\n",
    "# 접근은 index명 또는 index 첨자로 접근 가능"
   ]
  },
  {
   "cell_type": "code",
   "execution_count": 47,
   "id": "07dbb2f2",
   "metadata": {},
   "outputs": [],
   "source": [
    "dict_data = {'a':[1,2,3], 'b':[4,5,6], 'c':[7,8,9]} "
   ]
  },
  {
   "cell_type": "code",
   "execution_count": 48,
   "id": "1591fca4",
   "metadata": {},
   "outputs": [
    {
     "name": "stdout",
     "output_type": "stream",
     "text": [
      "Print df :\n",
      "\n",
      "    a  b  c\n",
      "0  1  4  7\n",
      "1  2  5  8\n",
      "2  3  6  9\n",
      "\n",
      "Print df1 :\n",
      "\n",
      "       a  b  c\n",
      "idx1  1  4  7\n",
      "idx2  2  5  8\n",
      "idx3  3  6  9\n",
      "\n",
      "Print df2 :\n",
      "\n",
      "       a1  b1  c1\n",
      "idx1   1   2   3\n",
      "idx2   4   5   6\n",
      "idx3   7   8   9\n",
      "\n",
      "None\n"
     ]
    },
    {
     "data": {
      "text/html": [
       "<div>\n",
       "<style scoped>\n",
       "    .dataframe tbody tr th:only-of-type {\n",
       "        vertical-align: middle;\n",
       "    }\n",
       "\n",
       "    .dataframe tbody tr th {\n",
       "        vertical-align: top;\n",
       "    }\n",
       "\n",
       "    .dataframe thead th {\n",
       "        text-align: right;\n",
       "    }\n",
       "</style>\n",
       "<table border=\"1\" class=\"dataframe\">\n",
       "  <thead>\n",
       "    <tr style=\"text-align: right;\">\n",
       "      <th></th>\n",
       "      <th>a1</th>\n",
       "      <th>b1</th>\n",
       "      <th>c1</th>\n",
       "    </tr>\n",
       "  </thead>\n",
       "  <tbody>\n",
       "    <tr>\n",
       "      <th>ix1</th>\n",
       "      <td>1</td>\n",
       "      <td>2</td>\n",
       "      <td>3</td>\n",
       "    </tr>\n",
       "    <tr>\n",
       "      <th>ix2</th>\n",
       "      <td>4</td>\n",
       "      <td>5</td>\n",
       "      <td>6</td>\n",
       "    </tr>\n",
       "    <tr>\n",
       "      <th>ix3</th>\n",
       "      <td>7</td>\n",
       "      <td>8</td>\n",
       "      <td>9</td>\n",
       "    </tr>\n",
       "  </tbody>\n",
       "</table>\n",
       "</div>"
      ],
      "text/plain": [
       "     a1  b1  c1\n",
       "ix1   1   2   3\n",
       "ix2   4   5   6\n",
       "ix3   7   8   9"
      ]
     },
     "execution_count": 48,
     "metadata": {},
     "output_type": "execute_result"
    }
   ],
   "source": [
    "df = pd.DataFrame(dict_data)\n",
    "print('Print df :\\n\\n',df)\n",
    "print()\n",
    "# index명을 부여\n",
    "df1 = pd.DataFrame(dict_data, index=['idx1','idx2','idx3'])\n",
    "print('Print df1 :\\n\\n',df1)\n",
    "print()\n",
    "a_var = [[1,2,3],[4,5,6],[7,8,9]]\n",
    "df2 = pd.DataFrame(a_var,index=['idx1','idx2','idx3'],columns=['a1','b1','c1'])\n",
    "print('Print df2 :\\n\\n',df2)\n",
    "print()\n",
    "print(df2.rename(index={'idx1':'ix1','idx2':'ix2','idx3':'ix3'}, inplace=True))\n",
    "df2\n",
    "\n",
    "#오전수업 끝"
   ]
  },
  {
   "cell_type": "markdown",
   "id": "5d6c9e64",
   "metadata": {},
   "source": [
    "### - 행 index명 변경 : object.index = 새로운 행 index 배열\n",
    "### - 열 index명 변경 : object.columns = 새로운 열 index 배열"
   ]
  },
  {
   "cell_type": "code",
   "execution_count": 50,
   "id": "abb6f992",
   "metadata": {},
   "outputs": [
    {
     "name": "stdout",
     "output_type": "stream",
     "text": [
      "df1 :     열1  열2  열3\n",
      "행1   1   2   3\n",
      "행2   4   5   6\n",
      "행3   7   8   9\n",
      "     열1  열2  열3\n",
      "ida   1   2   3\n",
      "idb   4   5   6\n",
      "행3    7   8   9\n",
      "df1 :      열1  열2  열3\n",
      "idb   4   5   6\n",
      "행3    7   8   9\n",
      "df2 :      열2  열3\n",
      "idb   5   6\n",
      "행3    8   9\n"
     ]
    }
   ],
   "source": [
    "a_var = [[1,2,3],[4,5,6],[7,8,9]]\n",
    "df = pd.DataFrame(a_var)\n",
    "df\n",
    "\n",
    "df.index=['행1','행2','행3']\n",
    "df.columns=['열1','열2','열3']\n",
    "df\n",
    "\n",
    "df1=df\n",
    "print(\"df1 :\",df1)\n",
    "df1.rename(index={'행1':'ida','행2':'idb'}, inplace=True)\n",
    "print(df1)\n",
    "\n",
    "# 행 삭제 axis=0, 열 삭제 axis=1\n",
    "df2 = df1\n",
    "df2.drop('ida',axis=0, inplace=True) # axis=0 가로축부터 0으로 시작\n",
    "print('df1 :',df1)\n",
    "\n",
    "df2.drop('열1',axis=1, inplace=True) # axis=1 세로축부터 0으로 시작\n",
    "print('df2 :',df2)"
   ]
  },
  {
   "cell_type": "code",
   "execution_count": 51,
   "id": "e95102ba",
   "metadata": {},
   "outputs": [
    {
     "name": "stdout",
     "output_type": "stream",
     "text": [
      "df:     열2  열3\n",
      "행3   8   9\n"
     ]
    },
    {
     "data": {
      "text/html": [
       "<div>\n",
       "<style scoped>\n",
       "    .dataframe tbody tr th:only-of-type {\n",
       "        vertical-align: middle;\n",
       "    }\n",
       "\n",
       "    .dataframe tbody tr th {\n",
       "        vertical-align: top;\n",
       "    }\n",
       "\n",
       "    .dataframe thead th {\n",
       "        text-align: right;\n",
       "    }\n",
       "</style>\n",
       "<table border=\"1\" class=\"dataframe\">\n",
       "  <thead>\n",
       "    <tr style=\"text-align: right;\">\n",
       "      <th></th>\n",
       "      <th>열2</th>\n",
       "      <th>열3</th>\n",
       "    </tr>\n",
       "  </thead>\n",
       "  <tbody>\n",
       "    <tr>\n",
       "      <th>idb</th>\n",
       "      <td>5</td>\n",
       "      <td>6</td>\n",
       "    </tr>\n",
       "    <tr>\n",
       "      <th>행3</th>\n",
       "      <td>8</td>\n",
       "      <td>9</td>\n",
       "    </tr>\n",
       "  </tbody>\n",
       "</table>\n",
       "</div>"
      ],
      "text/plain": [
       "     열2  열3\n",
       "idb   5   6\n",
       "행3    8   9"
      ]
     },
     "execution_count": 51,
     "metadata": {},
     "output_type": "execute_result"
    }
   ],
   "source": [
    "df1 = df # df의 주소를 복사, df의 값이 변하면 df1의 값도 변함\n",
    "df2 = df[:] # df의 값을 복사, df와 df2를 각기 다른 자료로 처리 가능\n",
    "df1.drop('idb', axis=0, inplace=True) # 원래 자료(df)가 바뀐다\n",
    "print('df:',df)\n",
    "df2"
   ]
  },
  {
   "cell_type": "code",
   "execution_count": 3,
   "id": "2995cabc",
   "metadata": {},
   "outputs": [
    {
     "name": "stdout",
     "output_type": "stream",
     "text": [
      "    수학  영어   음악   체육\n",
      "서준  90  98   85  100\n",
      "우현  80  89   95   90\n",
      "인아  70  95  100   90\n",
      "\n",
      "\n",
      "    수학  영어   음악  체육\n",
      "우현  80  89   95  90\n",
      "인아  70  95  100  90\n",
      "\n",
      "    수학  영어   음악  체육\n",
      "인아  70  95  100  90\n",
      "\n",
      "    수학  영어   음악   체육\n",
      "서준  90  98   85  100\n",
      "우현  80  89   95   90\n",
      "인아  70  95  100   90\n"
     ]
    },
    {
     "name": "stderr",
     "output_type": "stream",
     "text": [
      "C:\\Users\\Lim\\anaconda3\\lib\\site-packages\\pandas\\core\\frame.py:4308: SettingWithCopyWarning: \n",
      "A value is trying to be set on a copy of a slice from a DataFrame\n",
      "\n",
      "See the caveats in the documentation: https://pandas.pydata.org/pandas-docs/stable/user_guide/indexing.html#returning-a-view-versus-a-copy\n",
      "  return super().drop(\n",
      "C:\\Users\\Lim\\anaconda3\\lib\\site-packages\\pandas\\core\\frame.py:4308: SettingWithCopyWarning: \n",
      "A value is trying to be set on a copy of a slice from a DataFrame\n",
      "\n",
      "See the caveats in the documentation: https://pandas.pydata.org/pandas-docs/stable/user_guide/indexing.html#returning-a-view-versus-a-copy\n",
      "  return super().drop(\n"
     ]
    }
   ],
   "source": [
    "# 문)\n",
    "\n",
    "import pandas as pd\n",
    "\n",
    "# DataFrame() 함수로 데이터프레임 변환, 변수 df에 저장\n",
    "exam_data = {'수학' : [90, 80, 70],'영어' : [98, 89, 95],\\\n",
    "             '음악' : [85, 95, 100],'체육' : [100, 90, 90]}\n",
    "df = pd.DataFrame(exam_data, index=['서준','우현','인아'])\n",
    "print(df)\n",
    "print('\\n')\n",
    "# 데이터프레임 df를 복제하여 변수 df2에 저장, df2의 1개 행(row)삭제\n",
    "df2 = df[:]\n",
    "df2.drop('서준', inplace=True)\n",
    "print(df2)\n",
    "print()\n",
    "# 데이터프레임 df를 복제하여 변수 df3에 저장. df3의 2개 행(row)삭제\n",
    "df3 = df[:]\n",
    "df3.drop(['서준','우현'], inplace=True)\n",
    "print(df3)\n",
    "print()\n",
    "print(df)\n"
   ]
  },
  {
   "cell_type": "code",
   "execution_count": 2,
   "id": "7cbe6d4a",
   "metadata": {},
   "outputs": [
    {
     "ename": "NameError",
     "evalue": "name 'pd' is not defined",
     "output_type": "error",
     "traceback": [
      "\u001b[1;31m---------------------------------------------------------------------------\u001b[0m",
      "\u001b[1;31mNameError\u001b[0m                                 Traceback (most recent call last)",
      "\u001b[1;32m<ipython-input-2-dacab87bf992>\u001b[0m in \u001b[0;36m<module>\u001b[1;34m\u001b[0m\n\u001b[0;32m      3\u001b[0m exam_data = {'수학' : [90, 80, 70],'영어' : [98, 89, 95],\\\n\u001b[0;32m      4\u001b[0m              '음악' : [85, 95, 100],'체육' : [100, 90, 90]}\n\u001b[1;32m----> 5\u001b[1;33m \u001b[0mdf\u001b[0m \u001b[1;33m=\u001b[0m \u001b[0mpd\u001b[0m\u001b[1;33m.\u001b[0m\u001b[0mDataFrame\u001b[0m\u001b[1;33m(\u001b[0m\u001b[0mexam_data\u001b[0m\u001b[1;33m,\u001b[0m \u001b[0mindex\u001b[0m\u001b[1;33m=\u001b[0m\u001b[1;33m[\u001b[0m\u001b[1;34m'서준'\u001b[0m\u001b[1;33m,\u001b[0m\u001b[1;34m'우현'\u001b[0m\u001b[1;33m,\u001b[0m\u001b[1;34m'인아'\u001b[0m\u001b[1;33m]\u001b[0m\u001b[1;33m)\u001b[0m\u001b[1;33m\u001b[0m\u001b[1;33m\u001b[0m\u001b[0m\n\u001b[0m\u001b[0;32m      6\u001b[0m \u001b[1;33m\u001b[0m\u001b[0m\n\u001b[0;32m      7\u001b[0m \u001b[0mprint\u001b[0m\u001b[1;33m(\u001b[0m\u001b[0mdf\u001b[0m\u001b[1;33m.\u001b[0m\u001b[0mloc\u001b[0m\u001b[1;33m[\u001b[0m\u001b[1;34m'서준'\u001b[0m\u001b[1;33m]\u001b[0m\u001b[1;33m)\u001b[0m\u001b[1;33m\u001b[0m\u001b[1;33m\u001b[0m\u001b[0m\n",
      "\u001b[1;31mNameError\u001b[0m: name 'pd' is not defined"
     ]
    }
   ],
   "source": [
    "#데이터 프레임의 행 데이터 선택 : loc, iloc\n",
    "#행 선택 : loc , 정수형 위치 index : iloc\n",
    "exam_data = {'수학' : [90, 80, 70],'영어' : [98, 89, 95],\\\n",
    "             '음악' : [85, 95, 100],'체육' : [100, 90, 90]}\n",
    "df = pd.DataFrame(exam_data, index=['서준','우현','인아'])\n",
    "\n",
    "print(df.loc['서준'])\n",
    "print()\n",
    "\n",
    "print(df.iloc[0])\n",
    "print()\n",
    "\n",
    "print(df.loc['서준':'인아']) # ['인아']자료도 포함\n",
    "print()\n",
    "\n",
    "print(df.iloc[0:2]) # 첨자 index2의 자료는 포함하지 않음\n",
    "print()\n",
    "\n",
    "print(df['수학']) # 컬럼 인덱스로 검색 \n",
    "print()\n",
    "\n",
    "print(df.수학)\n",
    "print()\n",
    "\n",
    "print(df[['수학','영어']]) # 컬럼 인덱스로 검색\n",
    "\n",
    "df.loc['일남']= [100,90,80,88] \n",
    "# row로 데이터를 추가하는 경우 df.loc[index명] = [값...]\n",
    "print(df)"
   ]
  },
  {
   "cell_type": "code",
   "execution_count": 94,
   "id": "6c66dd98",
   "metadata": {},
   "outputs": [],
   "source": [
    "def input_score():\n",
    "    scores = input(\"국 영 수 점수 입력 >\").split()\n",
    "    for i, score in enumerate(scores):\n",
    "        scores[i] = int(score) #데이터 타입 변환\n",
    "    return scores"
   ]
  },
  {
   "cell_type": "code",
   "execution_count": 104,
   "id": "7eaa2c6e",
   "metadata": {},
   "outputs": [
    {
     "name": "stdout",
     "output_type": "stream",
     "text": [
      "이름 입력, quit -> 종료 :밥\n",
      "국 영 수 점수 입력 >10 20 30\n",
      "이름 입력, quit -> 종료 :샘\n",
      "국 영 수 점수 입력 >20 30 40\n",
      "이름 입력, quit -> 종료 :킴\n",
      "국 영 수 점수 입력 >30 40 50\n",
      "이름 입력, quit -> 종료 :존\n",
      "국 영 수 점수 입력 >40 50 60\n",
      "이름 입력, quit -> 종료 :quit\n"
     ]
    },
    {
     "data": {
      "text/html": [
       "<div>\n",
       "<style scoped>\n",
       "    .dataframe tbody tr th:only-of-type {\n",
       "        vertical-align: middle;\n",
       "    }\n",
       "\n",
       "    .dataframe tbody tr th {\n",
       "        vertical-align: top;\n",
       "    }\n",
       "\n",
       "    .dataframe thead th {\n",
       "        text-align: right;\n",
       "    }\n",
       "</style>\n",
       "<table border=\"1\" class=\"dataframe\">\n",
       "  <thead>\n",
       "    <tr style=\"text-align: right;\">\n",
       "      <th></th>\n",
       "      <th>국어</th>\n",
       "      <th>영어</th>\n",
       "      <th>수학</th>\n",
       "    </tr>\n",
       "  </thead>\n",
       "  <tbody>\n",
       "    <tr>\n",
       "      <th>밥</th>\n",
       "      <td>10</td>\n",
       "      <td>20</td>\n",
       "      <td>30</td>\n",
       "    </tr>\n",
       "    <tr>\n",
       "      <th>샘</th>\n",
       "      <td>20</td>\n",
       "      <td>30</td>\n",
       "      <td>40</td>\n",
       "    </tr>\n",
       "    <tr>\n",
       "      <th>킴</th>\n",
       "      <td>30</td>\n",
       "      <td>40</td>\n",
       "      <td>50</td>\n",
       "    </tr>\n",
       "    <tr>\n",
       "      <th>존</th>\n",
       "      <td>40</td>\n",
       "      <td>50</td>\n",
       "      <td>60</td>\n",
       "    </tr>\n",
       "  </tbody>\n",
       "</table>\n",
       "</div>"
      ],
      "text/plain": [
       "   국어  영어  수학\n",
       "밥  10  20  30\n",
       "샘  20  30  40\n",
       "킴  30  40  50\n",
       "존  40  50  60"
      ]
     },
     "execution_count": 104,
     "metadata": {},
     "output_type": "execute_result"
    }
   ],
   "source": [
    "#문 키보드에서 이름과 국어,영어,수학 점수를 입력받아 이름을 인덱스로 저장하는\n",
    "#    score dataframe을 생성\n",
    "# 결과를 화면에 출력, 이름에 quit 입력되면 입력 종료\n",
    "import pandas as pd\n",
    "\n",
    "df_a =pd.DataFrame(columns=['국어','영어','수학']) # 컬럼명만 부여한 DF생성\n",
    "\n",
    "while True:\n",
    "    name = input(\"이름 입력, quit -> 종료 :\")\n",
    "    if name == 'quit':\n",
    "        break\n",
    "        \n",
    "    score = input_score()\n",
    "    df_a.loc[name] = score # 입력된 name 인덱스로 점수 추가\n",
    "    \n",
    "df_a # 데이터 출력\n",
    "#검색하고자 하는 이름을 입력받아 성적의 합계 출력\n",
    "# 컬럼 접근하는 방법 :  df.컬럼명 또는 df[컬럼명]\n",
    "# row를 접근하는 방법 : df.iloc[인덱스], df.iloc[[1,3,5]]\n",
    "#                       df.iloc[0:3] df.loc['aa':'cc'] df.loc[['aa','cc']]\n",
    "# df.iloc[시작 : 끝 : 간격]\n",
    "# df.loc[인덱스명, 컬럼명], df.iloc[index 번호, column 열 번호]"
   ]
  },
  {
   "cell_type": "code",
   "execution_count": 106,
   "id": "b3f22ba0",
   "metadata": {},
   "outputs": [
    {
     "name": "stdout",
     "output_type": "stream",
     "text": [
      "검색할 이름 입력 :밥\n",
      "밥 : 10, 20, 30, total = 60\n"
     ]
    }
   ],
   "source": [
    "search_name = input('검색할 이름 입력 :')\n",
    "\n",
    "for name in list(df_a.index):\n",
    "    if search_name == name:\n",
    "        kor = df_a.loc[search_name,'국어']\n",
    "        eng = df_a.loc[search_name,'영어']\n",
    "        math = df_a.loc[search_name,'수학']\n",
    "        print(\"{} : {}, {}, {}, total = {}\".format(search_name,kor,eng,math,kor+eng+math))\n",
    "        \n",
    "            "
   ]
  },
  {
   "cell_type": "code",
   "execution_count": 11,
   "id": "2681120a",
   "metadata": {},
   "outputs": [
    {
     "name": "stdout",
     "output_type": "stream",
     "text": [
      "    수학  영어   음악   체육\n",
      "이름                  \n",
      "서준  90  98   85  100\n",
      "우현  80  89   95   90\n",
      "인아  70  95  100   90\n",
      "\n",
      "\n",
      "85\n",
      "85\n",
      "\n",
      "\n",
      "음악     85\n",
      "체육    100\n",
      "Name: 서준, dtype: int64\n",
      "음악     85\n",
      "체육    100\n",
      "Name: 서준, dtype: int64\n",
      "음악     85\n",
      "체육    100\n",
      "Name: 서준, dtype: int64\n",
      "음악     85\n",
      "체육    100\n",
      "Name: 서준, dtype: int64\n",
      "\n",
      "\n",
      "    음악   체육\n",
      "이름         \n",
      "서준  85  100\n",
      "우현  95   90\n",
      "    음악   체육\n",
      "이름         \n",
      "서준  85  100\n",
      "우현  95   90\n",
      "    음악   체육\n",
      "이름         \n",
      "서준  85  100\n",
      "우현  95   90\n",
      "    음악   체육\n",
      "이름         \n",
      "서준  85  100\n",
      "우현  95   90\n",
      "    수학  영어   음악   체육  국어\n",
      "이름                      \n",
      "서준  90  98   85  100  80\n",
      "우현  80  89   95   90  80\n",
      "인아  70  95  100   90  80\n",
      "    음악   체육\n",
      "이름         \n",
      "서준  85  100\n",
      "우현  95   90\n"
     ]
    }
   ],
   "source": [
    "import pandas as pd\n",
    "\n",
    "# DataFrame() 함수로 데이터프레임 변환. 변수 df에 저장 \n",
    "exam_data = {'이름' : [ '서준', '우현', '인아'],\n",
    "             '수학' : [ 90, 80, 70],\n",
    "             '영어' : [ 98, 89, 95],\n",
    "             '음악' : [ 85, 95, 100],\n",
    "             '체육' : [ 100, 90, 90]}\n",
    "df = pd.DataFrame(exam_data)\n",
    "\n",
    "# '이름' 열을 새로운 인덱스로 지정하고, df 객체에 변경사항 반영\n",
    "df.set_index('이름', inplace=True)\n",
    "print(df)\n",
    "print('\\n')\n",
    "\n",
    "# 데이터프레임 df의 특정 원소 1개 선택 ('서준'의 '음악' 점수)\n",
    "a = df.loc['서준', '음악']\n",
    "print(a)\n",
    "b = df.iloc[0, 2]\n",
    "print(b)\n",
    "print('\\n')\n",
    "\n",
    "# 데이터프레임 df의 특정 원소 2개 이상 선택 ('서준'의 '음악', '체육' 점수) \n",
    "c = df.loc['서준', ['음악', '체육']]\n",
    "print(c)\n",
    "d = df.iloc[0, [2, 3]]\n",
    "print(d)\n",
    "e = df.loc['서준', '음악':'체육'] # 음악부터 체육까지\n",
    "print(e)\n",
    "f = df.iloc[0, 2:] \n",
    "print(f)\n",
    "print('\\n')\n",
    "\n",
    "# df의 2개 이상의 행과 열로부터 원소 선택 ('서준', '우현'의 '음악', '체육' 점수) \n",
    "g = df.loc[['서준', '우현'], ['음악', '체육']]\n",
    "print(g)\n",
    "h = df.iloc[[0, 1], [2, 3]]\n",
    "print(h)\n",
    "i = df.loc['서준':'우현', '음악':'체육']\n",
    "print(i)\n",
    "j = df.iloc[0:2, 2:]\n",
    "print(j)\n",
    "\n",
    "# 국어 점수를 모두 80점으로 추가\n",
    "df['국어']=80\n",
    "print(df)\n",
    "\n",
    "df.loc[\"행추가\"] = 0\n",
    "df\n",
    "\n",
    "# df의 2개 이상의 행과 열로부터 원소 선택 ('서준', '우현'의 '음악','체육' 점수)\n",
    "\n",
    "print(df.loc[['서준','우현'],['음악','체육']])"
   ]
  },
  {
   "cell_type": "code",
   "execution_count": null,
   "id": "aaedf125",
   "metadata": {},
   "outputs": [],
   "source": [
    "문)\n",
    "1. 이름을 입력받아 데이터프레임의 인덱스로 저장하고\n",
    "    키와 몸무게를 입력 받아 저장.\n",
    "    키와 몸무게가 float이 입력되지 않으면 다시 입력(type() != float)\n",
    "    이름에 'q'가 입력되면 입력 종료.\n",
    "2. 찾고자 하는 이름을 입력받아 키와 몸무게를 출력\n",
    "    키와 몸무게를 다시 입력받아 기존의 값 변경\n",
    "3. 평균보다 적은 키를 가진 사람의 이름과 키 출력"
   ]
  },
  {
   "cell_type": "code",
   "execution_count": null,
   "id": "2c886956",
   "metadata": {},
   "outputs": [],
   "source": [
    "def input_dataframe(df):\n",
    "    while True:\n",
    "        name = input(\"이름 입력 quit 종료 >  \")\n",
    "        if name == \"quit\":\n",
    "            break\n",
    "\n",
    "        data = input_data()\n",
    "        df.loc[name] = data  # 입력된 name 인덱스로 데이터 추가\n",
    "\n",
    "def input_data():\n",
    "    while True:\n",
    "        values = input(\"키와 몸무게 ex) 170 51.2 > \").split()\n",
    "        if len(values) == 2:\n",
    "           break\n",
    "        else:\n",
    "            print(\"키와 몸무게를 형식에 맞게 입력하세요 \")\n",
    "           \n",
    "    for i, value in enumerate(values):\n",
    "        values[i] = float(value)\n",
    "    return values\n",
    "\n",
    "def search_data(name, df):\n",
    "    for i, idx_name in enumerate(list(df.index)):\n",
    "        if name == idx_name:\n",
    "            return i\n",
    "\n",
    "def print_data(idx, df):\n",
    "    print(\"{} : {}, {}\".format(df.iloc[idx], df.iloc[idx,0], df.iloc[idx,1]))"
   ]
  },
  {
   "cell_type": "code",
   "execution_count": 6,
   "id": "f8cdb875",
   "metadata": {},
   "outputs": [
    {
     "name": "stdout",
     "output_type": "stream",
     "text": [
      "이름 입력 quit 종료 >  김\n",
      "키와 몸무게 ex) 170 51.2 > 김 150 24124.124\n",
      "키와 몸무게를 형식에 맞게 입력하세요 \n",
      "키와 몸무게 ex) 170 51.2 > 김 151 35.1\n",
      "키와 몸무게를 형식에 맞게 입력하세요 \n",
      "키와 몸무게 ex) 170 51.2 > 152 515.1\n",
      "이름 입력 quit 종료 >  나\n",
      "키와 몸무게 ex) 170 51.2 > 231 562112.1\n",
      "이름 입력 quit 종료 >  박\n",
      "키와 몸무게 ex) 170 51.2 > 5345 124.1\n",
      "이름 입력 quit 종료 >  이\n",
      "키와 몸무게 ex) 170 51.2 > 5353 24142.1\n",
      "이름 입력 quit 종료 >  q\n",
      "키와 몸무게 ex) 170 51.2 > quit\n",
      "키와 몸무게를 형식에 맞게 입력하세요 \n",
      "키와 몸무게 ex) 170 51.2 > qui\n",
      "키와 몸무게를 형식에 맞게 입력하세요 \n",
      "키와 몸무게 ex) 170 51.2 > 3 3921\n",
      "이름 입력 quit 종료 >  quit\n",
      "1 : \n",
      "        키       몸무게\n",
      "김   152.0     515.1\n",
      "나   231.0  562112.1\n",
      "박  5345.0     124.1\n",
      "이  5353.0   24142.1\n",
      "q     3.0    3921.0\n"
     ]
    }
   ],
   "source": [
    "import pandas as pd\n",
    "\n",
    "df = pd.DataFrame(columns=[\"키\",\"몸무게\"])\n",
    "\n",
    "input_dataframe(df)  # 자료 입력\n",
    "print(\"1 : \")\n",
    "print(df)"
   ]
  },
  {
   "cell_type": "code",
   "execution_count": 7,
   "id": "c7bf45c5",
   "metadata": {},
   "outputs": [
    {
     "name": "stdout",
     "output_type": "stream",
     "text": [
      "검색할 이름 입력 : 박\n",
      "키      5345.0\n",
      "몸무게     124.1\n",
      "Name: 박, dtype: float64 : 5345.0, 124.1\n",
      "키와 몸무게 ex) 170 51.2 > 156 34\n",
      "2 : \n"
     ]
    },
    {
     "data": {
      "text/html": [
       "<div>\n",
       "<style scoped>\n",
       "    .dataframe tbody tr th:only-of-type {\n",
       "        vertical-align: middle;\n",
       "    }\n",
       "\n",
       "    .dataframe tbody tr th {\n",
       "        vertical-align: top;\n",
       "    }\n",
       "\n",
       "    .dataframe thead th {\n",
       "        text-align: right;\n",
       "    }\n",
       "</style>\n",
       "<table border=\"1\" class=\"dataframe\">\n",
       "  <thead>\n",
       "    <tr style=\"text-align: right;\">\n",
       "      <th></th>\n",
       "      <th>키</th>\n",
       "      <th>몸무게</th>\n",
       "    </tr>\n",
       "  </thead>\n",
       "  <tbody>\n",
       "    <tr>\n",
       "      <th>김</th>\n",
       "      <td>152.0</td>\n",
       "      <td>515.1</td>\n",
       "    </tr>\n",
       "    <tr>\n",
       "      <th>나</th>\n",
       "      <td>231.0</td>\n",
       "      <td>562112.1</td>\n",
       "    </tr>\n",
       "    <tr>\n",
       "      <th>박</th>\n",
       "      <td>156.0</td>\n",
       "      <td>34.0</td>\n",
       "    </tr>\n",
       "    <tr>\n",
       "      <th>이</th>\n",
       "      <td>5353.0</td>\n",
       "      <td>24142.1</td>\n",
       "    </tr>\n",
       "    <tr>\n",
       "      <th>q</th>\n",
       "      <td>3.0</td>\n",
       "      <td>3921.0</td>\n",
       "    </tr>\n",
       "  </tbody>\n",
       "</table>\n",
       "</div>"
      ],
      "text/plain": [
       "        키       몸무게\n",
       "김   152.0     515.1\n",
       "나   231.0  562112.1\n",
       "박   156.0      34.0\n",
       "이  5353.0   24142.1\n",
       "q     3.0    3921.0"
      ]
     },
     "execution_count": 7,
     "metadata": {},
     "output_type": "execute_result"
    }
   ],
   "source": [
    "# 검색하고자 하는 이름 입력\n",
    "search_name = input(\"검색할 이름 입력 : \")\n",
    "idx = search_data(search_name, df)\n",
    "if idx < len(df):\n",
    "    print_data(idx, df)\n",
    "    value = input_data() #  키와 몸무게 입력\n",
    "    df.iloc[idx] = value\n",
    "print(\"2 : \")\n",
    "df"
   ]
  },
  {
   "cell_type": "code",
   "execution_count": 10,
   "id": "263d57ea",
   "metadata": {},
   "outputs": [
    {
     "name": "stdout",
     "output_type": "stream",
     "text": [
      "1179.0\n",
      "3 => 키      152.0\n",
      "몸무게    515.1\n",
      "Name: 김, dtype: float64 : 152.0\n",
      "3 => 키         231.0\n",
      "몸무게    562112.1\n",
      "Name: 나, dtype: float64 : 231.0\n",
      "3 => 키      156.0\n",
      "몸무게     34.0\n",
      "Name: 박, dtype: float64 : 156.0\n",
      "3 => 키         3.0\n",
      "몸무게    3921.0\n",
      "Name: q, dtype: float64 : 3.0\n"
     ]
    }
   ],
   "source": [
    "#평균키보다 적은 키를 가진 사람의 이름과 키를 출력\n",
    "\n",
    "avg_height = sum(df.키)/len(df.키)\n",
    "print(avg_height)\n",
    "for i, height in enumerate(df.키):\n",
    "    if height < avg_height:\n",
    "        print(\"3 => {} : {}\".format(df.iloc[i], df.iloc[i,0]))"
   ]
  }
 ],
 "metadata": {
  "kernelspec": {
   "display_name": "Python 3",
   "language": "python",
   "name": "python3"
  },
  "language_info": {
   "codemirror_mode": {
    "name": "ipython",
    "version": 3
   },
   "file_extension": ".py",
   "mimetype": "text/x-python",
   "name": "python",
   "nbconvert_exporter": "python",
   "pygments_lexer": "ipython3",
   "version": "3.8.8"
  }
 },
 "nbformat": 4,
 "nbformat_minor": 5
}
